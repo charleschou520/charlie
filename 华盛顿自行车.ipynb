{
 "cells": [
  {
   "cell_type": "code",
   "execution_count": 1,
   "metadata": {
    "collapsed": true
   },
   "outputs": [],
   "source": [
    "import pandas as pd\n",
    "import pickle\n",
    "import numpy as np\n",
    "import re\n",
    "from sklearn import linear_model\n",
    "\n",
    "\n",
    "import seaborn as sns\n",
    "import matplotlib.pyplot as plt\n",
    "%matplotlib inline\n",
    "\n",
    "from sklearn.ensemble import RandomForestRegressor\n",
    "from sklearn.svm import SVR\n",
    "from sklearn import linear_model\n",
    "from sklearn import ensemble \n",
    "from sklearn.metrics import mean_squared_error\n",
    "from sklearn.ensemble import BaggingRegressor\n",
    "\n",
    "\n",
    "from sklearn.ensemble import RandomForestRegressor\n",
    "from sklearn.model_selection import KFold\n",
    "import xgboost as xgb\n",
    "from sklearn.model_selection import train_test_split\n",
    "\n",
    "\n",
    "from sklearn.model_selection import GridSearchCV\n",
    "from sklearn.model_selection import cross_val_score, KFold\n",
    "\n",
    "from sklearn.linear_model import Lasso\n",
    "from sklearn.linear_model import Ridge\n",
    "from sklearn.kernel_ridge import KernelRidge\n",
    "from sklearn.svm import SVR\n",
    "from sklearn.ensemble import RandomForestRegressor\n",
    "from sklearn import preprocessing\n",
    "# \n",
    "\n",
    "import os"
   ]
  },
  {
   "cell_type": "markdown",
   "metadata": {},
   "source": [
    "## Read Data"
   ]
  },
  {
   "cell_type": "code",
   "execution_count": 2,
   "metadata": {
    "collapsed": true
   },
   "outputs": [],
   "source": [
    "train=pd.read_csv(r'train.csv', parse_dates=['datetime'])\n",
    "test=pd.read_csv(r'test.csv', parse_dates=['datetime'])"
   ]
  },
  {
   "cell_type": "code",
   "execution_count": 3,
   "metadata": {},
   "outputs": [
    {
     "data": {
      "text/html": [
       "<div>\n",
       "<style scoped>\n",
       "    .dataframe tbody tr th:only-of-type {\n",
       "        vertical-align: middle;\n",
       "    }\n",
       "\n",
       "    .dataframe tbody tr th {\n",
       "        vertical-align: top;\n",
       "    }\n",
       "\n",
       "    .dataframe thead th {\n",
       "        text-align: right;\n",
       "    }\n",
       "</style>\n",
       "<table border=\"1\" class=\"dataframe\">\n",
       "  <thead>\n",
       "    <tr style=\"text-align: right;\">\n",
       "      <th></th>\n",
       "      <th>datetime</th>\n",
       "      <th>season</th>\n",
       "      <th>holiday</th>\n",
       "      <th>workingday</th>\n",
       "      <th>weather</th>\n",
       "      <th>temp</th>\n",
       "      <th>atemp</th>\n",
       "      <th>humidity</th>\n",
       "      <th>windspeed</th>\n",
       "      <th>casual</th>\n",
       "      <th>registered</th>\n",
       "      <th>count</th>\n",
       "    </tr>\n",
       "  </thead>\n",
       "  <tbody>\n",
       "    <tr>\n",
       "      <th>0</th>\n",
       "      <td>2011-01-01 00:00:00</td>\n",
       "      <td>1</td>\n",
       "      <td>0</td>\n",
       "      <td>0</td>\n",
       "      <td>1</td>\n",
       "      <td>9.84</td>\n",
       "      <td>14.395</td>\n",
       "      <td>81</td>\n",
       "      <td>0.0</td>\n",
       "      <td>3</td>\n",
       "      <td>13</td>\n",
       "      <td>16</td>\n",
       "    </tr>\n",
       "    <tr>\n",
       "      <th>1</th>\n",
       "      <td>2011-01-01 01:00:00</td>\n",
       "      <td>1</td>\n",
       "      <td>0</td>\n",
       "      <td>0</td>\n",
       "      <td>1</td>\n",
       "      <td>9.02</td>\n",
       "      <td>13.635</td>\n",
       "      <td>80</td>\n",
       "      <td>0.0</td>\n",
       "      <td>8</td>\n",
       "      <td>32</td>\n",
       "      <td>40</td>\n",
       "    </tr>\n",
       "    <tr>\n",
       "      <th>2</th>\n",
       "      <td>2011-01-01 02:00:00</td>\n",
       "      <td>1</td>\n",
       "      <td>0</td>\n",
       "      <td>0</td>\n",
       "      <td>1</td>\n",
       "      <td>9.02</td>\n",
       "      <td>13.635</td>\n",
       "      <td>80</td>\n",
       "      <td>0.0</td>\n",
       "      <td>5</td>\n",
       "      <td>27</td>\n",
       "      <td>32</td>\n",
       "    </tr>\n",
       "    <tr>\n",
       "      <th>3</th>\n",
       "      <td>2011-01-01 03:00:00</td>\n",
       "      <td>1</td>\n",
       "      <td>0</td>\n",
       "      <td>0</td>\n",
       "      <td>1</td>\n",
       "      <td>9.84</td>\n",
       "      <td>14.395</td>\n",
       "      <td>75</td>\n",
       "      <td>0.0</td>\n",
       "      <td>3</td>\n",
       "      <td>10</td>\n",
       "      <td>13</td>\n",
       "    </tr>\n",
       "    <tr>\n",
       "      <th>4</th>\n",
       "      <td>2011-01-01 04:00:00</td>\n",
       "      <td>1</td>\n",
       "      <td>0</td>\n",
       "      <td>0</td>\n",
       "      <td>1</td>\n",
       "      <td>9.84</td>\n",
       "      <td>14.395</td>\n",
       "      <td>75</td>\n",
       "      <td>0.0</td>\n",
       "      <td>0</td>\n",
       "      <td>1</td>\n",
       "      <td>1</td>\n",
       "    </tr>\n",
       "  </tbody>\n",
       "</table>\n",
       "</div>"
      ],
      "text/plain": [
       "             datetime  season  holiday  workingday  weather  temp   atemp  \\\n",
       "0 2011-01-01 00:00:00       1        0           0        1  9.84  14.395   \n",
       "1 2011-01-01 01:00:00       1        0           0        1  9.02  13.635   \n",
       "2 2011-01-01 02:00:00       1        0           0        1  9.02  13.635   \n",
       "3 2011-01-01 03:00:00       1        0           0        1  9.84  14.395   \n",
       "4 2011-01-01 04:00:00       1        0           0        1  9.84  14.395   \n",
       "\n",
       "   humidity  windspeed  casual  registered  count  \n",
       "0        81        0.0       3          13     16  \n",
       "1        80        0.0       8          32     40  \n",
       "2        80        0.0       5          27     32  \n",
       "3        75        0.0       3          10     13  \n",
       "4        75        0.0       0           1      1  "
      ]
     },
     "execution_count": 3,
     "metadata": {},
     "output_type": "execute_result"
    }
   ],
   "source": [
    "train.head()"
   ]
  },
  {
   "cell_type": "code",
   "execution_count": 4,
   "metadata": {},
   "outputs": [
    {
     "data": {
      "text/html": [
       "<div>\n",
       "<style scoped>\n",
       "    .dataframe tbody tr th:only-of-type {\n",
       "        vertical-align: middle;\n",
       "    }\n",
       "\n",
       "    .dataframe tbody tr th {\n",
       "        vertical-align: top;\n",
       "    }\n",
       "\n",
       "    .dataframe thead th {\n",
       "        text-align: right;\n",
       "    }\n",
       "</style>\n",
       "<table border=\"1\" class=\"dataframe\">\n",
       "  <thead>\n",
       "    <tr style=\"text-align: right;\">\n",
       "      <th></th>\n",
       "      <th>datetime</th>\n",
       "      <th>season</th>\n",
       "      <th>holiday</th>\n",
       "      <th>workingday</th>\n",
       "      <th>weather</th>\n",
       "      <th>temp</th>\n",
       "      <th>atemp</th>\n",
       "      <th>humidity</th>\n",
       "      <th>windspeed</th>\n",
       "    </tr>\n",
       "  </thead>\n",
       "  <tbody>\n",
       "    <tr>\n",
       "      <th>0</th>\n",
       "      <td>2011-01-20 00:00:00</td>\n",
       "      <td>1</td>\n",
       "      <td>0</td>\n",
       "      <td>1</td>\n",
       "      <td>1</td>\n",
       "      <td>10.66</td>\n",
       "      <td>11.365</td>\n",
       "      <td>56</td>\n",
       "      <td>26.0027</td>\n",
       "    </tr>\n",
       "    <tr>\n",
       "      <th>1</th>\n",
       "      <td>2011-01-20 01:00:00</td>\n",
       "      <td>1</td>\n",
       "      <td>0</td>\n",
       "      <td>1</td>\n",
       "      <td>1</td>\n",
       "      <td>10.66</td>\n",
       "      <td>13.635</td>\n",
       "      <td>56</td>\n",
       "      <td>0.0000</td>\n",
       "    </tr>\n",
       "    <tr>\n",
       "      <th>2</th>\n",
       "      <td>2011-01-20 02:00:00</td>\n",
       "      <td>1</td>\n",
       "      <td>0</td>\n",
       "      <td>1</td>\n",
       "      <td>1</td>\n",
       "      <td>10.66</td>\n",
       "      <td>13.635</td>\n",
       "      <td>56</td>\n",
       "      <td>0.0000</td>\n",
       "    </tr>\n",
       "    <tr>\n",
       "      <th>3</th>\n",
       "      <td>2011-01-20 03:00:00</td>\n",
       "      <td>1</td>\n",
       "      <td>0</td>\n",
       "      <td>1</td>\n",
       "      <td>1</td>\n",
       "      <td>10.66</td>\n",
       "      <td>12.880</td>\n",
       "      <td>56</td>\n",
       "      <td>11.0014</td>\n",
       "    </tr>\n",
       "    <tr>\n",
       "      <th>4</th>\n",
       "      <td>2011-01-20 04:00:00</td>\n",
       "      <td>1</td>\n",
       "      <td>0</td>\n",
       "      <td>1</td>\n",
       "      <td>1</td>\n",
       "      <td>10.66</td>\n",
       "      <td>12.880</td>\n",
       "      <td>56</td>\n",
       "      <td>11.0014</td>\n",
       "    </tr>\n",
       "  </tbody>\n",
       "</table>\n",
       "</div>"
      ],
      "text/plain": [
       "             datetime  season  holiday  workingday  weather   temp   atemp  \\\n",
       "0 2011-01-20 00:00:00       1        0           1        1  10.66  11.365   \n",
       "1 2011-01-20 01:00:00       1        0           1        1  10.66  13.635   \n",
       "2 2011-01-20 02:00:00       1        0           1        1  10.66  13.635   \n",
       "3 2011-01-20 03:00:00       1        0           1        1  10.66  12.880   \n",
       "4 2011-01-20 04:00:00       1        0           1        1  10.66  12.880   \n",
       "\n",
       "   humidity  windspeed  \n",
       "0        56    26.0027  \n",
       "1        56     0.0000  \n",
       "2        56     0.0000  \n",
       "3        56    11.0014  \n",
       "4        56    11.0014  "
      ]
     },
     "execution_count": 4,
     "metadata": {},
     "output_type": "execute_result"
    }
   ],
   "source": [
    "test.head()"
   ]
  },
  {
   "cell_type": "code",
   "execution_count": 5,
   "metadata": {},
   "outputs": [
    {
     "data": {
      "text/html": [
       "<div>\n",
       "<style scoped>\n",
       "    .dataframe tbody tr th:only-of-type {\n",
       "        vertical-align: middle;\n",
       "    }\n",
       "\n",
       "    .dataframe tbody tr th {\n",
       "        vertical-align: top;\n",
       "    }\n",
       "\n",
       "    .dataframe thead th {\n",
       "        text-align: right;\n",
       "    }\n",
       "</style>\n",
       "<table border=\"1\" class=\"dataframe\">\n",
       "  <thead>\n",
       "    <tr style=\"text-align: right;\">\n",
       "      <th></th>\n",
       "      <th>datetime</th>\n",
       "      <th>season</th>\n",
       "      <th>holiday</th>\n",
       "      <th>workingday</th>\n",
       "      <th>weather</th>\n",
       "      <th>temp</th>\n",
       "      <th>atemp</th>\n",
       "      <th>humidity</th>\n",
       "      <th>windspeed</th>\n",
       "      <th>count</th>\n",
       "    </tr>\n",
       "  </thead>\n",
       "  <tbody>\n",
       "    <tr>\n",
       "      <th>0</th>\n",
       "      <td>2011-01-01 00:00:00</td>\n",
       "      <td>1</td>\n",
       "      <td>0</td>\n",
       "      <td>0</td>\n",
       "      <td>1</td>\n",
       "      <td>9.84</td>\n",
       "      <td>14.395</td>\n",
       "      <td>81</td>\n",
       "      <td>0.0</td>\n",
       "      <td>16</td>\n",
       "    </tr>\n",
       "    <tr>\n",
       "      <th>1</th>\n",
       "      <td>2011-01-01 01:00:00</td>\n",
       "      <td>1</td>\n",
       "      <td>0</td>\n",
       "      <td>0</td>\n",
       "      <td>1</td>\n",
       "      <td>9.02</td>\n",
       "      <td>13.635</td>\n",
       "      <td>80</td>\n",
       "      <td>0.0</td>\n",
       "      <td>40</td>\n",
       "    </tr>\n",
       "    <tr>\n",
       "      <th>2</th>\n",
       "      <td>2011-01-01 02:00:00</td>\n",
       "      <td>1</td>\n",
       "      <td>0</td>\n",
       "      <td>0</td>\n",
       "      <td>1</td>\n",
       "      <td>9.02</td>\n",
       "      <td>13.635</td>\n",
       "      <td>80</td>\n",
       "      <td>0.0</td>\n",
       "      <td>32</td>\n",
       "    </tr>\n",
       "    <tr>\n",
       "      <th>3</th>\n",
       "      <td>2011-01-01 03:00:00</td>\n",
       "      <td>1</td>\n",
       "      <td>0</td>\n",
       "      <td>0</td>\n",
       "      <td>1</td>\n",
       "      <td>9.84</td>\n",
       "      <td>14.395</td>\n",
       "      <td>75</td>\n",
       "      <td>0.0</td>\n",
       "      <td>13</td>\n",
       "    </tr>\n",
       "    <tr>\n",
       "      <th>4</th>\n",
       "      <td>2011-01-01 04:00:00</td>\n",
       "      <td>1</td>\n",
       "      <td>0</td>\n",
       "      <td>0</td>\n",
       "      <td>1</td>\n",
       "      <td>9.84</td>\n",
       "      <td>14.395</td>\n",
       "      <td>75</td>\n",
       "      <td>0.0</td>\n",
       "      <td>1</td>\n",
       "    </tr>\n",
       "  </tbody>\n",
       "</table>\n",
       "</div>"
      ],
      "text/plain": [
       "             datetime  season  holiday  workingday  weather  temp   atemp  \\\n",
       "0 2011-01-01 00:00:00       1        0           0        1  9.84  14.395   \n",
       "1 2011-01-01 01:00:00       1        0           0        1  9.02  13.635   \n",
       "2 2011-01-01 02:00:00       1        0           0        1  9.02  13.635   \n",
       "3 2011-01-01 03:00:00       1        0           0        1  9.84  14.395   \n",
       "4 2011-01-01 04:00:00       1        0           0        1  9.84  14.395   \n",
       "\n",
       "   humidity  windspeed  count  \n",
       "0        81        0.0     16  \n",
       "1        80        0.0     40  \n",
       "2        80        0.0     32  \n",
       "3        75        0.0     13  \n",
       "4        75        0.0      1  "
      ]
     },
     "execution_count": 5,
     "metadata": {},
     "output_type": "execute_result"
    }
   ],
   "source": [
    "train = train.drop(['casual','registered'],axis=1)\n",
    "train.head()"
   ]
  },
  {
   "cell_type": "code",
   "execution_count": 6,
   "metadata": {
    "collapsed": true
   },
   "outputs": [],
   "source": [
    "def rmsle(y_log, y0_log):\n",
    "    return np.sqrt(np.mean(np.square(y_log - y0_log)))\n",
    "\n"
   ]
  },
  {
   "cell_type": "markdown",
   "metadata": {
    "collapsed": true
   },
   "source": [
    "## Feature Engineering"
   ]
  },
  {
   "cell_type": "code",
   "execution_count": 7,
   "metadata": {
    "collapsed": true
   },
   "outputs": [],
   "source": [
    "# remove outlier\n",
    "train = train[np.abs(train[\"count\"]-train[\"count\"].mean())<=(3*train[\"count\"].std())] "
   ]
  },
  {
   "cell_type": "code",
   "execution_count": 8,
   "metadata": {
    "collapsed": true
   },
   "outputs": [],
   "source": [
    "for df in (train,test):\n",
    "    \n",
    "    df['year'] = df['datetime'].dt.year\n",
    "    df['month'] = df['datetime'].dt.month\n",
    "    df['day'] = df['datetime'].dt.day\n",
    "    df['hr'] = df['datetime'].dt.hour\n",
    "\n",
    "    df['hr_categori'] = np.nan\n",
    "    df.loc[(df.workingday == 1)&(df.hr <= 9)&(df.hr >= 7), 'hr_categori'] = \"rush\"\n",
    "    df.loc[(df.workingday == 1)&(df.hr <= 19)&(df.hr >= 16), 'hr_categori'] = \"rush\"\n",
    "    df.loc[(df.workingday == 1)&(df.hr < 16)&(df.hr > 9), 'hr_categori'] = \"day\"\n",
    "    df.loc[(df.workingday == 1)&(df.hr < 7)|(df.hr > 19), 'hr_categori'] = \"night\"\n",
    "  "
   ]
  },
  {
   "cell_type": "markdown",
   "metadata": {},
   "source": [
    "#### Hour"
   ]
  },
  {
   "cell_type": "code",
   "execution_count": 9,
   "metadata": {
    "scrolled": true
   },
   "outputs": [
    {
     "name": "stderr",
     "output_type": "stream",
     "text": [
      "/Users/pan/anaconda3/envs/py37/lib/python3.6/site-packages/seaborn/categorical.py:3666: UserWarning: The `factorplot` function has been renamed to `catplot`. The original name will be removed in a future release. Please update your code. Note that the default `kind` in `factorplot` (`'point'`) has changed `'strip'` in `catplot`.\n",
      "  warnings.warn(msg)\n",
      "/Users/pan/anaconda3/envs/py37/lib/python3.6/site-packages/seaborn/categorical.py:3672: UserWarning: The `size` paramter has been renamed to `height`; please update your code.\n",
      "  warnings.warn(msg, UserWarning)\n",
      "/Users/pan/anaconda3/envs/py37/lib/python3.6/site-packages/scipy/stats/stats.py:1713: FutureWarning: Using a non-tuple sequence for multidimensional indexing is deprecated; use `arr[tuple(seq)]` instead of `arr[seq]`. In the future this will be interpreted as an array index, `arr[np.array(seq)]`, which will result either in an error or a different result.\n",
      "  return np.add.reduce(sorted[indexer] * weights, axis=axis) / sumval\n"
     ]
    },
    {
     "data": {
      "text/plain": [
       "<seaborn.axisgrid.FacetGrid at 0x108a8c390>"
      ]
     },
     "execution_count": 9,
     "metadata": {},
     "output_type": "execute_result"
    },
    {
     "data": {
      "image/png": "[encoded data removed]",
      "text/plain": [
       "<Figure size 540x360 with 1 Axes>"
      ]
     },
     "metadata": {
      "needs_background": "light"
     },
     "output_type": "display_data"
    }
   ],
   "source": [
    "sns.factorplot(x=\"hr\",y=\"count\",data=train,kind='bar',size=5,aspect=1.5)"
   ]
  },
  {
   "cell_type": "markdown",
   "metadata": {},
   "source": [
    "#### Month"
   ]
  },
  {
   "cell_type": "code",
   "execution_count": 10,
   "metadata": {},
   "outputs": [
    {
     "name": "stderr",
     "output_type": "stream",
     "text": [
      "/Users/pan/anaconda3/envs/py37/lib/python3.6/site-packages/seaborn/categorical.py:3666: UserWarning: The `factorplot` function has been renamed to `catplot`. The original name will be removed in a future release. Please update your code. Note that the default `kind` in `factorplot` (`'point'`) has changed `'strip'` in `catplot`.\n",
      "  warnings.warn(msg)\n",
      "/Users/pan/anaconda3/envs/py37/lib/python3.6/site-packages/seaborn/categorical.py:3672: UserWarning: The `size` paramter has been renamed to `height`; please update your code.\n",
      "  warnings.warn(msg, UserWarning)\n"
     ]
    },
    {
     "data": {
      "text/plain": [
       "<seaborn.axisgrid.FacetGrid at 0x1a1dfc5048>"
      ]
     },
     "execution_count": 10,
     "metadata": {},
     "output_type": "execute_result"
    },
    {
     "data": {
      "image/png": "[encoded data removed]",
      "text/plain": [
       "<Figure size 540x360 with 1 Axes>"
      ]
     },
     "metadata": {
      "needs_background": "light"
     },
     "output_type": "display_data"
    }
   ],
   "source": [
    "sns.factorplot(x=\"month\",y=\"count\",data=train,kind='bar',size=5,aspect=1.5)"
   ]
  },
  {
   "cell_type": "markdown",
   "metadata": {},
   "source": [
    "#### Year"
   ]
  },
  {
   "cell_type": "code",
   "execution_count": 11,
   "metadata": {},
   "outputs": [
    {
     "name": "stderr",
     "output_type": "stream",
     "text": [
      "/Users/pan/anaconda3/envs/py37/lib/python3.6/site-packages/seaborn/categorical.py:3666: UserWarning: The `factorplot` function has been renamed to `catplot`. The original name will be removed in a future release. Please update your code. Note that the default `kind` in `factorplot` (`'point'`) has changed `'strip'` in `catplot`.\n",
      "  warnings.warn(msg)\n",
      "/Users/pan/anaconda3/envs/py37/lib/python3.6/site-packages/seaborn/categorical.py:3672: UserWarning: The `size` paramter has been renamed to `height`; please update your code.\n",
      "  warnings.warn(msg, UserWarning)\n"
     ]
    },
    {
     "data": {
      "text/plain": [
       "<seaborn.axisgrid.FacetGrid at 0x1a1e00da20>"
      ]
     },
     "execution_count": 11,
     "metadata": {},
     "output_type": "execute_result"
    },
    {
     "data": {
      "image/png": "[encoded data removed]",
      "text/plain": [
       "<Figure size 540x360 with 1 Axes>"
      ]
     },
     "metadata": {
      "needs_background": "light"
     },
     "output_type": "display_data"
    }
   ],
   "source": [
    "sns.factorplot(x=\"year\",y=\"count\",data=train,kind='bar',size=5,aspect=1.5)\n"
   ]
  },
  {
   "cell_type": "markdown",
   "metadata": {},
   "source": [
    "#### Temp"
   ]
  },
  {
   "cell_type": "code",
   "execution_count": 12,
   "metadata": {},
   "outputs": [
    {
     "name": "stderr",
     "output_type": "stream",
     "text": [
      "/Users/pan/anaconda3/envs/py37/lib/python3.6/site-packages/seaborn/categorical.py:3666: UserWarning: The `factorplot` function has been renamed to `catplot`. The original name will be removed in a future release. Please update your code. Note that the default `kind` in `factorplot` (`'point'`) has changed `'strip'` in `catplot`.\n",
      "  warnings.warn(msg)\n"
     ]
    },
    {
     "data": {
      "text/plain": [
       "<seaborn.axisgrid.FacetGrid at 0x1a1cc1af98>"
      ]
     },
     "execution_count": 12,
     "metadata": {},
     "output_type": "execute_result"
    },
    {
     "data": {
      "image/png": "[encoded data removed]",
      "text/plain": [
       "<Figure size 360x360 with 1 Axes>"
      ]
     },
     "metadata": {
      "needs_background": "light"
     },
     "output_type": "display_data"
    }
   ],
   "source": [
    "new_df=train.copy()\n",
    "\n",
    "new_df['temp_bin']=np.floor(new_df['temp'])//3\n",
    "\n",
    "sns.factorplot(x=\"temp_bin\",y=\"count\",data=new_df,kind='bar')"
   ]
  },
  {
   "cell_type": "markdown",
   "metadata": {},
   "source": [
    "#### humidity"
   ]
  },
  {
   "cell_type": "code",
   "execution_count": 13,
   "metadata": {},
   "outputs": [
    {
     "name": "stderr",
     "output_type": "stream",
     "text": [
      "/Users/pan/anaconda3/envs/py37/lib/python3.6/site-packages/seaborn/categorical.py:3666: UserWarning: The `factorplot` function has been renamed to `catplot`. The original name will be removed in a future release. Please update your code. Note that the default `kind` in `factorplot` (`'point'`) has changed `'strip'` in `catplot`.\n",
      "  warnings.warn(msg)\n"
     ]
    },
    {
     "data": {
      "text/plain": [
       "<seaborn.axisgrid.FacetGrid at 0x1a1e00d5f8>"
      ]
     },
     "execution_count": 13,
     "metadata": {},
     "output_type": "execute_result"
    },
    {
     "data": {
      "image/png": "[encoded data removed]",
      "text/plain": [
       "<Figure size 360x360 with 1 Axes>"
      ]
     },
     "metadata": {
      "needs_background": "light"
     },
     "output_type": "display_data"
    }
   ],
   "source": [
    "new_df=train.copy()\n",
    "\n",
    "new_df['humidity_bin']=np.floor(new_df['humidity'])//5\n",
    "\n",
    "sns.factorplot(x=\"humidity_bin\",y=\"count\",data=new_df,kind='bar')"
   ]
  },
  {
   "cell_type": "code",
   "execution_count": 14,
   "metadata": {
    "collapsed": true
   },
   "outputs": [],
   "source": [
    "for df in (train,test):\n",
    "    \n",
    "    df['humi_categori'] = np.nan\n",
    "    df.loc[df.humidity < 15, 'humi_categori'] = 'low'\n",
    "    df.loc[(df.humidity <= 85)&(df.humidity >= 15), 'humi_categori'] = 'normal'\n",
    "    df.loc[(df.humidity >= 85), 'humi_categori'] = 'high'\n",
    "\n",
    "  "
   ]
  },
  {
   "cell_type": "markdown",
   "metadata": {},
   "source": [
    "#### Windspeed"
   ]
  },
  {
   "cell_type": "code",
   "execution_count": 15,
   "metadata": {},
   "outputs": [
    {
     "data": {
      "text/html": [
       "<div>\n",
       "<style scoped>\n",
       "    .dataframe tbody tr th:only-of-type {\n",
       "        vertical-align: middle;\n",
       "    }\n",
       "\n",
       "    .dataframe tbody tr th {\n",
       "        vertical-align: top;\n",
       "    }\n",
       "\n",
       "    .dataframe thead th {\n",
       "        text-align: right;\n",
       "    }\n",
       "</style>\n",
       "<table border=\"1\" class=\"dataframe\">\n",
       "  <thead>\n",
       "    <tr style=\"text-align: right;\">\n",
       "      <th></th>\n",
       "      <th>datetime</th>\n",
       "      <th>season</th>\n",
       "      <th>holiday</th>\n",
       "      <th>workingday</th>\n",
       "      <th>weather</th>\n",
       "      <th>temp</th>\n",
       "      <th>atemp</th>\n",
       "      <th>humidity</th>\n",
       "      <th>windspeed</th>\n",
       "      <th>count</th>\n",
       "      <th>year</th>\n",
       "      <th>month</th>\n",
       "      <th>day</th>\n",
       "      <th>hr</th>\n",
       "      <th>hr_categori</th>\n",
       "      <th>humi_categori</th>\n",
       "    </tr>\n",
       "  </thead>\n",
       "  <tbody>\n",
       "    <tr>\n",
       "      <th>760</th>\n",
       "      <td>2011-02-15 01:00:00</td>\n",
       "      <td>1</td>\n",
       "      <td>0</td>\n",
       "      <td>1</td>\n",
       "      <td>1</td>\n",
       "      <td>12.30</td>\n",
       "      <td>12.12</td>\n",
       "      <td>42</td>\n",
       "      <td>51.9987</td>\n",
       "      <td>5</td>\n",
       "      <td>2011</td>\n",
       "      <td>2</td>\n",
       "      <td>15</td>\n",
       "      <td>1</td>\n",
       "      <td>night</td>\n",
       "      <td>normal</td>\n",
       "    </tr>\n",
       "    <tr>\n",
       "      <th>868</th>\n",
       "      <td>2011-02-19 15:00:00</td>\n",
       "      <td>1</td>\n",
       "      <td>0</td>\n",
       "      <td>0</td>\n",
       "      <td>1</td>\n",
       "      <td>18.04</td>\n",
       "      <td>21.97</td>\n",
       "      <td>16</td>\n",
       "      <td>50.0021</td>\n",
       "      <td>171</td>\n",
       "      <td>2011</td>\n",
       "      <td>2</td>\n",
       "      <td>19</td>\n",
       "      <td>15</td>\n",
       "      <td>NaN</td>\n",
       "      <td>normal</td>\n",
       "    </tr>\n",
       "    <tr>\n",
       "      <th>2755</th>\n",
       "      <td>2011-07-03 17:00:00</td>\n",
       "      <td>3</td>\n",
       "      <td>0</td>\n",
       "      <td>0</td>\n",
       "      <td>3</td>\n",
       "      <td>32.80</td>\n",
       "      <td>37.12</td>\n",
       "      <td>49</td>\n",
       "      <td>56.9969</td>\n",
       "      <td>358</td>\n",
       "      <td>2011</td>\n",
       "      <td>7</td>\n",
       "      <td>3</td>\n",
       "      <td>17</td>\n",
       "      <td>NaN</td>\n",
       "      <td>normal</td>\n",
       "    </tr>\n",
       "    <tr>\n",
       "      <th>2756</th>\n",
       "      <td>2011-07-03 18:00:00</td>\n",
       "      <td>3</td>\n",
       "      <td>0</td>\n",
       "      <td>0</td>\n",
       "      <td>3</td>\n",
       "      <td>32.80</td>\n",
       "      <td>37.12</td>\n",
       "      <td>49</td>\n",
       "      <td>56.9969</td>\n",
       "      <td>181</td>\n",
       "      <td>2011</td>\n",
       "      <td>7</td>\n",
       "      <td>3</td>\n",
       "      <td>18</td>\n",
       "      <td>NaN</td>\n",
       "      <td>normal</td>\n",
       "    </tr>\n",
       "  </tbody>\n",
       "</table>\n",
       "</div>"
      ],
      "text/plain": [
       "                datetime  season  holiday  workingday  weather   temp  atemp  \\\n",
       "760  2011-02-15 01:00:00       1        0           1        1  12.30  12.12   \n",
       "868  2011-02-19 15:00:00       1        0           0        1  18.04  21.97   \n",
       "2755 2011-07-03 17:00:00       3        0           0        3  32.80  37.12   \n",
       "2756 2011-07-03 18:00:00       3        0           0        3  32.80  37.12   \n",
       "\n",
       "      humidity  windspeed  count  year  month  day  hr hr_categori  \\\n",
       "760         42    51.9987      5  2011      2   15   1       night   \n",
       "868         16    50.0021    171  2011      2   19  15         NaN   \n",
       "2755        49    56.9969    358  2011      7    3  17         NaN   \n",
       "2756        49    56.9969    181  2011      7    3  18         NaN   \n",
       "\n",
       "     humi_categori  \n",
       "760         normal  \n",
       "868         normal  \n",
       "2755        normal  \n",
       "2756        normal  "
      ]
     },
     "execution_count": 15,
     "metadata": {},
     "output_type": "execute_result"
    }
   ],
   "source": [
    "train[train['windspeed']>=48]"
   ]
  },
  {
   "cell_type": "code",
   "execution_count": 16,
   "metadata": {},
   "outputs": [
    {
     "name": "stderr",
     "output_type": "stream",
     "text": [
      "/Users/pan/anaconda3/envs/py37/lib/python3.6/site-packages/seaborn/categorical.py:3666: UserWarning: The `factorplot` function has been renamed to `catplot`. The original name will be removed in a future release. Please update your code. Note that the default `kind` in `factorplot` (`'point'`) has changed `'strip'` in `catplot`.\n",
      "  warnings.warn(msg)\n"
     ]
    },
    {
     "data": {
      "text/plain": [
       "<seaborn.axisgrid.FacetGrid at 0x1a1da5a828>"
      ]
     },
     "execution_count": 16,
     "metadata": {},
     "output_type": "execute_result"
    },
    {
     "data": {
      "image/png": "[encoded data removed]",
      "text/plain": [
       "<Figure size 360x360 with 1 Axes>"
      ]
     },
     "metadata": {
      "needs_background": "light"
     },
     "output_type": "display_data"
    }
   ],
   "source": [
    "new_df=train.copy()\n",
    "\n",
    "new_df['windspeed_bin']=np.floor(new_df['windspeed'])//3\n",
    "sns.factorplot(x=\"windspeed_bin\",y=\"count\",data=new_df,kind='bar')"
   ]
  },
  {
   "cell_type": "code",
   "execution_count": 17,
   "metadata": {
    "collapsed": true
   },
   "outputs": [],
   "source": [
    "for df in (train,test):\n",
    "    \n",
    "    df['wind_categori'] = np.nan\n",
    "    df.loc[df.windspeed < 15, 'wind_categori'] = 'normal'\n",
    "    df.loc[(df.windspeed >= 50), 'wind_categori'] = 'high'\n"
   ]
  },
  {
   "cell_type": "code",
   "execution_count": 18,
   "metadata": {
    "collapsed": true
   },
   "outputs": [],
   "source": [
    "weather_train = pd.get_dummies(train['weather'], prefix='wea', prefix_sep='_')\n",
    "weather_test = pd.get_dummies(test['weather'], prefix='wea', prefix_sep='_')\n",
    "\n",
    "season_train = pd.get_dummies(train['season'], prefix='sea', prefix_sep='_')\n",
    "season_test = pd.get_dummies(test['season'], prefix='sea', prefix_sep='_')\n",
    "\n",
    "year_train = pd.get_dummies(train['year'], prefix='year', prefix_sep='_')\n",
    "year_test = pd.get_dummies(test['year'], prefix='year', prefix_sep='_')\n",
    "\n",
    "wind_categori_train = pd.get_dummies(train['wind_categori'], prefix='wind_cate', prefix_sep='_')\n",
    "wind_categori_test = pd.get_dummies(test['wind_categori'], prefix='wind_cate', prefix_sep='_')\n",
    "\n",
    "humi_categori_train = pd.get_dummies(train['humi_categori'], prefix='humi_cate', prefix_sep='_')\n",
    "humi_categori_test = pd.get_dummies(test['humi_categori'], prefix='humi_cate', prefix_sep='_')\n",
    "\n",
    "hr_categori_train = pd.get_dummies(train['hr_categori'], prefix='hr_cate', prefix_sep='_')\n",
    "hr_categori_test = pd.get_dummies(test['hr_categori'], prefix='hr_cate', prefix_sep='_')"
   ]
  },
  {
   "cell_type": "code",
   "execution_count": 19,
   "metadata": {
    "collapsed": true
   },
   "outputs": [],
   "source": [
    "Train_Master = pd.concat([train,\n",
    "                          weather_train,\n",
    "                          season_train,\n",
    "                          year_train,\n",
    "                          wind_categori_train,\n",
    "                          humi_categori_train,\n",
    "                          hr_categori_train\n",
    "                         ], axis=1)"
   ]
  },
  {
   "cell_type": "code",
   "execution_count": 20,
   "metadata": {
    "collapsed": true
   },
   "outputs": [],
   "source": [
    "Test_Master = pd.concat([test,\n",
    "                          weather_test,\n",
    "                          season_test,\n",
    "                          year_test,\n",
    "                          wind_categori_test,\n",
    "                          humi_categori_test,\n",
    "                          hr_categori_test\n",
    "                         ], axis=1)"
   ]
  },
  {
   "cell_type": "code",
   "execution_count": 21,
   "metadata": {
    "collapsed": true
   },
   "outputs": [],
   "source": [
    "# Train_Master = Train_Master.drop(['weather','season','datetime','year','month','hr','hr_categori'], axis = 1)\n",
    "# Test_Master = Test_Master.drop(['weather','season','datetime','year','month','hr','hr_categori'], axis = 1)\n",
    "\n",
    "Train_Master = Train_Master.drop(['weather','season','year','datetime','hr_categori','humi_categori','wind_categori'], axis = 1)\n",
    "Test_Master = Test_Master.drop(['weather','season','year','datetime','hr_categori','humi_categori','wind_categori'], axis = 1)\n",
    "\n",
    "Train, Test = train_test_split(Train_Master, test_size = 0.3)"
   ]
  },
  {
   "cell_type": "code",
   "execution_count": 22,
   "metadata": {
    "collapsed": true
   },
   "outputs": [],
   "source": [
    "\n",
    "X_train = Train.drop(['count'], axis=1)\n",
    "Y_train = Train['count']\n",
    "Y_train_log = Train['count'].apply(lambda x:np.log1p(x))\n",
    "\n",
    "X_test = Test.drop(['count'], axis=1)\n",
    "Y_test = Test[\"count\"]\n",
    "Y_test_log = Test[\"count\"].apply(lambda x:np.log1p(x))\n",
    "\n",
    "Y_test = Y_test.reset_index().drop('index',axis = 1)\n",
    "Y_train = Y_train.reset_index().drop('index',axis = 1)"
   ]
  },
  {
   "cell_type": "markdown",
   "metadata": {
    "collapsed": true
   },
   "source": [
    "## auto tuning"
   ]
  },
  {
   "cell_type": "code",
   "execution_count": 23,
   "metadata": {
    "collapsed": true
   },
   "outputs": [],
   "source": [
    "def lasso_autotune(X,y):\n",
    "\t\n",
    "\tparam_test = {\n",
    "\t 'max_iter':[5000],\n",
    "\t 'alpha':[1e-10, 1e-8, 1e-4,1e-2, 1, 5, 10, 100, 500, 1000]\n",
    "\t}\n",
    "\n",
    "\tgsearch = GridSearchCV(Lasso(fit_intercept=True, normalize=True, selection='random'),refit=True,\n",
    "\t                        param_grid = param_test, scoring='neg_mean_squared_error',iid=True, cv=5)\n",
    "\tgsearch.fit(X,y)\n",
    "\tprint('____________________________________________')\n",
    "\tprint('tune lasso')\n",
    "\tprint('____________________________________________')\n",
    "\tprint(gsearch.cv_results_)\n",
    "\tprint(gsearch.best_params_)\n",
    "\tprint(gsearch.best_score_)\n",
    "\tprint(rmsle(gsearch.predict(X),y))\n",
    "\n",
    "\treturn gsearch.best_estimator_"
   ]
  },
  {
   "cell_type": "code",
   "execution_count": 24,
   "metadata": {
    "collapsed": true
   },
   "outputs": [],
   "source": [
    "def ridge_autotune(X,y):\n",
    "\t\n",
    "\tparam_test = {\n",
    "\t 'max_iter':[5000],        \n",
    "\t 'alpha':[1e-10, 1e-8, 1e-4,1e-2, 1, 5, 10, 100],\n",
    "\t 'solver':['auto', 'svd', 'cholesky', 'lsqr', 'sparse_cg', 'sag', 'saga']\n",
    "\t}\n",
    "\n",
    "\tgsearch = GridSearchCV(Ridge(),refit=True,\n",
    "\t                        param_grid = param_test, scoring='neg_mean_squared_error',iid=True, cv=5)\n",
    "\tgsearch.fit(X,y)\n",
    "\tprint('____________________________________________')\n",
    "\tprint('tune ridge')\n",
    "\tprint('____________________________________________')\n",
    "\tprint(gsearch.cv_results_)\n",
    "\tprint(gsearch.best_params_)\n",
    "\tprint(gsearch.best_score_)\n",
    "\tprint(rmsle(gsearch.predict(X),y))\n",
    "\n",
    "\treturn gsearch.best_estimator_"
   ]
  },
  {
   "cell_type": "code",
   "execution_count": 25,
   "metadata": {
    "collapsed": true
   },
   "outputs": [],
   "source": [
    "def svr_autotune(X,y):\n",
    "\n",
    "\tparam_test = {\n",
    "\t 'kernel':['rbf','linear','sigmoid'],\n",
    "\t 'gamma':np.logspace(-7, 2, 3),\n",
    "\t 'epsilon':[0.1,0.3,0.5],\n",
    "\t 'C':np.logspace(-2, 7, 3),\n",
    "\t}\n",
    "\n",
    "\tgsearch = GridSearchCV(SVR(),refit=True,\n",
    "\t                        param_grid = param_test, scoring='neg_mean_squared_error',iid=True, cv=5)\n",
    "\tgsearch.fit(X,y)\n",
    "\tprint('____________________________________________')\n",
    "\tprint('tune svr')\n",
    "\tprint('____________________________________________')\n",
    "\tprint(gsearch.cv_results_)\n",
    "\tprint(gsearch.best_params_)\n",
    "\tprint(gsearch.best_score_)\n",
    "\tprint(rmsle(gsearch.predict(X),y))\n",
    "\n",
    "\treturn gsearch.best_estimator_"
   ]
  },
  {
   "cell_type": "code",
   "execution_count": 26,
   "metadata": {
    "collapsed": true
   },
   "outputs": [],
   "source": [
    "def random_forest_autotune(X,y):\n",
    "\n",
    "\tparam_test = {\n",
    "\t 'max_depth':[9,13,17],\n",
    "\t 'max_features':['auto','sqrt'],\n",
    "\t 'n_estimators': [500,1000,1500]\n",
    "\t}\n",
    "\n",
    "\tgsearch = GridSearchCV(RandomForestRegressor(),refit=True,\n",
    "\t                        param_grid = param_test, scoring='neg_mean_squared_error',iid=True, cv=5)\n",
    "\tgsearch.fit(X,y)\n",
    "\tprint('____________________________________________')\n",
    "\tprint('tune random forest')\n",
    "\tprint('____________________________________________')\n",
    "\tprint(gsearch.cv_results_)\n",
    "\tprint(gsearch.best_params_)\n",
    "\tprint(gsearch.best_score_)\n",
    "\tprint(rmsle(gsearch.predict(X),y))\n",
    "\n",
    "\treturn gsearch.best_estimator_"
   ]
  },
  {
   "cell_type": "code",
   "execution_count": 27,
   "metadata": {
    "collapsed": true
   },
   "outputs": [],
   "source": [
    "def xgb_autotune(X,y):\n",
    "\tparam = {\n",
    "\t        'objective':'reg:linear',\n",
    "\t        'n_estimators':1000,\n",
    "\t        'learning_rate':0.05,\n",
    "\t        'gamma':0,\n",
    "\t        'max_depth':5,\n",
    "\t        'min_child_weight':1,\n",
    "\t        'colsample_bytree':0.5,\n",
    "\t        'subsample': 0.8, \n",
    "\t        'verbose':1,\n",
    "\t        'reg_alpha':0}\n",
    "\n",
    "\n",
    "\tparam_test1 = {\n",
    "\t 'max_depth':[7,13,15],\n",
    "\t 'reg_alpha':[0.1,1,10,100],\n",
    "\t 'learning_rate':[0.05,0.1],\n",
    "\t}\n",
    "\n",
    "\tgsearch = GridSearchCV(xgb.XGBRegressor(objective=param['objective'],\n",
    "\t                          n_estimators=param['n_estimators'], learning_rate = param['learning_rate'], gamma=param['gamma'],\n",
    "\t                          colsample_bytree=param['colsample_bytree'], subsample=param['subsample'], reg_alpha=param['reg_alpha']\n",
    "\t                          ),\n",
    "\t                        param_grid = param_test1, scoring='neg_mean_squared_error',iid=False, cv=5)\n",
    "\tgsearch.fit(X,y)\n",
    "\tprint('____________________________________________')\n",
    "\tprint('tune max_depth, min_child_weight')\n",
    "\tprint('____________________________________________')\n",
    "\tprint(gsearch.cv_results_)\n",
    "\tprint(gsearch.best_params_)\n",
    "\tprint(gsearch.best_score_)\n",
    "\tprint(rmsle(gsearch.predict(X),y))\n",
    "\treturn gsearch.best_estimator_\n",
    "    "
   ]
  },
  {
   "cell_type": "code",
   "execution_count": 28,
   "metadata": {},
   "outputs": [
    {
     "name": "stderr",
     "output_type": "stream",
     "text": [
      "/Users/pan/anaconda3/envs/py37/lib/python3.6/site-packages/sklearn/linear_model/coordinate_descent.py:492: ConvergenceWarning: Objective did not converge. You might want to increase the number of iterations. Fitting data with very small alpha may cause precision problems.\n",
      "  ConvergenceWarning)\n",
      "/Users/pan/anaconda3/envs/py37/lib/python3.6/site-packages/sklearn/linear_model/coordinate_descent.py:492: ConvergenceWarning: Objective did not converge. You might want to increase the number of iterations. Fitting data with very small alpha may cause precision problems.\n",
      "  ConvergenceWarning)\n"
     ]
    },
    {
     "name": "stdout",
     "output_type": "stream",
     "text": [
      "____________________________________________\n",
      "tune lasso\n",
      "____________________________________________\n",
      "{'mean_fit_time': array([0.23954229, 0.35880594, 0.02012081, 0.00267525, 0.00244064,\n",
      "       0.00254898, 0.002531  , 0.00268974, 0.00279455, 0.00295563]), 'std_fit_time': array([6.97213144e-02, 1.95965009e-01, 5.61406629e-03, 1.77923235e-04,\n",
      "       3.71380542e-05, 8.84949131e-05, 9.52915128e-05, 2.00548469e-04,\n",
      "       3.99732519e-04, 5.05547050e-04]), 'mean_score_time': array([0.00104346, 0.00115185, 0.00093083, 0.00071635, 0.00066319,\n",
      "       0.00065904, 0.00072622, 0.00074863, 0.00076327, 0.00077939]), 'std_score_time': array([1.89885010e-04, 2.14886939e-04, 1.91453735e-04, 5.58456729e-05,\n",
      "       3.45516481e-05, 3.79977885e-05, 6.79376659e-05, 6.46187366e-05,\n",
      "       1.00251154e-04, 1.29373312e-04]), 'param_alpha': masked_array(data=[1e-10, 1e-08, 0.0001, 0.01, 1, 5, 10, 100, 500, 1000],\n",
      "             mask=[False, False, False, False, False, False, False, False,\n",
      "                   False, False],\n",
      "       fill_value='?',\n",
      "            dtype=object), 'param_max_iter': masked_array(data=[5000, 5000, 5000, 5000, 5000, 5000, 5000, 5000, 5000,\n",
      "                   5000],\n",
      "             mask=[False, False, False, False, False, False, False, False,\n",
      "                   False, False],\n",
      "       fill_value='?',\n",
      "            dtype=object), 'params': [{'alpha': 1e-10, 'max_iter': 5000}, {'alpha': 1e-08, 'max_iter': 5000}, {'alpha': 0.0001, 'max_iter': 5000}, {'alpha': 0.01, 'max_iter': 5000}, {'alpha': 1, 'max_iter': 5000}, {'alpha': 5, 'max_iter': 5000}, {'alpha': 10, 'max_iter': 5000}, {'alpha': 100, 'max_iter': 5000}, {'alpha': 500, 'max_iter': 5000}, {'alpha': 1000, 'max_iter': 5000}], 'split0_test_score': array([-0.59279994, -0.59279957, -0.59364278, -2.03342546, -2.0634454 ,\n",
      "       -2.0634454 , -2.0634454 , -2.0634454 , -2.0634454 , -2.0634454 ]), 'split1_test_score': array([-0.61777586, -0.61777564, -0.6195425 , -2.00150247, -2.03531999,\n",
      "       -2.03531999, -2.03531999, -2.03531999, -2.03531999, -2.03531999]), 'split2_test_score': array([-0.59083266, -0.5908333 , -0.59242493, -1.8729218 , -1.9121329 ,\n",
      "       -1.9121329 , -1.9121329 , -1.9121329 , -1.9121329 , -1.9121329 ]), 'split3_test_score': array([-0.57097787, -0.5709774 , -0.56973187, -1.81470426, -1.87098105,\n",
      "       -1.87098105, -1.87098105, -1.87098105, -1.87098105, -1.87098105]), 'split4_test_score': array([-0.58732094, -0.58732093, -0.58789004, -1.92645263, -1.9617607 ,\n",
      "       -1.9617607 , -1.9617607 , -1.9617607 , -1.9617607 , -1.9617607 ]), 'mean_test_score': array([-0.59194501, -0.59194492, -0.59265013, -1.92982465, -1.96874947,\n",
      "       -1.96874947, -1.96874947, -1.96874947, -1.96874947, -1.96874947]), 'std_test_score': array([0.01503561, 0.01503565, 0.0159517 , 0.08046712, 0.07240695,\n",
      "       0.07240695, 0.07240695, 0.07240695, 0.07240695, 0.07240695]), 'rank_test_score': array([2, 1, 3, 4, 5, 5, 5, 5, 5, 5], dtype=int32), 'split0_train_score': array([-0.58759159, -0.58759159, -0.58875975, -1.91567141, -1.94469444,\n",
      "       -1.94469444, -1.94469444, -1.94469444, -1.94469444, -1.94469444]), 'split1_train_score': array([-0.5812477 , -0.5812477 , -0.58260459, -1.91906397, -1.95168458,\n",
      "       -1.95168458, -1.95168458, -1.95168458, -1.95168458, -1.95168458]), 'split2_train_score': array([-0.58793143, -0.58793143, -0.58908195, -1.94299674, -1.9825432 ,\n",
      "       -1.9825432 , -1.9825432 , -1.9825432 , -1.9825432 , -1.9825432 ]), 'split3_train_score': array([-0.59288054, -0.59288054, -0.5943457 , -1.93133819, -1.99278114,\n",
      "       -1.99278114, -1.99278114, -1.99278114, -1.99278114, -1.99278114]), 'split4_train_score': array([-0.58858076, -0.58858076, -0.58992356, -1.93558508, -1.97005229,\n",
      "       -1.97005229, -1.97005229, -1.97005229, -1.97005229, -1.97005229]), 'mean_train_score': array([-0.58764641, -0.58764641, -0.58894311, -1.92893108, -1.96835113,\n",
      "       -1.96835113, -1.96835113, -1.96835113, -1.96835113, -1.96835113]), 'std_train_score': array([0.00372282, 0.00372282, 0.00375177, 0.01020873, 0.01810275,\n",
      "       0.01810275, 0.01810275, 0.01810275, 0.01810275, 0.01810275])}\n",
      "{'alpha': 1e-08, 'max_iter': 5000}\n",
      "-0.5919449173460395\n",
      "0.7668612895804788\n"
     ]
    },
    {
     "name": "stderr",
     "output_type": "stream",
     "text": [
      "/Users/pan/anaconda3/envs/py37/lib/python3.6/site-packages/sklearn/linear_model/ridge.py:125: LinAlgWarning: scipy.linalg.solve\n",
      "Ill-conditioned matrix detected. Result is not guaranteed to be accurate.\n",
      "Reciprocal condition number3.237725e-17\n",
      "  overwrite_a=True).T\n",
      "/Users/pan/anaconda3/envs/py37/lib/python3.6/site-packages/sklearn/linear_model/ridge.py:125: LinAlgWarning: scipy.linalg.solve\n",
      "Ill-conditioned matrix detected. Result is not guaranteed to be accurate.\n",
      "Reciprocal condition number3.212934e-17\n",
      "  overwrite_a=True).T\n",
      "/Users/pan/anaconda3/envs/py37/lib/python3.6/site-packages/sklearn/linear_model/ridge.py:125: LinAlgWarning: scipy.linalg.solve\n",
      "Ill-conditioned matrix detected. Result is not guaranteed to be accurate.\n",
      "Reciprocal condition number3.207533e-17\n",
      "  overwrite_a=True).T\n",
      "/Users/pan/anaconda3/envs/py37/lib/python3.6/site-packages/sklearn/linear_model/ridge.py:125: LinAlgWarning: scipy.linalg.solve\n",
      "Ill-conditioned matrix detected. Result is not guaranteed to be accurate.\n",
      "Reciprocal condition number3.191299e-17\n",
      "  overwrite_a=True).T\n",
      "/Users/pan/anaconda3/envs/py37/lib/python3.6/site-packages/sklearn/linear_model/ridge.py:125: LinAlgWarning: scipy.linalg.solve\n",
      "Ill-conditioned matrix detected. Result is not guaranteed to be accurate.\n",
      "Reciprocal condition number3.149003e-17\n",
      "  overwrite_a=True).T\n",
      "/Users/pan/anaconda3/envs/py37/lib/python3.6/site-packages/sklearn/linear_model/ridge.py:125: LinAlgWarning: scipy.linalg.solve\n",
      "Ill-conditioned matrix detected. Result is not guaranteed to be accurate.\n",
      "Reciprocal condition number3.237725e-17\n",
      "  overwrite_a=True).T\n",
      "/Users/pan/anaconda3/envs/py37/lib/python3.6/site-packages/sklearn/linear_model/ridge.py:125: LinAlgWarning: scipy.linalg.solve\n",
      "Ill-conditioned matrix detected. Result is not guaranteed to be accurate.\n",
      "Reciprocal condition number3.212934e-17\n",
      "  overwrite_a=True).T\n",
      "/Users/pan/anaconda3/envs/py37/lib/python3.6/site-packages/sklearn/linear_model/ridge.py:125: LinAlgWarning: scipy.linalg.solve\n",
      "Ill-conditioned matrix detected. Result is not guaranteed to be accurate.\n",
      "Reciprocal condition number3.207533e-17\n",
      "  overwrite_a=True).T\n",
      "/Users/pan/anaconda3/envs/py37/lib/python3.6/site-packages/sklearn/linear_model/ridge.py:125: LinAlgWarning: scipy.linalg.solve\n",
      "Ill-conditioned matrix detected. Result is not guaranteed to be accurate.\n",
      "Reciprocal condition number3.191299e-17\n",
      "  overwrite_a=True).T\n",
      "/Users/pan/anaconda3/envs/py37/lib/python3.6/site-packages/sklearn/linear_model/ridge.py:125: LinAlgWarning: scipy.linalg.solve\n",
      "Ill-conditioned matrix detected. Result is not guaranteed to be accurate.\n",
      "Reciprocal condition number3.149003e-17\n",
      "  overwrite_a=True).T\n"
     ]
    },
    {
     "name": "stdout",
     "output_type": "stream",
     "text": [
      "____________________________________________\n",
      "tune ridge\n",
      "____________________________________________\n",
      "{'mean_fit_time': array([0.00408974, 0.0062438 , 0.00318604, 0.00440216, 0.00393162,\n",
      "       0.29391961, 0.16629162, 0.0025878 , 0.00492492, 0.00285358,\n",
      "       0.00429854, 0.0037519 , 0.28429494, 0.16998439, 0.00254083,\n",
      "       0.00482063, 0.00229187, 0.00332823, 0.0029532 , 0.2900207 ,\n",
      "       0.18762546, 0.00257673, 0.00526071, 0.00282617, 0.00438294,\n",
      "       0.00457268, 0.29303317, 0.17941241, 0.00255632, 0.00472689,\n",
      "       0.00238495, 0.00367203, 0.00309567, 0.26990318, 0.16005197,\n",
      "       0.00228872, 0.00419102, 0.00223598, 0.00375347, 0.00365086,\n",
      "       0.24192271, 0.14378724, 0.00251212, 0.00453296, 0.00260725,\n",
      "       0.00445552, 0.00380774, 0.20692286, 0.13955402, 0.00276752,\n",
      "       0.00560083, 0.00294914, 0.00438099, 0.00375156, 0.06134315,\n",
      "       0.07257442]), 'std_fit_time': array([2.70547509e-03, 2.51678453e-03, 5.00030265e-04, 4.32991640e-04,\n",
      "       7.50900571e-04, 1.15521722e-02, 5.54194823e-02, 1.79500090e-04,\n",
      "       2.02005611e-04, 4.56760081e-04, 5.59673842e-04, 3.03842890e-04,\n",
      "       1.81751674e-02, 4.98362624e-02, 5.93419964e-05, 4.23040817e-04,\n",
      "       1.36838258e-04, 6.16005696e-05, 1.24098884e-04, 3.08475980e-02,\n",
      "       5.58174432e-02, 3.40761646e-04, 4.30323067e-04, 1.47647096e-04,\n",
      "       5.85109186e-04, 4.83862325e-04, 3.94026113e-02, 4.13885334e-02,\n",
      "       2.34149526e-04, 8.89419146e-04, 1.19181382e-04, 2.01191979e-04,\n",
      "       1.76353593e-04, 1.80346396e-02, 4.46791955e-02, 1.17655991e-04,\n",
      "       2.02158070e-04, 8.97932102e-05, 2.92740906e-04, 1.01087836e-04,\n",
      "       2.69398955e-02, 3.79251378e-02, 2.52290057e-04, 4.03497552e-04,\n",
      "       1.68556074e-04, 4.92688527e-04, 1.81630923e-04, 2.19795779e-02,\n",
      "       3.12243195e-02, 5.01179568e-04, 6.61621783e-04, 5.48463534e-04,\n",
      "       5.42967741e-04, 5.45001851e-04, 1.00220413e-02, 4.49397756e-03]), 'mean_score_time': array([0.00101824, 0.00115762, 0.00115576, 0.0010169 , 0.00089035,\n",
      "       0.00104241, 0.00095506, 0.00077815, 0.00100274, 0.00089517,\n",
      "       0.00088081, 0.00084066, 0.00104437, 0.00099359, 0.00085988,\n",
      "       0.00086055, 0.00074344, 0.00071263, 0.00073986, 0.0009563 ,\n",
      "       0.00124369, 0.00073519, 0.00105853, 0.00084949, 0.00095482,\n",
      "       0.00096078, 0.00102668, 0.00101867, 0.00084176, 0.00101972,\n",
      "       0.00070744, 0.00075607, 0.00078402, 0.00102382, 0.00086389,\n",
      "       0.00069604, 0.0007535 , 0.00071244, 0.00073228, 0.00070662,\n",
      "       0.00097318, 0.0009254 , 0.00069757, 0.00085473, 0.0007359 ,\n",
      "       0.0007782 , 0.0008358 , 0.00093861, 0.00088768, 0.001089  ,\n",
      "       0.00110664, 0.00092659, 0.00075326, 0.00094161, 0.00072536,\n",
      "       0.00078588]), 'std_score_time': array([1.93026155e-04, 1.52644102e-04, 2.76785820e-04, 9.71706385e-05,\n",
      "       5.67381319e-05, 1.90330817e-04, 1.50041144e-04, 8.81489172e-05,\n",
      "       1.70893568e-04, 1.59870180e-04, 1.20953446e-04, 9.72706897e-05,\n",
      "       2.24693673e-04, 1.73252375e-04, 1.49295544e-04, 7.16622319e-05,\n",
      "       1.16824753e-04, 2.68679862e-05, 6.22221152e-05, 6.18792446e-05,\n",
      "       2.80226719e-04, 5.10439868e-05, 1.65537053e-04, 8.63051546e-05,\n",
      "       2.02735907e-04, 1.63435086e-04, 2.07720381e-04, 2.22785169e-04,\n",
      "       1.06559887e-04, 4.08136592e-04, 4.20321609e-05, 2.98396449e-05,\n",
      "       3.94686386e-05, 1.12973320e-04, 8.42576251e-05, 2.50085520e-05,\n",
      "       2.85085620e-05, 3.34008688e-05, 2.26934413e-05, 6.00989634e-05,\n",
      "       1.01046666e-04, 9.19910953e-05, 1.76561152e-05, 6.60693976e-05,\n",
      "       7.39396865e-05, 9.19730997e-05, 2.32912378e-05, 4.80926148e-05,\n",
      "       6.10521785e-05, 4.71677392e-04, 5.26978751e-04, 2.83212315e-04,\n",
      "       5.98795464e-05, 2.10651233e-04, 5.48857176e-05, 3.93618604e-05]), 'param_alpha': masked_array(data=[1e-10, 1e-10, 1e-10, 1e-10, 1e-10, 1e-10, 1e-10, 1e-08,\n",
      "                   1e-08, 1e-08, 1e-08, 1e-08, 1e-08, 1e-08, 0.0001,\n",
      "                   0.0001, 0.0001, 0.0001, 0.0001, 0.0001, 0.0001, 0.01,\n",
      "                   0.01, 0.01, 0.01, 0.01, 0.01, 0.01, 1, 1, 1, 1, 1, 1,\n",
      "                   1, 5, 5, 5, 5, 5, 5, 5, 10, 10, 10, 10, 10, 10, 10,\n",
      "                   100, 100, 100, 100, 100, 100, 100],\n",
      "             mask=[False, False, False, False, False, False, False, False,\n",
      "                   False, False, False, False, False, False, False, False,\n",
      "                   False, False, False, False, False, False, False, False,\n",
      "                   False, False, False, False, False, False, False, False,\n",
      "                   False, False, False, False, False, False, False, False,\n",
      "                   False, False, False, False, False, False, False, False,\n",
      "                   False, False, False, False, False, False, False, False],\n",
      "       fill_value='?',\n",
      "            dtype=object), 'param_max_iter': masked_array(data=[5000, 5000, 5000, 5000, 5000, 5000, 5000, 5000, 5000,\n",
      "                   5000, 5000, 5000, 5000, 5000, 5000, 5000, 5000, 5000,\n",
      "                   5000, 5000, 5000, 5000, 5000, 5000, 5000, 5000, 5000,\n",
      "                   5000, 5000, 5000, 5000, 5000, 5000, 5000, 5000, 5000,\n",
      "                   5000, 5000, 5000, 5000, 5000, 5000, 5000, 5000, 5000,\n",
      "                   5000, 5000, 5000, 5000, 5000, 5000, 5000, 5000, 5000,\n",
      "                   5000, 5000],\n",
      "             mask=[False, False, False, False, False, False, False, False,\n",
      "                   False, False, False, False, False, False, False, False,\n",
      "                   False, False, False, False, False, False, False, False,\n",
      "                   False, False, False, False, False, False, False, False,\n",
      "                   False, False, False, False, False, False, False, False,\n",
      "                   False, False, False, False, False, False, False, False,\n",
      "                   False, False, False, False, False, False, False, False],\n",
      "       fill_value='?',\n",
      "            dtype=object), 'param_solver': masked_array(data=['auto', 'svd', 'cholesky', 'lsqr', 'sparse_cg', 'sag',\n",
      "                   'saga', 'auto', 'svd', 'cholesky', 'lsqr', 'sparse_cg',\n",
      "                   'sag', 'saga', 'auto', 'svd', 'cholesky', 'lsqr',\n",
      "                   'sparse_cg', 'sag', 'saga', 'auto', 'svd', 'cholesky',\n",
      "                   'lsqr', 'sparse_cg', 'sag', 'saga', 'auto', 'svd',\n",
      "                   'cholesky', 'lsqr', 'sparse_cg', 'sag', 'saga', 'auto',\n",
      "                   'svd', 'cholesky', 'lsqr', 'sparse_cg', 'sag', 'saga',\n",
      "                   'auto', 'svd', 'cholesky', 'lsqr', 'sparse_cg', 'sag',\n",
      "                   'saga', 'auto', 'svd', 'cholesky', 'lsqr', 'sparse_cg',\n",
      "                   'sag', 'saga'],\n",
      "             mask=[False, False, False, False, False, False, False, False,\n",
      "                   False, False, False, False, False, False, False, False,\n",
      "                   False, False, False, False, False, False, False, False,\n",
      "                   False, False, False, False, False, False, False, False,\n",
      "                   False, False, False, False, False, False, False, False,\n",
      "                   False, False, False, False, False, False, False, False,\n",
      "                   False, False, False, False, False, False, False, False],\n",
      "       fill_value='?',\n",
      "            dtype=object), 'params': [{'alpha': 1e-10, 'max_iter': 5000, 'solver': 'auto'}, {'alpha': 1e-10, 'max_iter': 5000, 'solver': 'svd'}, {'alpha': 1e-10, 'max_iter': 5000, 'solver': 'cholesky'}, {'alpha': 1e-10, 'max_iter': 5000, 'solver': 'lsqr'}, {'alpha': 1e-10, 'max_iter': 5000, 'solver': 'sparse_cg'}, {'alpha': 1e-10, 'max_iter': 5000, 'solver': 'sag'}, {'alpha': 1e-10, 'max_iter': 5000, 'solver': 'saga'}, {'alpha': 1e-08, 'max_iter': 5000, 'solver': 'auto'}, {'alpha': 1e-08, 'max_iter': 5000, 'solver': 'svd'}, {'alpha': 1e-08, 'max_iter': 5000, 'solver': 'cholesky'}, {'alpha': 1e-08, 'max_iter': 5000, 'solver': 'lsqr'}, {'alpha': 1e-08, 'max_iter': 5000, 'solver': 'sparse_cg'}, {'alpha': 1e-08, 'max_iter': 5000, 'solver': 'sag'}, {'alpha': 1e-08, 'max_iter': 5000, 'solver': 'saga'}, {'alpha': 0.0001, 'max_iter': 5000, 'solver': 'auto'}, {'alpha': 0.0001, 'max_iter': 5000, 'solver': 'svd'}, {'alpha': 0.0001, 'max_iter': 5000, 'solver': 'cholesky'}, {'alpha': 0.0001, 'max_iter': 5000, 'solver': 'lsqr'}, {'alpha': 0.0001, 'max_iter': 5000, 'solver': 'sparse_cg'}, {'alpha': 0.0001, 'max_iter': 5000, 'solver': 'sag'}, {'alpha': 0.0001, 'max_iter': 5000, 'solver': 'saga'}, {'alpha': 0.01, 'max_iter': 5000, 'solver': 'auto'}, {'alpha': 0.01, 'max_iter': 5000, 'solver': 'svd'}, {'alpha': 0.01, 'max_iter': 5000, 'solver': 'cholesky'}, {'alpha': 0.01, 'max_iter': 5000, 'solver': 'lsqr'}, {'alpha': 0.01, 'max_iter': 5000, 'solver': 'sparse_cg'}, {'alpha': 0.01, 'max_iter': 5000, 'solver': 'sag'}, {'alpha': 0.01, 'max_iter': 5000, 'solver': 'saga'}, {'alpha': 1, 'max_iter': 5000, 'solver': 'auto'}, {'alpha': 1, 'max_iter': 5000, 'solver': 'svd'}, {'alpha': 1, 'max_iter': 5000, 'solver': 'cholesky'}, {'alpha': 1, 'max_iter': 5000, 'solver': 'lsqr'}, {'alpha': 1, 'max_iter': 5000, 'solver': 'sparse_cg'}, {'alpha': 1, 'max_iter': 5000, 'solver': 'sag'}, {'alpha': 1, 'max_iter': 5000, 'solver': 'saga'}, {'alpha': 5, 'max_iter': 5000, 'solver': 'auto'}, {'alpha': 5, 'max_iter': 5000, 'solver': 'svd'}, {'alpha': 5, 'max_iter': 5000, 'solver': 'cholesky'}, {'alpha': 5, 'max_iter': 5000, 'solver': 'lsqr'}, {'alpha': 5, 'max_iter': 5000, 'solver': 'sparse_cg'}, {'alpha': 5, 'max_iter': 5000, 'solver': 'sag'}, {'alpha': 5, 'max_iter': 5000, 'solver': 'saga'}, {'alpha': 10, 'max_iter': 5000, 'solver': 'auto'}, {'alpha': 10, 'max_iter': 5000, 'solver': 'svd'}, {'alpha': 10, 'max_iter': 5000, 'solver': 'cholesky'}, {'alpha': 10, 'max_iter': 5000, 'solver': 'lsqr'}, {'alpha': 10, 'max_iter': 5000, 'solver': 'sparse_cg'}, {'alpha': 10, 'max_iter': 5000, 'solver': 'sag'}, {'alpha': 10, 'max_iter': 5000, 'solver': 'saga'}, {'alpha': 100, 'max_iter': 5000, 'solver': 'auto'}, {'alpha': 100, 'max_iter': 5000, 'solver': 'svd'}, {'alpha': 100, 'max_iter': 5000, 'solver': 'cholesky'}, {'alpha': 100, 'max_iter': 5000, 'solver': 'lsqr'}, {'alpha': 100, 'max_iter': 5000, 'solver': 'sparse_cg'}, {'alpha': 100, 'max_iter': 5000, 'solver': 'sag'}, {'alpha': 100, 'max_iter': 5000, 'solver': 'saga'}], 'split0_test_score': array([-0.59279994, -0.59279998, -0.59279994, -0.59360285, -0.59241969,\n",
      "       -0.59257376, -0.59246835, -0.59279994, -0.59279994, -0.59279994,\n",
      "       -0.59360285, -0.59241576, -0.59258766, -0.59248482, -0.59279994,\n",
      "       -0.59279994, -0.59279994, -0.59360285, -0.59240986, -0.59257187,\n",
      "       -0.59247842, -0.59279975, -0.59279975, -0.59279975, -0.59360297,\n",
      "       -0.59241547, -0.59258626, -0.59248542, -0.59278284, -0.59278284,\n",
      "       -0.59278284, -0.5936155 , -0.59242882, -0.5925983 , -0.59247698,\n",
      "       -0.5927496 , -0.5927496 , -0.5927496 , -0.59367049, -0.59248282,\n",
      "       -0.5926043 , -0.59256611, -0.59276245, -0.59276245, -0.59276245,\n",
      "       -0.59374891, -0.59375678, -0.59266081, -0.59267091, -0.59579253,\n",
      "       -0.59579253, -0.59579253, -0.59674319, -0.59674857, -0.59582871,\n",
      "       -0.59601452]), 'split1_test_score': array([-0.61777586, -0.61777586, -0.61777586, -0.62001115, -0.62077028,\n",
      "       -0.61926118, -0.62095211, -0.61777586, -0.61777586, -0.61777586,\n",
      "       -0.62001115, -0.62077013, -0.61925742, -0.62096163, -0.61777587,\n",
      "       -0.61777587, -0.61777587, -0.62001115, -0.62077021, -0.61926952,\n",
      "       -0.620941  , -0.61777646, -0.61777646, -0.61777646, -0.62001137,\n",
      "       -0.62077018, -0.61925756, -0.62095771, -0.61784106, -0.61784106,\n",
      "       -0.61784106, -0.62003384, -0.62078872, -0.61935637, -0.62099772,\n",
      "       -0.61816606, -0.61816606, -0.61816606, -0.62012879, -0.62012875,\n",
      "       -0.61972195, -0.62109345, -0.61860261, -0.61860261, -0.61860261,\n",
      "       -0.62025667, -0.62025637, -0.62010683, -0.6211987 , -0.62413868,\n",
      "       -0.62413868, -0.62413868, -0.62405343, -0.6240537 , -0.62466055,\n",
      "       -0.62496268]), 'split2_test_score': array([-0.59083266, -0.59083266, -0.59083266, -0.59413548, -0.59413599,\n",
      "       -0.59163857, -0.59250526, -0.59083266, -0.59083266, -0.59083266,\n",
      "       -0.59413548, -0.59413587, -0.59163925, -0.59248306, -0.59083266,\n",
      "       -0.59083266, -0.59083266, -0.59413548, -0.59413934, -0.59164304,\n",
      "       -0.59248999, -0.5908329 , -0.5908329 , -0.5908329 , -0.59413545,\n",
      "       -0.59413763, -0.59164413, -0.59248048, -0.5908621 , -0.5908621 ,\n",
      "       -0.5908621 , -0.59413206, -0.59413063, -0.59169021, -0.59249185,\n",
      "       -0.59101282, -0.59101282, -0.59101282, -0.59412304, -0.59412177,\n",
      "       -0.59182365, -0.59258604, -0.59121132, -0.59121132, -0.59121132,\n",
      "       -0.59412218, -0.59412038, -0.59196589, -0.59264752, -0.59431915,\n",
      "       -0.59431915, -0.59431915, -0.59751925, -0.59581415, -0.59459563,\n",
      "       -0.5951125 ]), 'split3_test_score': array([-0.57097787, -0.57097787, -0.57097787, -0.57406758, -0.57406827,\n",
      "       -0.57125279, -0.57170564, -0.57097787, -0.57097787, -0.57097787,\n",
      "       -0.57406758, -0.57406744, -0.57126364, -0.57171604, -0.57097787,\n",
      "       -0.57097787, -0.57097787, -0.57406758, -0.57406793, -0.57125307,\n",
      "       -0.57171527, -0.57097778, -0.57097778, -0.57097778, -0.57406731,\n",
      "       -0.57406822, -0.57125056, -0.57172379, -0.57096916, -0.57096916,\n",
      "       -0.57096916, -0.57404009, -0.57404017, -0.57125294, -0.57170164,\n",
      "       -0.57094383, -0.57094383, -0.57094383, -0.57393513, -0.57393552,\n",
      "       -0.57122631, -0.57168061, -0.57092537, -0.57092537, -0.57092537,\n",
      "       -0.57381504, -0.57381466, -0.57121465, -0.57164375, -0.57164607,\n",
      "       -0.57164607, -0.57164607, -0.5734908 , -0.57349108, -0.57178495,\n",
      "       -0.57232657]), 'split4_test_score': array([-0.58732094, -0.58732094, -0.58732094, -0.58709241, -0.58709111,\n",
      "       -0.58692338, -0.586989  , -0.58732094, -0.58732094, -0.58732094,\n",
      "       -0.58709241, -0.5870924 , -0.58692299, -0.58698956, -0.58732093,\n",
      "       -0.58732093, -0.58732093, -0.58709241, -0.58709129, -0.58692271,\n",
      "       -0.58699002, -0.58732001, -0.58732001, -0.58732001, -0.58709231,\n",
      "       -0.58709095, -0.5869206 , -0.58699811, -0.58723375, -0.58723375,\n",
      "       -0.58723375, -0.58708214, -0.58707823, -0.58689746, -0.58698449,\n",
      "       -0.58698399, -0.58698399, -0.58698399, -0.58704569, -0.58704505,\n",
      "       -0.58682524, -0.58695988, -0.58680873, -0.58680873, -0.58680873,\n",
      "       -0.58701036, -0.58701074, -0.5867714 , -0.58692016, -0.58784679,\n",
      "       -0.58784679, -0.58784679, -0.58806376, -0.58806532, -0.5879633 ,\n",
      "       -0.58817347]), 'mean_test_score': array([-0.59194501, -0.59194501, -0.59194501, -0.59378536, -0.5937005 ,\n",
      "       -0.59233355, -0.59292774, -0.59194501, -0.59194501, -0.59194501,\n",
      "       -0.59378536, -0.59369975, -0.59233781, -0.59293069, -0.59194501,\n",
      "       -0.59194501, -0.59194501, -0.59378536, -0.59369916, -0.59233566,\n",
      "       -0.59292661, -0.59194493, -0.59194493, -0.59194493, -0.59378535,\n",
      "       -0.59369992, -0.59233544, -0.59293277, -0.59194134, -0.59194134,\n",
      "       -0.59194134, -0.5937842 , -0.59369675, -0.59236268, -0.59293421,\n",
      "       -0.59197485, -0.59197485, -0.59197485, -0.59378412, -0.59354618,\n",
      "       -0.59244394, -0.5929809 , -0.59206572, -0.59206572, -0.59206572,\n",
      "       -0.59379415, -0.5937953 , -0.5925476 , -0.59301991, -0.59475269,\n",
      "       -0.59475269, -0.59475269, -0.59597792, -0.59563849, -0.59497069,\n",
      "       -0.59532198]), 'std_test_score': array([0.01503561, 0.01503561, 0.01503561, 0.01497794, 0.01525707,\n",
      "       0.01548851, 0.01594732, 0.01503561, 0.01503561, 0.01503561,\n",
      "       0.01497794, 0.01525718, 0.01548431, 0.01594789, 0.01503561,\n",
      "       0.01503561, 0.01503561, 0.01497794, 0.0152573 , 0.01549134,\n",
      "       0.0159408 , 0.01503589, 0.01503589, 0.01503589, 0.0149781 ,\n",
      "       0.01525714, 0.01548804, 0.01594382, 0.01506524, 0.01506524,\n",
      "       0.01506524, 0.014994  , 0.01527177, 0.01552302, 0.01596478,\n",
      "       0.01519781, 0.01519781, 0.01519781, 0.01505801, 0.01506722,\n",
      "       0.01566158, 0.0160049 , 0.01536312, 0.01536312, 0.01536312,\n",
      "       0.0151375 , 0.01513745, 0.01580186, 0.01605389, 0.01700943,\n",
      "       0.01700943, 0.01700943, 0.01649038, 0.01647255, 0.01714201,\n",
      "       0.01708322]), 'rank_test_score': array([12, 15, 12, 47, 41, 22, 30, 10, 14, 10, 46, 39, 25, 31,  7,  9,  7,\n",
      "       45, 38, 24, 29,  5,  4,  5, 44, 40, 23, 32,  2,  1,  2, 43, 37, 26,\n",
      "       33, 17, 16, 17, 42, 36, 27, 34, 20, 19, 20, 48, 49, 28, 35, 51, 50,\n",
      "       51, 56, 55, 53, 54], dtype=int32), 'split0_train_score': array([-0.58759159, -0.58759159, -0.58759159, -0.59056344, -0.58982419,\n",
      "       -0.58783555, -0.58862434, -0.58759159, -0.58759159, -0.58759159,\n",
      "       -0.59056344, -0.5898242 , -0.58783429, -0.58862182, -0.58759159,\n",
      "       -0.58759159, -0.58759159, -0.59056344, -0.58982419, -0.58783581,\n",
      "       -0.58862399, -0.58759159, -0.58759159, -0.58759159, -0.59056344,\n",
      "       -0.5898242 , -0.58783538, -0.58862488, -0.58759452, -0.58759452,\n",
      "       -0.58759452, -0.59056367, -0.58982444, -0.58787005, -0.58866493,\n",
      "       -0.58764931, -0.58764931, -0.58764931, -0.59056907, -0.58983014,\n",
      "       -0.58800875, -0.5887918 , -0.58777149, -0.58777149, -0.58777149,\n",
      "       -0.59058577, -0.59058576, -0.58818068, -0.5889309 , -0.59108276,\n",
      "       -0.59108276, -0.59108276, -0.5925208 , -0.59252078, -0.59135674,\n",
      "       -0.59192219]), 'split1_train_score': array([-0.5812477 , -0.5812477 , -0.5812477 , -0.58353599, -0.58280977,\n",
      "       -0.58162083, -0.58254651, -0.5812477 , -0.5812477 , -0.5812477 ,\n",
      "       -0.58353599, -0.58280977, -0.58162057, -0.58254171, -0.5812477 ,\n",
      "       -0.5812477 , -0.5812477 , -0.58353599, -0.58280977, -0.5816222 ,\n",
      "       -0.58254784, -0.5812477 , -0.5812477 , -0.5812477 , -0.58353599,\n",
      "       -0.58280977, -0.58162122, -0.5825395 , -0.58125123, -0.58125123,\n",
      "       -0.58125123, -0.58353622, -0.58281   , -0.58165317, -0.5825522 ,\n",
      "       -0.58130997, -0.58130997, -0.58130997, -0.58354161, -0.58354161,\n",
      "       -0.58176862, -0.58259073, -0.58142533, -0.58142533, -0.58142533,\n",
      "       -0.5835583 , -0.5835583 , -0.58189838, -0.58261191, -0.58431881,\n",
      "       -0.58431881, -0.58431881, -0.58548891, -0.58548891, -0.58462521,\n",
      "       -0.58495662]), 'split2_train_score': array([-0.58793143, -0.58793143, -0.58793143, -0.59033431, -0.59033432,\n",
      "       -0.58817365, -0.58900884, -0.58793143, -0.58793143, -0.58793143,\n",
      "       -0.59033431, -0.59033431, -0.58817305, -0.5890024 , -0.58793143,\n",
      "       -0.58793143, -0.58793143, -0.59033431, -0.59033433, -0.58817385,\n",
      "       -0.58901256, -0.58793143, -0.58793143, -0.58793143, -0.59033431,\n",
      "       -0.59033432, -0.58817373, -0.58900427, -0.58793468, -0.58793468,\n",
      "       -0.58793468, -0.59033454, -0.59033454, -0.58820366, -0.58903011,\n",
      "       -0.58798632, -0.58798632, -0.58798632, -0.59033997, -0.59033998,\n",
      "       -0.58831876, -0.58913868, -0.58809427, -0.58809427, -0.58809427,\n",
      "       -0.59035678, -0.59035678, -0.58845447, -0.58922408, -0.59109841,\n",
      "       -0.59109841, -0.59109841, -0.59419984, -0.59230475, -0.59137017,\n",
      "       -0.59180397]), 'split3_train_score': array([-0.59288054, -0.59288054, -0.59288054, -0.59565854, -0.59565854,\n",
      "       -0.59314842, -0.59403362, -0.59288054, -0.59288054, -0.59288054,\n",
      "       -0.59565854, -0.59565854, -0.59314857, -0.59403503, -0.59288054,\n",
      "       -0.59288054, -0.59288054, -0.59565854, -0.59565854, -0.5931492 ,\n",
      "       -0.59404642, -0.59288054, -0.59288054, -0.59288054, -0.59565854,\n",
      "       -0.59565854, -0.59314902, -0.59403777, -0.59288322, -0.59288322,\n",
      "       -0.59288322, -0.59565877, -0.59565877, -0.59318083, -0.59406858,\n",
      "       -0.59293296, -0.59293296, -0.59293296, -0.59566426, -0.59566426,\n",
      "       -0.59330816, -0.59418773, -0.5930439 , -0.5930439 , -0.5930439 ,\n",
      "       -0.59568125, -0.59568126, -0.59346041, -0.59430009, -0.59625589,\n",
      "       -0.59625589, -0.59625589, -0.59765249, -0.59765249, -0.59655937,\n",
      "       -0.59716441]), 'split4_train_score': array([-0.58858076, -0.58858076, -0.58858076, -0.59159266, -0.59159266,\n",
      "       -0.58887134, -0.58978186, -0.58858076, -0.58858076, -0.58858076,\n",
      "       -0.59159266, -0.59159266, -0.5888714 , -0.58977549, -0.58858076,\n",
      "       -0.58858076, -0.58858076, -0.59159266, -0.59159266, -0.5888696 ,\n",
      "       -0.58978006, -0.58858076, -0.58858076, -0.58858076, -0.59159266,\n",
      "       -0.59159266, -0.58887214, -0.58978491, -0.58858441, -0.58858441,\n",
      "       -0.58858441, -0.59159289, -0.59159293, -0.5889091 , -0.58981645,\n",
      "       -0.58864978, -0.58864978, -0.58864978, -0.59159836, -0.59159836,\n",
      "       -0.58906402, -0.58994795, -0.58878878, -0.58878878, -0.58878878,\n",
      "       -0.5916153 , -0.5916153 , -0.58924898, -0.59009327, -0.59216893,\n",
      "       -0.59216893, -0.59216893, -0.59357879, -0.59357881, -0.59246205,\n",
      "       -0.59312562]), 'mean_train_score': array([-0.58764641, -0.58764641, -0.58764641, -0.59033699, -0.59004389,\n",
      "       -0.58792996, -0.58879904, -0.58764641, -0.58764641, -0.58764641,\n",
      "       -0.59033699, -0.5900439 , -0.58792957, -0.58879529, -0.58764641,\n",
      "       -0.58764641, -0.58764641, -0.59033699, -0.5900439 , -0.58793013,\n",
      "       -0.58880217, -0.58764641, -0.58764641, -0.58764641, -0.59033699,\n",
      "       -0.5900439 , -0.5879303 , -0.58879827, -0.58764961, -0.58764961,\n",
      "       -0.58764961, -0.59033722, -0.59004414, -0.58796336, -0.58882645,\n",
      "       -0.58770567, -0.58770567, -0.58770567, -0.59034265, -0.59019487,\n",
      "       -0.58809366, -0.58893138, -0.58782475, -0.58782475, -0.58782475,\n",
      "       -0.59035948, -0.59035948, -0.58824859, -0.58903205, -0.59098496,\n",
      "       -0.59098496, -0.59098496, -0.59268816, -0.59230915, -0.59127471,\n",
      "       -0.59179456]), 'std_train_score': array([0.00372282, 0.00372282, 0.00372282, 0.00390386, 0.00415664,\n",
      "       0.0036876 , 0.0036752 , 0.00372282, 0.00372282, 0.00372282,\n",
      "       0.00390386, 0.00415664, 0.00368773, 0.00367685, 0.00372282,\n",
      "       0.00372282, 0.00372282, 0.00390386, 0.00415664, 0.00368726,\n",
      "       0.00367835, 0.00372282, 0.00372282, 0.00372282, 0.00390386,\n",
      "       0.00415664, 0.00368768, 0.00367887, 0.00372258, 0.00372258,\n",
      "       0.00372258, 0.00390386, 0.00415664, 0.00368785, 0.00368494,\n",
      "       0.00372029, 0.00372029, 0.00372029, 0.00390389, 0.0039065 ,\n",
      "       0.00369315, 0.00371292, 0.00372013, 0.00372013, 0.00372013,\n",
      "       0.00390399, 0.00390399, 0.00370233, 0.0037455 , 0.00383782,\n",
      "       0.00383782, 0.00383782, 0.00398949, 0.00391724, 0.00383586,\n",
      "       0.00393398])}\n",
      "{'alpha': 1, 'max_iter': 5000, 'solver': 'svd'}\n",
      "-0.5919413400877847\n",
      "0.7668626479477426\n"
     ]
    },
    {
     "name": "stdout",
     "output_type": "stream",
     "text": [
      "____________________________________________\n",
      "tune max_depth, min_child_weight\n",
      "____________________________________________\n",
      "{'mean_fit_time': array([ 7.83053346,  7.58256807,  6.3053874 ,  3.4643137 , 12.72762899,\n",
      "       11.05516286,  7.05578156,  3.43552051, 13.55146155, 11.37484193,\n",
      "        7.4054316 ,  3.60085063,  7.73346343,  7.644801  ,  5.9358367 ,\n",
      "        3.09859052, 11.8231029 , 10.31994081,  6.49004979,  3.15434036,\n",
      "       12.24142265, 10.63311329,  6.45304561,  3.10379224]), 'std_fit_time': array([0.12171082, 0.07423892, 0.06742247, 0.03019561, 0.07725721,\n",
      "       0.05877315, 0.0899014 , 0.04099213, 0.08481735, 0.05224672,\n",
      "       0.20479703, 0.0937078 , 0.17772051, 0.16818113, 0.0549796 ,\n",
      "       0.02859565, 0.05121151, 0.03045357, 0.05599969, 0.07281904,\n",
      "       0.10774904, 0.17977309, 0.07101277, 0.0270395 ]), 'mean_score_time': array([0.11966438, 0.1105979 , 0.07144108, 0.01676402, 0.32561226,\n",
      "       0.15838475, 0.07687321, 0.01733928, 0.3449913 , 0.1568408 ,\n",
      "       0.08416963, 0.01724777, 0.12364645, 0.11709495, 0.06449881,\n",
      "       0.01183224, 0.20006776, 0.13702002, 0.06776919, 0.01161852,\n",
      "       0.19757018, 0.13376274, 0.07116408, 0.01159077]), 'std_score_time': array([0.00509301, 0.00464169, 0.0027391 , 0.00082813, 0.01199642,\n",
      "       0.00265181, 0.00069707, 0.00094688, 0.01564033, 0.00283436,\n",
      "       0.00519064, 0.00068163, 0.01133587, 0.00855212, 0.00201563,\n",
      "       0.00066679, 0.01454781, 0.00074218, 0.00182609, 0.00131418,\n",
      "       0.01028982, 0.00331344, 0.00240049, 0.0009079 ]), 'param_learning_rate': masked_array(data=[0.05, 0.05, 0.05, 0.05, 0.05, 0.05, 0.05, 0.05, 0.05,\n",
      "                   0.05, 0.05, 0.05, 0.1, 0.1, 0.1, 0.1, 0.1, 0.1, 0.1,\n",
      "                   0.1, 0.1, 0.1, 0.1, 0.1],\n",
      "             mask=[False, False, False, False, False, False, False, False,\n",
      "                   False, False, False, False, False, False, False, False,\n",
      "                   False, False, False, False, False, False, False, False],\n",
      "       fill_value='?',\n",
      "            dtype=object), 'param_max_depth': masked_array(data=[7, 7, 7, 7, 13, 13, 13, 13, 15, 15, 15, 15, 7, 7, 7, 7,\n",
      "                   13, 13, 13, 13, 15, 15, 15, 15],\n",
      "             mask=[False, False, False, False, False, False, False, False,\n",
      "                   False, False, False, False, False, False, False, False,\n",
      "                   False, False, False, False, False, False, False, False],\n",
      "       fill_value='?',\n",
      "            dtype=object), 'param_reg_alpha': masked_array(data=[0.1, 1, 10, 100, 0.1, 1, 10, 100, 0.1, 1, 10, 100, 0.1,\n",
      "                   1, 10, 100, 0.1, 1, 10, 100, 0.1, 1, 10, 100],\n",
      "             mask=[False, False, False, False, False, False, False, False,\n",
      "                   False, False, False, False, False, False, False, False,\n",
      "                   False, False, False, False, False, False, False, False],\n",
      "       fill_value='?',\n",
      "            dtype=object), 'params': [{'learning_rate': 0.05, 'max_depth': 7, 'reg_alpha': 0.1}, {'learning_rate': 0.05, 'max_depth': 7, 'reg_alpha': 1}, {'learning_rate': 0.05, 'max_depth': 7, 'reg_alpha': 10}, {'learning_rate': 0.05, 'max_depth': 7, 'reg_alpha': 100}, {'learning_rate': 0.05, 'max_depth': 13, 'reg_alpha': 0.1}, {'learning_rate': 0.05, 'max_depth': 13, 'reg_alpha': 1}, {'learning_rate': 0.05, 'max_depth': 13, 'reg_alpha': 10}, {'learning_rate': 0.05, 'max_depth': 13, 'reg_alpha': 100}, {'learning_rate': 0.05, 'max_depth': 15, 'reg_alpha': 0.1}, {'learning_rate': 0.05, 'max_depth': 15, 'reg_alpha': 1}, {'learning_rate': 0.05, 'max_depth': 15, 'reg_alpha': 10}, {'learning_rate': 0.05, 'max_depth': 15, 'reg_alpha': 100}, {'learning_rate': 0.1, 'max_depth': 7, 'reg_alpha': 0.1}, {'learning_rate': 0.1, 'max_depth': 7, 'reg_alpha': 1}, {'learning_rate': 0.1, 'max_depth': 7, 'reg_alpha': 10}, {'learning_rate': 0.1, 'max_depth': 7, 'reg_alpha': 100}, {'learning_rate': 0.1, 'max_depth': 13, 'reg_alpha': 0.1}, {'learning_rate': 0.1, 'max_depth': 13, 'reg_alpha': 1}, {'learning_rate': 0.1, 'max_depth': 13, 'reg_alpha': 10}, {'learning_rate': 0.1, 'max_depth': 13, 'reg_alpha': 100}, {'learning_rate': 0.1, 'max_depth': 15, 'reg_alpha': 0.1}, {'learning_rate': 0.1, 'max_depth': 15, 'reg_alpha': 1}, {'learning_rate': 0.1, 'max_depth': 15, 'reg_alpha': 10}, {'learning_rate': 0.1, 'max_depth': 15, 'reg_alpha': 100}], 'split0_test_score': array([-0.10582016, -0.10194892, -0.10708619, -0.21572214, -0.13193311,\n",
      "       -0.1071357 , -0.10757596, -0.21321353, -0.13637568, -0.10817847,\n",
      "       -0.10751286, -0.21321353, -0.1092047 , -0.10556124, -0.10511799,\n",
      "       -0.22093704, -0.13327652, -0.11154944, -0.10624606, -0.22263339,\n",
      "       -0.13805807, -0.11008607, -0.10654819, -0.22263339]), 'split1_test_score': array([-0.10281177, -0.09960654, -0.1026922 , -0.22273954, -0.13705263,\n",
      "       -0.10680182, -0.10253973, -0.21867983, -0.14361789, -0.10640375,\n",
      "       -0.10232188, -0.21867983, -0.10529103, -0.10063609, -0.10222007,\n",
      "       -0.21852475, -0.14102178, -0.10821411, -0.10408296, -0.21602382,\n",
      "       -0.14569638, -0.10911943, -0.10389405, -0.21602382]), 'split2_test_score': array([-0.08883958, -0.08635481, -0.08908603, -0.18725335, -0.10405982,\n",
      "       -0.09110293, -0.0887398 , -0.18944487, -0.10547047, -0.09110323,\n",
      "       -0.08886321, -0.18944487, -0.09398837, -0.08917768, -0.0889863 ,\n",
      "       -0.17783582, -0.11379147, -0.09327031, -0.0891816 , -0.17784415,\n",
      "       -0.11613785, -0.0943927 , -0.08908915, -0.17784415]), 'split3_test_score': array([-0.08907555, -0.08840762, -0.09785971, -0.21365693, -0.10500141,\n",
      "       -0.09022053, -0.09778587, -0.21426615, -0.10643167, -0.09068327,\n",
      "       -0.09723731, -0.21426615, -0.09487526, -0.09307401, -0.09645259,\n",
      "       -0.20580966, -0.11335217, -0.09571659, -0.09589249, -0.20952688,\n",
      "       -0.11584981, -0.09558521, -0.09609166, -0.20952688]), 'split4_test_score': array([-0.10583874, -0.1040905 , -0.11109723, -0.20753886, -0.1225606 ,\n",
      "       -0.10939896, -0.11102198, -0.207472  , -0.12557581, -0.10878864,\n",
      "       -0.11113531, -0.207472  , -0.11100812, -0.10553975, -0.10829512,\n",
      "       -0.21373925, -0.13443411, -0.11011717, -0.10730595, -0.21378771,\n",
      "       -0.13638108, -0.11009731, -0.10754629, -0.21378771]), 'mean_test_score': array([-0.09847716, -0.09608168, -0.10156427, -0.20938217, -0.12012151,\n",
      "       -0.10093199, -0.10153267, -0.20861528, -0.1234943 , -0.10103147,\n",
      "       -0.10141412, -0.20861528, -0.1028735 , -0.09879775, -0.10021441,\n",
      "       -0.2073693 , -0.12717521, -0.10377353, -0.10054181, -0.20796319,\n",
      "       -0.13042464, -0.10385614, -0.10063387, -0.20796319]), 'std_test_score': array([0.00785079, 0.00727315, 0.00764293, 0.0120828 , 0.01355523,\n",
      "       0.00843773, 0.00781381, 0.0102292 , 0.01543511, 0.00831589,\n",
      "       0.00784208, 0.0102292 , 0.00714168, 0.00663153, 0.00683502,\n",
      "       0.01564457, 0.01141793, 0.0076897 , 0.00694985, 0.01564427,\n",
      "       0.01219436, 0.00725853, 0.00703281, 0.01564427]), 'rank_test_score': array([ 2,  1, 11, 24, 15,  7, 10, 22, 16,  8,  9, 22, 12,  3,  4, 19, 17,\n",
      "       13,  5, 20, 18, 14,  6, 20], dtype=int32), 'split0_train_score': array([-6.00474806e-03, -1.86614921e-02, -7.20205141e-02, -1.95096123e-01,\n",
      "       -3.10314853e-04, -9.58367809e-03, -7.03596420e-02, -1.92469360e-01,\n",
      "       -2.77669737e-04, -9.40916609e-03, -7.04017237e-02, -1.92469360e-01,\n",
      "       -1.89421188e-03, -1.23780498e-02, -6.85629948e-02, -1.99038638e-01,\n",
      "       -1.81248997e-04, -7.04429193e-03, -6.64923081e-02, -2.00884710e-01,\n",
      "       -1.71378959e-04, -6.91103907e-03, -6.66125861e-02, -2.00884710e-01]), 'split1_train_score': array([-5.92197908e-03, -1.85194560e-02, -7.47558837e-02, -1.98951003e-01,\n",
      "       -3.24260465e-04, -9.57324415e-03, -7.28858752e-02, -1.95695953e-01,\n",
      "       -2.92345100e-04, -9.43041103e-03, -7.28494576e-02, -1.95695953e-01,\n",
      "       -1.92024614e-03, -1.22690395e-02, -6.99316800e-02, -1.96162944e-01,\n",
      "       -1.88491523e-04, -6.98389987e-03, -6.82146350e-02, -1.94821579e-01,\n",
      "       -1.76123988e-04, -6.86318512e-03, -6.84262789e-02, -1.94821579e-01]), 'split2_train_score': array([-6.11144871e-03, -1.91542294e-02, -7.60324221e-02, -1.97793725e-01,\n",
      "       -3.18531072e-04, -9.67528958e-03, -7.37502713e-02, -2.00190566e-01,\n",
      "       -2.85898260e-04, -9.45253577e-03, -7.38990720e-02, -2.00190566e-01,\n",
      "       -1.97249330e-03, -1.26406094e-02, -7.14063999e-02, -1.86444452e-01,\n",
      "       -1.83337734e-04, -7.05996005e-03, -6.88659568e-02, -1.86402726e-01,\n",
      "       -1.71355755e-04, -6.97202576e-03, -6.89185902e-02, -1.86402726e-01]), 'split3_train_score': array([-6.12640274e-03, -1.90465867e-02, -7.61774062e-02, -2.02238498e-01,\n",
      "       -3.23061631e-04, -9.64596379e-03, -7.40793355e-02, -2.02808559e-01,\n",
      "       -2.89717817e-04, -9.43187460e-03, -7.38981310e-02, -2.02808559e-01,\n",
      "       -2.00462147e-03, -1.25638010e-02, -7.20269716e-02, -1.94789537e-01,\n",
      "       -1.88021381e-04, -7.00167803e-03, -6.93277596e-02, -1.98042183e-01,\n",
      "       -1.75787362e-04, -6.85480177e-03, -6.93115600e-02, -1.98042183e-01]), 'split4_train_score': array([-5.91734083e-03, -1.86554302e-02, -7.20524011e-02, -1.89068130e-01,\n",
      "       -3.17021257e-04, -9.52410880e-03, -7.05632294e-02, -1.89022064e-01,\n",
      "       -2.86191361e-04, -9.40109589e-03, -7.06414390e-02, -1.89022064e-01,\n",
      "       -1.89747397e-03, -1.23682735e-02, -6.83022546e-02, -1.97661035e-01,\n",
      "       -1.82047847e-04, -6.95132884e-03, -6.59803213e-02, -1.97657955e-01,\n",
      "       -1.66357245e-04, -6.84535279e-03, -6.63008649e-02, -1.97657955e-01]), 'mean_train_score': array([-6.01638388e-03, -1.88074389e-02, -7.42077254e-02, -1.96629496e-01,\n",
      "       -3.18637855e-04, -9.60045688e-03, -7.23276707e-02, -1.96037300e-01,\n",
      "       -2.86364455e-04, -9.42501668e-03, -7.23379647e-02, -1.96037300e-01,\n",
      "       -1.93780935e-03, -1.24439546e-02, -7.00460602e-02, -1.94819321e-01,\n",
      "       -1.84629496e-04, -7.00823174e-03, -6.77761962e-02, -1.95561831e-01,\n",
      "       -1.72200662e-04, -6.88928090e-03, -6.79139760e-02, -1.95561831e-01]), 'std_train_score': array([8.94412146e-05, 2.46899389e-04, 1.84059523e-03, 4.42111336e-03,\n",
      "       4.96146523e-06, 5.38923028e-05, 1.57417307e-03, 5.00319526e-03,\n",
      "       4.95698660e-06, 1.82037100e-05, 1.53362501e-03, 5.00319526e-03,\n",
      "       4.35958363e-05, 1.36896055e-04, 1.48512343e-03, 4.42318010e-03,\n",
      "       3.03912709e-06, 3.96209206e-05, 1.31610721e-03, 4.96620752e-03,\n",
      "       3.57187619e-06, 4.71584720e-05, 1.22643288e-03, 4.96620752e-03])}\n",
      "{'learning_rate': 0.05, 'max_depth': 7, 'reg_alpha': 1}\n",
      "-0.09608167704754772\n"
     ]
    },
    {
     "name": "stdout",
     "output_type": "stream",
     "text": [
      "0.14435047831870745\n",
      "____________________________________________\n",
      "tune random forest\n",
      "____________________________________________\n",
      "{'mean_fit_time': array([ 4.23531756,  8.51433387, 12.85072136,  1.11652594,  2.20994949,\n",
      "        3.33032341,  6.40223703, 12.86727176, 19.25766106,  1.74153047,\n",
      "        3.50680623,  5.40532899,  8.22088604, 16.09209247, 23.43320146,\n",
      "        2.24910789,  4.4891088 ,  6.77274857]), 'std_fit_time': array([0.03012698, 0.02483256, 0.16124494, 0.00447837, 0.01406669,\n",
      "       0.034574  , 0.0527242 , 0.06660202, 0.12969029, 0.01676959,\n",
      "       0.02215257, 0.10253297, 0.10923214, 0.59174111, 0.12952089,\n",
      "       0.0522095 , 0.04361097, 0.05272064]), 'mean_score_time': array([0.05917449, 0.11596041, 0.18938909, 0.06562376, 0.1294663 ,\n",
      "       0.18163648, 0.09740314, 0.2038866 , 0.31740332, 0.09810705,\n",
      "       0.20597239, 0.32981091, 0.18604259, 0.33245568, 0.50497189,\n",
      "       0.17196655, 0.34807258, 0.52078519]), 'std_score_time': array([0.00266145, 0.00202145, 0.01838772, 0.00796136, 0.01846662,\n",
      "       0.00407518, 0.00370351, 0.00808648, 0.01548841, 0.00195097,\n",
      "       0.00531264, 0.02089023, 0.00406765, 0.00211938, 0.00699587,\n",
      "       0.00438683, 0.00729139, 0.0029962 ]), 'param_max_depth': masked_array(data=[9, 9, 9, 9, 9, 9, 13, 13, 13, 13, 13, 13, 17, 17, 17,\n",
      "                   17, 17, 17],\n",
      "             mask=[False, False, False, False, False, False, False, False,\n",
      "                   False, False, False, False, False, False, False, False,\n",
      "                   False, False],\n",
      "       fill_value='?',\n",
      "            dtype=object), 'param_max_features': masked_array(data=['auto', 'auto', 'auto', 'sqrt', 'sqrt', 'sqrt', 'auto',\n",
      "                   'auto', 'auto', 'sqrt', 'sqrt', 'sqrt', 'auto', 'auto',\n",
      "                   'auto', 'sqrt', 'sqrt', 'sqrt'],\n",
      "             mask=[False, False, False, False, False, False, False, False,\n",
      "                   False, False, False, False, False, False, False, False,\n",
      "                   False, False],\n",
      "       fill_value='?',\n",
      "            dtype=object), 'param_n_estimators': masked_array(data=[500, 1000, 1500, 500, 1000, 1500, 500, 1000, 1500, 500,\n",
      "                   1000, 1500, 500, 1000, 1500, 500, 1000, 1500],\n",
      "             mask=[False, False, False, False, False, False, False, False,\n",
      "                   False, False, False, False, False, False, False, False,\n",
      "                   False, False],\n",
      "       fill_value='?',\n",
      "            dtype=object), 'params': [{'max_depth': 9, 'max_features': 'auto', 'n_estimators': 500}, {'max_depth': 9, 'max_features': 'auto', 'n_estimators': 1000}, {'max_depth': 9, 'max_features': 'auto', 'n_estimators': 1500}, {'max_depth': 9, 'max_features': 'sqrt', 'n_estimators': 500}, {'max_depth': 9, 'max_features': 'sqrt', 'n_estimators': 1000}, {'max_depth': 9, 'max_features': 'sqrt', 'n_estimators': 1500}, {'max_depth': 13, 'max_features': 'auto', 'n_estimators': 500}, {'max_depth': 13, 'max_features': 'auto', 'n_estimators': 1000}, {'max_depth': 13, 'max_features': 'auto', 'n_estimators': 1500}, {'max_depth': 13, 'max_features': 'sqrt', 'n_estimators': 500}, {'max_depth': 13, 'max_features': 'sqrt', 'n_estimators': 1000}, {'max_depth': 13, 'max_features': 'sqrt', 'n_estimators': 1500}, {'max_depth': 17, 'max_features': 'auto', 'n_estimators': 500}, {'max_depth': 17, 'max_features': 'auto', 'n_estimators': 1000}, {'max_depth': 17, 'max_features': 'auto', 'n_estimators': 1500}, {'max_depth': 17, 'max_features': 'sqrt', 'n_estimators': 500}, {'max_depth': 17, 'max_features': 'sqrt', 'n_estimators': 1000}, {'max_depth': 17, 'max_features': 'sqrt', 'n_estimators': 1500}], 'split0_test_score': array([-0.13121721, -0.13212707, -0.13123701, -0.24781815, -0.254653  ,\n",
      "       -0.25461819, -0.11402961, -0.11365269, -0.11351977, -0.18993681,\n",
      "       -0.18843931, -0.18583449, -0.11297569, -0.11249396, -0.11229383,\n",
      "       -0.17089288, -0.17237398, -0.17263864]), 'split1_test_score': array([-0.14124072, -0.14155534, -0.14049967, -0.26912386, -0.27299529,\n",
      "       -0.27469602, -0.12305115, -0.12235591, -0.12299004, -0.20302846,\n",
      "       -0.19884729, -0.20015779, -0.12118592, -0.12174772, -0.12106097,\n",
      "       -0.18526398, -0.18686365, -0.18701013]), 'split2_test_score': array([-0.11677509, -0.11622382, -0.11654596, -0.25101814, -0.24539104,\n",
      "       -0.2452671 , -0.1043857 , -0.10474828, -0.10423152, -0.17940681,\n",
      "       -0.17814062, -0.17512228, -0.10345297, -0.10289323, -0.10309024,\n",
      "       -0.16539146, -0.16331108, -0.16399436]), 'split3_test_score': array([-0.11703089, -0.11688853, -0.11690852, -0.23495669, -0.23593945,\n",
      "       -0.23424354, -0.10071537, -0.10049285, -0.10034559, -0.17714802,\n",
      "       -0.17267293, -0.17278759, -0.10039253, -0.09942545, -0.09948769,\n",
      "       -0.16264936, -0.16348688, -0.16371947]), 'split4_test_score': array([-0.12485079, -0.12510422, -0.12499036, -0.26413605, -0.26389979,\n",
      "       -0.26359769, -0.11148812, -0.11126737, -0.11124022, -0.19815646,\n",
      "       -0.19791742, -0.19663981, -0.11053276, -0.1102443 , -0.11014285,\n",
      "       -0.18517974, -0.18334781, -0.18276545]), 'mean_test_score': array([-0.1262256 , -0.12638258, -0.12603892, -0.25341192, -0.25457817,\n",
      "       -0.25448721, -0.11073607, -0.11050541, -0.1104675 , -0.18953716,\n",
      "       -0.18720523, -0.18611023, -0.10970994, -0.10936299, -0.1092171 ,\n",
      "       -0.17387661, -0.17387821, -0.17402715]), 'std_test_score': array([0.00923221, 0.00957326, 0.00906379, 0.01216122, 0.01309879,\n",
      "       0.0140445 , 0.00779542, 0.0075411 , 0.0078498 , 0.01012489,\n",
      "       0.01044138, 0.01101344, 0.00733522, 0.00780514, 0.00752097,\n",
      "       0.00963694, 0.00979987, 0.00952619]), 'rank_test_score': array([ 8,  9,  7, 16, 18, 17,  6,  5,  4, 15, 14, 13,  3,  2,  1, 10, 11,\n",
      "       12], dtype=int32), 'split0_train_score': array([-0.07139587, -0.07135236, -0.07137975, -0.18061897, -0.18646271,\n",
      "       -0.1857948 , -0.02496192, -0.02484852, -0.0248598 , -0.06450014,\n",
      "       -0.06339404, -0.06255382, -0.01571063, -0.01559264, -0.01557971,\n",
      "       -0.02833194, -0.02847228, -0.02851471]), 'split1_train_score': array([-0.07553522, -0.07594803, -0.07535721, -0.18245808, -0.18430705,\n",
      "       -0.1862589 , -0.0262992 , -0.02624241, -0.02627548, -0.06356725,\n",
      "       -0.06117409, -0.06251754, -0.01646916, -0.0162953 , -0.01624953,\n",
      "       -0.02836701, -0.02829139, -0.02821389]), 'split2_train_score': array([-0.07457634, -0.07472471, -0.0747204 , -0.19188174, -0.18834436,\n",
      "       -0.18890905, -0.025796  , -0.02583346, -0.0256904 , -0.06498565,\n",
      "       -0.06446174, -0.06395463, -0.0162363 , -0.01612903, -0.01616887,\n",
      "       -0.02972442, -0.02954301, -0.02925618]), 'split3_train_score': array([-0.07464874, -0.07448397, -0.07444147, -0.18853235, -0.19025605,\n",
      "       -0.18757539, -0.02605671, -0.02589978, -0.0257016 , -0.06490311,\n",
      "       -0.06293667, -0.06277752, -0.01618759, -0.01608342, -0.01611315,\n",
      "       -0.02838467, -0.02877253, -0.02843753]), 'split4_train_score': array([-0.06944875, -0.06935654, -0.06925819, -0.18128157, -0.18105453,\n",
      "       -0.18150706, -0.0241629 , -0.02390587, -0.02415531, -0.06068201,\n",
      "       -0.0609013 , -0.05975752, -0.01577065, -0.01562337, -0.01560515,\n",
      "       -0.02771567, -0.02732271, -0.02719946]), 'mean_train_score': array([-0.07312098, -0.07317312, -0.0730314 , -0.18495454, -0.18608494,\n",
      "       -0.18600904, -0.02545535, -0.02534601, -0.02533652, -0.06372763,\n",
      "       -0.06257357, -0.06231221, -0.01607487, -0.01594475, -0.01594328,\n",
      "       -0.02850474, -0.02848038, -0.02832435]), 'std_train_score': array([0.00231266, 0.00243751, 0.00233304, 0.00445661, 0.00319724,\n",
      "       0.00249959, 0.00078787, 0.00085666, 0.00074333, 0.00160391,\n",
      "       0.00135094, 0.00138138, 0.00028964, 0.00028402, 0.00028985,\n",
      "       0.00065931, 0.00071979, 0.00066256])}\n",
      "{'max_depth': 17, 'max_features': 'auto', 'n_estimators': 1500}\n",
      "-0.10921709929023896\n",
      "0.12586118031641438\n"
     ]
    }
   ],
   "source": [
    "lasso_param = lasso_autotune(X_train,Y_train_log)\n",
    "ridge_param = ridge_autotune(X_train,Y_train_log)\n",
    "xgb_param = xgb_autotune(X_train,Y_train_log)\n",
    "random_forest_param = random_forest_autotune(X_train,Y_train_log)\n",
    "# svr_param = svr_autotune(X_train,Y_train_log)\n",
    "\n",
    "\n",
    "\n",
    "\n",
    "\n"
   ]
  },
  {
   "cell_type": "code",
   "execution_count": 29,
   "metadata": {},
   "outputs": [
    {
     "name": "stdout",
     "output_type": "stream",
     "text": [
      "===============\n",
      "lasso test score\n",
      "0.7799878917321763\n",
      "===============\n",
      "===============\n",
      "ridge test score\n",
      "0.7800124947210075\n",
      "===============\n",
      "===============\n",
      "xgb test score\n",
      "0.29185460390972295\n",
      "===============\n",
      "===============\n",
      "random forest test score\n",
      "0.3240618634563925\n",
      "===============\n"
     ]
    },
    {
     "data": {
      "text/plain": [
       "{'Modelling Algo': ['lasso', 'ridge', 'xgb', 'random forest'],\n",
       " 'RMSLE': <function __main__.rmsle(y_log, y0_log)>}"
      ]
     },
     "execution_count": 29,
     "metadata": {},
     "output_type": "execute_result"
    }
   ],
   "source": [
    "model_names=['lasso','ridge','xgb','random forest']#,'svr']\n",
    "rmsles=[]\n",
    "\n",
    "\n",
    "print('='*15)\n",
    "print('lasso test score')\n",
    "rmsles.append(rmsle(lasso_param.predict(X_test),Y_test_log))\n",
    "print(rmsle(lasso_param.predict(X_test),Y_test_log))\n",
    "print('='*15)\n",
    "\n",
    "print('='*15)\n",
    "print('ridge test score')\n",
    "rmsles.append(rmsle(lasso_param.predict(X_test),Y_test_log))\n",
    "print(rmsle(ridge_param.predict(X_test),Y_test_log))\n",
    "print('='*15)\n",
    "\n",
    "print('='*15)\n",
    "print('xgb test score')\n",
    "rmsles.append(rmsle(lasso_param.predict(X_test),Y_test_log))\n",
    "print(rmsle(xgb_param.predict(X_test),Y_test_log))\n",
    "print('='*15)\n",
    "\n",
    "print('='*15)\n",
    "print('random forest test score')\n",
    "rmsles.append(rmsle(lasso_param.predict(X_test),Y_test_log))\n",
    "print(rmsle(random_forest_param.predict(X_test),Y_test_log))\n",
    "print('='*15)\n",
    "\n",
    "# print('='*15)\n",
    "# print('svr test score')\n",
    "# rmsles.append(rmsle(lasso_param.predict(X_test),Y_test_log))\n",
    "# print(rmsle(svr_param.predict(X_test),Y_test_log))\n",
    "# print('='*15)\n",
    "\n",
    "d={'Modelling Algo':model_names,'RMSLE':rmsle}   \n",
    "d"
   ]
  },
  {
   "cell_type": "code",
   "execution_count": 30,
   "metadata": {
    "collapsed": true
   },
   "outputs": [],
   "source": [
    "predict_met = pd.DataFrame(data={method: [np.nan] * X_train.shape[0] for method in ['lasso', 'ridge', \n",
    "                                                                                  'xgb', 'random forest',\n",
    "                                                                                  #'svr'\n",
    "                                                                                   ]})"
   ]
  },
  {
   "cell_type": "code",
   "execution_count": 31,
   "metadata": {},
   "outputs": [
    {
     "data": {
      "text/html": [
       "<div>\n",
       "<style scoped>\n",
       "    .dataframe tbody tr th:only-of-type {\n",
       "        vertical-align: middle;\n",
       "    }\n",
       "\n",
       "    .dataframe tbody tr th {\n",
       "        vertical-align: top;\n",
       "    }\n",
       "\n",
       "    .dataframe thead th {\n",
       "        text-align: right;\n",
       "    }\n",
       "</style>\n",
       "<table border=\"1\" class=\"dataframe\">\n",
       "  <thead>\n",
       "    <tr style=\"text-align: right;\">\n",
       "      <th></th>\n",
       "      <th>lasso</th>\n",
       "      <th>ridge</th>\n",
       "      <th>xgb</th>\n",
       "      <th>random forest</th>\n",
       "    </tr>\n",
       "  </thead>\n",
       "  <tbody>\n",
       "    <tr>\n",
       "      <th>0</th>\n",
       "      <td>2.436318</td>\n",
       "      <td>2.436488</td>\n",
       "      <td>1.668800</td>\n",
       "      <td>1.857588</td>\n",
       "    </tr>\n",
       "    <tr>\n",
       "      <th>1</th>\n",
       "      <td>4.767600</td>\n",
       "      <td>4.767640</td>\n",
       "      <td>5.307631</td>\n",
       "      <td>5.360706</td>\n",
       "    </tr>\n",
       "    <tr>\n",
       "      <th>2</th>\n",
       "      <td>3.174975</td>\n",
       "      <td>3.175453</td>\n",
       "      <td>2.553365</td>\n",
       "      <td>2.427609</td>\n",
       "    </tr>\n",
       "    <tr>\n",
       "      <th>3</th>\n",
       "      <td>2.760753</td>\n",
       "      <td>2.761532</td>\n",
       "      <td>1.520681</td>\n",
       "      <td>1.436356</td>\n",
       "    </tr>\n",
       "    <tr>\n",
       "      <th>4</th>\n",
       "      <td>5.027744</td>\n",
       "      <td>5.027588</td>\n",
       "      <td>5.899062</td>\n",
       "      <td>5.885033</td>\n",
       "    </tr>\n",
       "  </tbody>\n",
       "</table>\n",
       "</div>"
      ],
      "text/plain": [
       "      lasso     ridge       xgb  random forest\n",
       "0  2.436318  2.436488  1.668800       1.857588\n",
       "1  4.767600  4.767640  5.307631       5.360706\n",
       "2  3.174975  3.175453  2.553365       2.427609\n",
       "3  2.760753  2.761532  1.520681       1.436356\n",
       "4  5.027744  5.027588  5.899062       5.885033"
      ]
     },
     "execution_count": 31,
     "metadata": {},
     "output_type": "execute_result"
    }
   ],
   "source": [
    "predict_met['lasso'] = lasso_param.predict(X_train)\n",
    "predict_met['ridge'] = ridge_param.predict(X_train)\n",
    "predict_met['xgb'] = xgb_param.predict(X_train)\n",
    "predict_met['random forest'] = random_forest_param.predict(X_train)\n",
    "#predict_met['svr'] = svr_param.predict(X_train)\n",
    "\n",
    "predict_met.head()"
   ]
  },
  {
   "cell_type": "code",
   "execution_count": 32,
   "metadata": {},
   "outputs": [
    {
     "name": "stdout",
     "output_type": "stream",
     "text": [
      "____________________________________________\n",
      "tune max_depth, min_child_weight\n",
      "____________________________________________\n",
      "{'mean_fit_time': array([2.56837239, 2.61273012, 1.45465903, 0.97314219, 4.49734621,\n",
      "       3.53732262, 1.43310552, 0.98631725, 4.93145199, 3.63742723,\n",
      "       1.43693132, 0.97589312, 2.5996521 , 2.62953639, 1.29188266,\n",
      "       0.92691274, 4.37175488, 3.50670767, 1.30102773, 0.91508751,\n",
      "       4.85160837, 3.85227861, 1.54825935, 0.98770518]), 'std_fit_time': array([0.04365785, 0.02172272, 0.0294601 , 0.01042971, 0.0391946 ,\n",
      "       0.03421407, 0.02489516, 0.01803238, 0.06736036, 0.04231188,\n",
      "       0.04669127, 0.01461266, 0.02606882, 0.03228285, 0.01508851,\n",
      "       0.02016649, 0.01536453, 0.05338716, 0.02599327, 0.00851488,\n",
      "       0.25095931, 0.17896995, 0.10645099, 0.00667144]), 'mean_score_time': array([0.0737186 , 0.08341036, 0.03294816, 0.01014242, 0.20813313,\n",
      "       0.12027521, 0.03379188, 0.01020517, 0.25178976, 0.11990924,\n",
      "       0.03430471, 0.01051903, 0.07833829, 0.08736839, 0.02770734,\n",
      "       0.008147  , 0.18502908, 0.11604085, 0.02760363, 0.00741134,\n",
      "       0.27637959, 0.1388155 , 0.03457122, 0.00918455]), 'std_score_time': array([0.00283614, 0.00236527, 0.00094793, 0.00066201, 0.01387384,\n",
      "       0.00327512, 0.00072185, 0.00056533, 0.00620745, 0.00623516,\n",
      "       0.00297098, 0.00082611, 0.00473174, 0.00106426, 0.00104568,\n",
      "       0.00080499, 0.00294995, 0.01274961, 0.00079975, 0.00052916,\n",
      "       0.07824883, 0.01115274, 0.00351105, 0.00038016]), 'param_learning_rate': masked_array(data=[0.05, 0.05, 0.05, 0.05, 0.05, 0.05, 0.05, 0.05, 0.05,\n",
      "                   0.05, 0.05, 0.05, 0.1, 0.1, 0.1, 0.1, 0.1, 0.1, 0.1,\n",
      "                   0.1, 0.1, 0.1, 0.1, 0.1],\n",
      "             mask=[False, False, False, False, False, False, False, False,\n",
      "                   False, False, False, False, False, False, False, False,\n",
      "                   False, False, False, False, False, False, False, False],\n",
      "       fill_value='?',\n",
      "            dtype=object), 'param_max_depth': masked_array(data=[7, 7, 7, 7, 13, 13, 13, 13, 15, 15, 15, 15, 7, 7, 7, 7,\n",
      "                   13, 13, 13, 13, 15, 15, 15, 15],\n",
      "             mask=[False, False, False, False, False, False, False, False,\n",
      "                   False, False, False, False, False, False, False, False,\n",
      "                   False, False, False, False, False, False, False, False],\n",
      "       fill_value='?',\n",
      "            dtype=object), 'param_reg_alpha': masked_array(data=[0.1, 1, 10, 100, 0.1, 1, 10, 100, 0.1, 1, 10, 100, 0.1,\n",
      "                   1, 10, 100, 0.1, 1, 10, 100, 0.1, 1, 10, 100],\n",
      "             mask=[False, False, False, False, False, False, False, False,\n",
      "                   False, False, False, False, False, False, False, False,\n",
      "                   False, False, False, False, False, False, False, False],\n",
      "       fill_value='?',\n",
      "            dtype=object), 'params': [{'learning_rate': 0.05, 'max_depth': 7, 'reg_alpha': 0.1}, {'learning_rate': 0.05, 'max_depth': 7, 'reg_alpha': 1}, {'learning_rate': 0.05, 'max_depth': 7, 'reg_alpha': 10}, {'learning_rate': 0.05, 'max_depth': 7, 'reg_alpha': 100}, {'learning_rate': 0.05, 'max_depth': 13, 'reg_alpha': 0.1}, {'learning_rate': 0.05, 'max_depth': 13, 'reg_alpha': 1}, {'learning_rate': 0.05, 'max_depth': 13, 'reg_alpha': 10}, {'learning_rate': 0.05, 'max_depth': 13, 'reg_alpha': 100}, {'learning_rate': 0.05, 'max_depth': 15, 'reg_alpha': 0.1}, {'learning_rate': 0.05, 'max_depth': 15, 'reg_alpha': 1}, {'learning_rate': 0.05, 'max_depth': 15, 'reg_alpha': 10}, {'learning_rate': 0.05, 'max_depth': 15, 'reg_alpha': 100}, {'learning_rate': 0.1, 'max_depth': 7, 'reg_alpha': 0.1}, {'learning_rate': 0.1, 'max_depth': 7, 'reg_alpha': 1}, {'learning_rate': 0.1, 'max_depth': 7, 'reg_alpha': 10}, {'learning_rate': 0.1, 'max_depth': 7, 'reg_alpha': 100}, {'learning_rate': 0.1, 'max_depth': 13, 'reg_alpha': 0.1}, {'learning_rate': 0.1, 'max_depth': 13, 'reg_alpha': 1}, {'learning_rate': 0.1, 'max_depth': 13, 'reg_alpha': 10}, {'learning_rate': 0.1, 'max_depth': 13, 'reg_alpha': 100}, {'learning_rate': 0.1, 'max_depth': 15, 'reg_alpha': 0.1}, {'learning_rate': 0.1, 'max_depth': 15, 'reg_alpha': 1}, {'learning_rate': 0.1, 'max_depth': 15, 'reg_alpha': 10}, {'learning_rate': 0.1, 'max_depth': 15, 'reg_alpha': 100}], 'split0_test_score': array([-0.01724966, -0.0155591 , -0.0172071 , -0.03626395, -0.01868155,\n",
      "       -0.0157892 , -0.01720799, -0.03626395, -0.01884072, -0.01578565,\n",
      "       -0.01720799, -0.03626395, -0.01890584, -0.01618005, -0.01814736,\n",
      "       -0.040171  , -0.01887973, -0.01627305, -0.01814899, -0.040171  ,\n",
      "       -0.0190331 , -0.01633997, -0.01814899, -0.040171  ]), 'split1_test_score': array([-0.01671288, -0.01534339, -0.01604823, -0.03266065, -0.01778512,\n",
      "       -0.0154278 , -0.01604825, -0.03266065, -0.01784252, -0.01543195,\n",
      "       -0.01604825, -0.03266065, -0.01804244, -0.01574062, -0.01677809,\n",
      "       -0.03641617, -0.01844526, -0.01585201, -0.01678342, -0.03641617,\n",
      "       -0.01843242, -0.01591328, -0.01678342, -0.03641617]), 'split2_test_score': array([-0.0161878 , -0.01489832, -0.01489511, -0.03186172, -0.01727474,\n",
      "       -0.01503727, -0.01489713, -0.03186172, -0.01732211, -0.01501714,\n",
      "       -0.01489713, -0.03186172, -0.01749478, -0.01541059, -0.01567129,\n",
      "       -0.03603916, -0.01766224, -0.01555571, -0.01566805, -0.03603916,\n",
      "       -0.01755208, -0.01559169, -0.01566805, -0.03603916]), 'split3_test_score': array([-0.01667961, -0.01514472, -0.01604488, -0.03372038, -0.01746948,\n",
      "       -0.01530336, -0.01604589, -0.03372038, -0.01763723, -0.01527541,\n",
      "       -0.01604589, -0.03372038, -0.01792919, -0.01566463, -0.01657311,\n",
      "       -0.0390377 , -0.01826112, -0.01591332, -0.01655493, -0.0390377 ,\n",
      "       -0.01815409, -0.01585935, -0.01655493, -0.0390377 ]), 'split4_test_score': array([-0.01694514, -0.01564085, -0.01718221, -0.03612476, -0.01814003,\n",
      "       -0.01571322, -0.0171851 , -0.03612476, -0.01815482, -0.01573031,\n",
      "       -0.0171851 , -0.03612476, -0.0181017 , -0.01589693, -0.01728232,\n",
      "       -0.04208729, -0.01917561, -0.01605703, -0.01729868, -0.04208729,\n",
      "       -0.01912632, -0.01609718, -0.01729868, -0.04208729]), 'mean_test_score': array([-0.01675502, -0.01531727, -0.01627551, -0.03412629, -0.01787018,\n",
      "       -0.01545417, -0.01627687, -0.03412629, -0.01795948, -0.01544809,\n",
      "       -0.01627687, -0.03412629, -0.01809479, -0.01577856, -0.01689043,\n",
      "       -0.03875026, -0.01848479, -0.01593023, -0.01689081, -0.03875026,\n",
      "       -0.0184596 , -0.01596029, -0.01689081, -0.03875026]), 'std_test_score': array([0.00034929, 0.00027172, 0.00086027, 0.00178911, 0.0005007 ,\n",
      "       0.00027444, 0.00086037, 0.00178911, 0.0005174 , 0.00028615,\n",
      "       0.00086037, 0.00178911, 0.00045783, 0.00025496, 0.00081647,\n",
      "       0.00228188, 0.0005218 , 0.00023676, 0.00082084, 0.00228188,\n",
      "       0.00058156, 0.00024947, 0.00082084, 0.00228188]), 'rank_test_score': array([10,  1,  7, 19, 14,  3,  8, 19, 15,  2,  8, 19, 16,  4, 11, 22, 18,\n",
      "        5, 12, 22, 17,  6, 12, 22], dtype=int32), 'split0_train_score': array([-0.00275047, -0.00768234, -0.01362848, -0.03169983, -0.00039201,\n",
      "       -0.00661235, -0.01362754, -0.03169983, -0.00032265, -0.00657517,\n",
      "       -0.01362754, -0.03169983, -0.00114057, -0.00643024, -0.01432607,\n",
      "       -0.03504924, -0.00020864, -0.00554907, -0.01432771, -0.03504924,\n",
      "       -0.00018683, -0.0055309 , -0.01432771, -0.03504924]), 'split1_train_score': array([-0.00268322, -0.00763316, -0.01403349, -0.03158823, -0.00038195,\n",
      "       -0.00659811, -0.0140372 , -0.03158823, -0.00031708, -0.00656074,\n",
      "       -0.0140372 , -0.03158823, -0.00112769, -0.00644765, -0.0143999 ,\n",
      "       -0.03622094, -0.00020691, -0.00557142, -0.01441382, -0.03622094,\n",
      "       -0.00018579, -0.00554155, -0.01441382, -0.03622094]), 'split2_train_score': array([-0.00267827, -0.0076092 , -0.01391567, -0.03191141, -0.00038345,\n",
      "       -0.00658917, -0.01391375, -0.03191141, -0.00031601, -0.00655084,\n",
      "       -0.01391375, -0.03191141, -0.00111526, -0.00639363, -0.01420006,\n",
      "       -0.03651261, -0.00020704, -0.00553551, -0.01419927, -0.03651261,\n",
      "       -0.00018555, -0.00552913, -0.01419927, -0.03651261]), 'split3_train_score': array([-0.00267945, -0.00760435, -0.01369467, -0.03165228, -0.00038615,\n",
      "       -0.00657762, -0.01369242, -0.03165228, -0.00031121, -0.00655327,\n",
      "       -0.01369242, -0.03165228, -0.00111647, -0.00638545, -0.01407763,\n",
      "       -0.03647211, -0.00020504, -0.00556713, -0.01407278, -0.03647211,\n",
      "       -0.00018483, -0.00552592, -0.01407278, -0.03647211]), 'split4_train_score': array([-0.00271172, -0.00762875, -0.01355363, -0.03114931, -0.00039019,\n",
      "       -0.00662182, -0.01354758, -0.03114931, -0.00032081, -0.00658133,\n",
      "       -0.01354758, -0.03114931, -0.00112422, -0.00641718, -0.01383705,\n",
      "       -0.03637603, -0.00020914, -0.00557056, -0.0138353 , -0.03637603,\n",
      "       -0.00018713, -0.00554942, -0.0138353 , -0.03637603]), 'mean_train_score': array([-0.00270063, -0.00763156, -0.01376519, -0.03160021, -0.00038675,\n",
      "       -0.00659982, -0.0137637 , -0.03160021, -0.00031755, -0.00656427,\n",
      "       -0.0137637 , -0.03160021, -0.00112484, -0.00641483, -0.01416814,\n",
      "       -0.03612618, -0.00020735, -0.00555874, -0.01416977, -0.03612618,\n",
      "       -0.00018603, -0.00553538, -0.01416977, -0.03612618]), 'std_train_score': array([2.77821155e-05, 2.76741070e-05, 1.80581652e-04, 2.50172434e-04,\n",
      "       3.84087878e-06, 1.58119113e-05, 1.83107884e-04, 2.50172434e-04,\n",
      "       3.98607537e-06, 1.20285644e-05, 1.83107884e-04, 2.50172434e-04,\n",
      "       9.14002087e-06, 2.29486591e-05, 1.98739524e-04, 5.47757442e-04,\n",
      "       1.44859817e-06, 1.41699421e-05, 2.03299972e-04, 5.47757442e-04,\n",
      "       8.44713468e-07, 8.76419399e-06, 2.03299972e-04, 5.47757442e-04])}\n",
      "{'learning_rate': 0.05, 'max_depth': 7, 'reg_alpha': 1}\n",
      "-0.015317273718835562\n"
     ]
    },
    {
     "name": "stdout",
     "output_type": "stream",
     "text": [
      "0.08864044209308107\n"
     ]
    }
   ],
   "source": [
    "ensenble_xgb = xgb_autotune(predict_met,Y_train_log)"
   ]
  },
  {
   "cell_type": "code",
   "execution_count": 33,
   "metadata": {
    "collapsed": true
   },
   "outputs": [],
   "source": [
    "test_met = pd.DataFrame(data={method: [np.nan] * X_test.shape[0] for method in ['lasso', 'ridge', \n",
    "                                                                                  'xgb', 'random forest',\n",
    "                                                                                  #'svr'\n",
    "                                                                               ]})\n",
    "test_met['lasso'] = lasso_param.predict(X_test)\n",
    "test_met['ridge'] = ridge_param.predict(X_test)\n",
    "test_met['xgb'] = xgb_param.predict(X_test)\n",
    "test_met['random forest'] = random_forest_param.predict(X_test)\n",
    "#test_met['svr'] = svr_param.predict(X_test)\n",
    "                        \n",
    "                        "
   ]
  },
  {
   "cell_type": "code",
   "execution_count": null,
   "metadata": {
    "collapsed": true
   },
   "outputs": [],
   "source": []
  },
  {
   "cell_type": "code",
   "execution_count": 34,
   "metadata": {},
   "outputs": [
    {
     "name": "stdout",
     "output_type": "stream",
     "text": [
      "===============\n",
      "outer layer test score\n",
      "0.30647043445180083\n",
      "===============\n"
     ]
    }
   ],
   "source": [
    "print('='*15)\n",
    "print('outer layer test score')\n",
    "print(rmsle(ensenble_xgb.predict(test_met),Y_test_log))\n",
    "print('='*15)"
   ]
  },
  {
   "cell_type": "code",
   "execution_count": 46,
   "metadata": {
    "collapsed": true
   },
   "outputs": [],
   "source": [
    "Test_Master['humi_cate_low'] = 0\n",
    "Test_Master = Test_Master[X_train.columns]"
   ]
  },
  {
   "cell_type": "code",
   "execution_count": 47,
   "metadata": {},
   "outputs": [
    {
     "data": {
      "text/html": [
       "<div>\n",
       "<style scoped>\n",
       "    .dataframe tbody tr th:only-of-type {\n",
       "        vertical-align: middle;\n",
       "    }\n",
       "\n",
       "    .dataframe tbody tr th {\n",
       "        vertical-align: top;\n",
       "    }\n",
       "\n",
       "    .dataframe thead th {\n",
       "        text-align: right;\n",
       "    }\n",
       "</style>\n",
       "<table border=\"1\" class=\"dataframe\">\n",
       "  <thead>\n",
       "    <tr style=\"text-align: right;\">\n",
       "      <th></th>\n",
       "      <th>lasso</th>\n",
       "      <th>ridge</th>\n",
       "      <th>xgb</th>\n",
       "      <th>random forest</th>\n",
       "    </tr>\n",
       "  </thead>\n",
       "  <tbody>\n",
       "    <tr>\n",
       "      <th>0</th>\n",
       "      <td>1.709720</td>\n",
       "      <td>1.709956</td>\n",
       "      <td>2.408498</td>\n",
       "      <td>2.371457</td>\n",
       "    </tr>\n",
       "    <tr>\n",
       "      <th>1</th>\n",
       "      <td>1.934121</td>\n",
       "      <td>1.934163</td>\n",
       "      <td>1.753835</td>\n",
       "      <td>1.879350</td>\n",
       "    </tr>\n",
       "    <tr>\n",
       "      <th>2</th>\n",
       "      <td>2.036950</td>\n",
       "      <td>2.036985</td>\n",
       "      <td>1.345422</td>\n",
       "      <td>1.444652</td>\n",
       "    </tr>\n",
       "    <tr>\n",
       "      <th>3</th>\n",
       "      <td>2.079944</td>\n",
       "      <td>2.080051</td>\n",
       "      <td>1.151324</td>\n",
       "      <td>1.405032</td>\n",
       "    </tr>\n",
       "    <tr>\n",
       "      <th>4</th>\n",
       "      <td>2.182772</td>\n",
       "      <td>2.182873</td>\n",
       "      <td>0.908375</td>\n",
       "      <td>1.226617</td>\n",
       "    </tr>\n",
       "  </tbody>\n",
       "</table>\n",
       "</div>"
      ],
      "text/plain": [
       "      lasso     ridge       xgb  random forest\n",
       "0  1.709720  1.709956  2.408498       2.371457\n",
       "1  1.934121  1.934163  1.753835       1.879350\n",
       "2  2.036950  2.036985  1.345422       1.444652\n",
       "3  2.079944  2.080051  1.151324       1.405032\n",
       "4  2.182772  2.182873  0.908375       1.226617"
      ]
     },
     "execution_count": 47,
     "metadata": {},
     "output_type": "execute_result"
    }
   ],
   "source": [
    "result_met = pd.DataFrame(data={method: [np.nan] * Test_Master.shape[0] for method in ['lasso', 'ridge', \n",
    "                                                                                  'xgb', 'random forest',\n",
    "                                                                                  #'svr'\n",
    "                                                                                      ]})\n",
    "result_met['lasso'] = lasso_param.predict(Test_Master)\n",
    "result_met['ridge'] = ridge_param.predict(Test_Master)\n",
    "result_met['xgb'] = xgb_param.predict(Test_Master)\n",
    "result_met['random forest'] = random_forest_param.predict(Test_Master)\n",
    "#result_met['svr'] = svr_param.predict(Test_Master)\n",
    "                        \n",
    "result_met.head()                     "
   ]
  },
  {
   "cell_type": "code",
   "execution_count": null,
   "metadata": {
    "collapsed": true
   },
   "outputs": [],
   "source": []
  },
  {
   "cell_type": "code",
   "execution_count": 48,
   "metadata": {
    "collapsed": true
   },
   "outputs": [],
   "source": [
    "pred_log = ensenble_xgb.predict(result_met)\n",
    "pred = np.expm1(pred_log)\n",
    "\n",
    "submission={'datetime':test['datetime'],'count':pred}\n",
    "submission = pd.DataFrame(submission)\n",
    "\n",
    "submission['count'] = submission.apply(lambda x : 1 if (x['count'] <= 0) else x['count'], axis = 1)\n",
    "submission.to_csv(\"submission.csv\", index=False)\n"
   ]
  },
  {
   "cell_type": "code",
   "execution_count": null,
   "metadata": {
    "collapsed": true
   },
   "outputs": [],
   "source": []
  }
 ],
 "metadata": {
  "kernelspec": {
   "display_name": "Python 3",
   "language": "python",
   "name": "python3"
  },
  "language_info": {
   "codemirror_mode": {
    "name": "ipython",
    "version": 3
   },
   "file_extension": ".py",
   "mimetype": "text/x-python",
   "name": "python",
   "nbconvert_exporter": "python",
   "pygments_lexer": "ipython3",
   "version": "3.6.3"
  }
 },
 "nbformat": 4,
 "nbformat_minor": 2
}
