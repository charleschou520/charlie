{
 "cells": [
  {
   "cell_type": "code",
   "execution_count": 1,
   "metadata": {
    "collapsed": true
   },
   "outputs": [],
   "source": [
    "%matplotlib inline\n",
    "import pandas as pd\n",
    "from datetime import datetime, date\n",
    "from sklearn.model_selection import train_test_split\n",
    "import xgboost as xgb\n",
    "from sklearn.linear_model import LinearRegression, Ridge,BayesianRidge\n",
    "from sklearn.cluster import MiniBatchKMeans\n",
    "from sklearn.metrics import mean_squared_error\n",
    "from math import radians, cos, sin, asin, sqrt\n",
    "import seaborn as sns\n",
    "import matplotlib\n",
    "import numpy as np\n",
    "import matplotlib.pyplot as plt\n",
    "plt.rcParams['figure.figsize'] = [60, 30]\n",
    "from sklearn.cluster import KMeans\n",
    "\n",
    "from sklearn.model_selection import GridSearchCV\n",
    "from sklearn.model_selection import cross_val_score, KFold"
   ]
  },
  {
   "cell_type": "code",
   "execution_count": 2,
   "metadata": {
    "collapsed": true
   },
   "outputs": [],
   "source": [
    "train = pd.read_csv('train.csv', parse_dates=['pickup_datetime'])\n",
    "test = pd.read_csv('test.csv', parse_dates=['pickup_datetime'])"
   ]
  },
  {
   "cell_type": "code",
   "execution_count": 3,
   "metadata": {},
   "outputs": [
    {
     "name": "stdout",
     "output_type": "stream",
     "text": [
      " train shape  (1458644, 11)\n",
      " test shape  (625134, 9)\n"
     ]
    }
   ],
   "source": [
    "print( ' train shape ',train.shape)\n",
    "print( ' test shape ',test.shape)"
   ]
  },
  {
   "cell_type": "code",
   "execution_count": 4,
   "metadata": {},
   "outputs": [
    {
     "name": "stdout",
     "output_type": "stream",
     "text": [
      "['dropoff_datetime', 'trip_duration']\n"
     ]
    }
   ],
   "source": [
    "print([i for i in train.columns if i not in test.columns])"
   ]
  },
  {
   "cell_type": "markdown",
   "metadata": {},
   "source": [
    "### holiday"
   ]
  },
  {
   "cell_type": "code",
   "execution_count": 5,
   "metadata": {
    "scrolled": true
   },
   "outputs": [
    {
     "data": {
      "text/html": [
       "<div>\n",
       "<style>\n",
       "    .dataframe thead tr:only-child th {\n",
       "        text-align: right;\n",
       "    }\n",
       "\n",
       "    .dataframe thead th {\n",
       "        text-align: left;\n",
       "    }\n",
       "\n",
       "    .dataframe tbody tr th {\n",
       "        vertical-align: top;\n",
       "    }\n",
       "</style>\n",
       "<table border=\"1\" class=\"dataframe\">\n",
       "  <thead>\n",
       "    <tr style=\"text-align: right;\">\n",
       "      <th></th>\n",
       "      <th>Day</th>\n",
       "      <th>Date</th>\n",
       "      <th>Holiday</th>\n",
       "    </tr>\n",
       "  </thead>\n",
       "  <tbody>\n",
       "    <tr>\n",
       "      <th>0</th>\n",
       "      <td>Friday</td>\n",
       "      <td>January 01</td>\n",
       "      <td>New Years Day</td>\n",
       "    </tr>\n",
       "    <tr>\n",
       "      <th>1</th>\n",
       "      <td>Monday</td>\n",
       "      <td>January 18</td>\n",
       "      <td>Martin Luther King Jr. Day</td>\n",
       "    </tr>\n",
       "    <tr>\n",
       "      <th>2</th>\n",
       "      <td>Friday</td>\n",
       "      <td>February 12</td>\n",
       "      <td>Lincoln's Birthday</td>\n",
       "    </tr>\n",
       "    <tr>\n",
       "      <th>3</th>\n",
       "      <td>Monday</td>\n",
       "      <td>February 15</td>\n",
       "      <td>Presidents' Day</td>\n",
       "    </tr>\n",
       "    <tr>\n",
       "      <th>4</th>\n",
       "      <td>Sunday</td>\n",
       "      <td>May 08</td>\n",
       "      <td>Mother's Day</td>\n",
       "    </tr>\n",
       "  </tbody>\n",
       "</table>\n",
       "</div>"
      ],
      "text/plain": [
       "      Day         Date                     Holiday\n",
       "0  Friday   January 01               New Years Day\n",
       "1  Monday   January 18  Martin Luther King Jr. Day\n",
       "2  Friday  February 12          Lincoln's Birthday\n",
       "3  Monday  February 15             Presidents' Day\n",
       "4  Sunday       May 08                Mother's Day"
      ]
     },
     "execution_count": 5,
     "metadata": {},
     "output_type": "execute_result"
    }
   ],
   "source": [
    "holiday = pd.read_csv('NYC_2016Holidays.csv',sep=';')\n",
    "holiday.head()"
   ]
  },
  {
   "cell_type": "code",
   "execution_count": 6,
   "metadata": {
    "scrolled": true
   },
   "outputs": [
    {
     "data": {
      "text/html": [
       "<div>\n",
       "<style>\n",
       "    .dataframe thead tr:only-child th {\n",
       "        text-align: right;\n",
       "    }\n",
       "\n",
       "    .dataframe thead th {\n",
       "        text-align: left;\n",
       "    }\n",
       "\n",
       "    .dataframe tbody tr th {\n",
       "        vertical-align: top;\n",
       "    }\n",
       "</style>\n",
       "<table border=\"1\" class=\"dataframe\">\n",
       "  <thead>\n",
       "    <tr style=\"text-align: right;\">\n",
       "      <th></th>\n",
       "      <th>Day</th>\n",
       "      <th>Date</th>\n",
       "      <th>Holiday</th>\n",
       "    </tr>\n",
       "  </thead>\n",
       "  <tbody>\n",
       "    <tr>\n",
       "      <th>0</th>\n",
       "      <td>Friday</td>\n",
       "      <td>January 01 2016</td>\n",
       "      <td>New Years Day</td>\n",
       "    </tr>\n",
       "    <tr>\n",
       "      <th>1</th>\n",
       "      <td>Monday</td>\n",
       "      <td>January 18 2016</td>\n",
       "      <td>Martin Luther King Jr. Day</td>\n",
       "    </tr>\n",
       "    <tr>\n",
       "      <th>2</th>\n",
       "      <td>Friday</td>\n",
       "      <td>February 12 2016</td>\n",
       "      <td>Lincoln's Birthday</td>\n",
       "    </tr>\n",
       "    <tr>\n",
       "      <th>3</th>\n",
       "      <td>Monday</td>\n",
       "      <td>February 15 2016</td>\n",
       "      <td>Presidents' Day</td>\n",
       "    </tr>\n",
       "    <tr>\n",
       "      <th>4</th>\n",
       "      <td>Sunday</td>\n",
       "      <td>May 08 2016</td>\n",
       "      <td>Mother's Day</td>\n",
       "    </tr>\n",
       "  </tbody>\n",
       "</table>\n",
       "</div>"
      ],
      "text/plain": [
       "      Day              Date                     Holiday\n",
       "0  Friday   January 01 2016               New Years Day\n",
       "1  Monday   January 18 2016  Martin Luther King Jr. Day\n",
       "2  Friday  February 12 2016          Lincoln's Birthday\n",
       "3  Monday  February 15 2016             Presidents' Day\n",
       "4  Sunday       May 08 2016                Mother's Day"
      ]
     },
     "execution_count": 6,
     "metadata": {},
     "output_type": "execute_result"
    }
   ],
   "source": [
    "holiday['Date'] = holiday['Date'].apply(lambda x: x + ' 2016')\n",
    "holiday.head()"
   ]
  },
  {
   "cell_type": "code",
   "execution_count": 7,
   "metadata": {},
   "outputs": [
    {
     "data": {
      "text/plain": [
       "[datetime.date(2016, 1, 1),\n",
       " datetime.date(2016, 1, 18),\n",
       " datetime.date(2016, 2, 12),\n",
       " datetime.date(2016, 2, 15),\n",
       " datetime.date(2016, 5, 8),\n",
       " datetime.date(2016, 5, 30),\n",
       " datetime.date(2016, 6, 19),\n",
       " datetime.date(2016, 7, 4),\n",
       " datetime.date(2016, 9, 5),\n",
       " datetime.date(2016, 10, 10),\n",
       " datetime.date(2016, 11, 11),\n",
       " datetime.date(2016, 11, 24),\n",
       " datetime.date(2016, 12, 26),\n",
       " datetime.date(2016, 7, 4),\n",
       " datetime.date(2016, 11, 8)]"
      ]
     },
     "execution_count": 7,
     "metadata": {},
     "output_type": "execute_result"
    }
   ],
   "source": [
    "holidays = [datetime.strptime(holiday.loc[i,'Date'], '%B %d %Y').date() for i in range(len(holiday))]\n",
    "holidays\n"
   ]
  },
  {
   "cell_type": "markdown",
   "metadata": {},
   "source": [
    "### routes from open source routing machine"
   ]
  },
  {
   "cell_type": "code",
   "execution_count": 8,
   "metadata": {},
   "outputs": [
    {
     "data": {
      "text/html": [
       "<div>\n",
       "<style>\n",
       "    .dataframe thead tr:only-child th {\n",
       "        text-align: right;\n",
       "    }\n",
       "\n",
       "    .dataframe thead th {\n",
       "        text-align: left;\n",
       "    }\n",
       "\n",
       "    .dataframe tbody tr th {\n",
       "        vertical-align: top;\n",
       "    }\n",
       "</style>\n",
       "<table border=\"1\" class=\"dataframe\">\n",
       "  <thead>\n",
       "    <tr style=\"text-align: right;\">\n",
       "      <th></th>\n",
       "      <th>id</th>\n",
       "      <th>total_distance</th>\n",
       "      <th>total_travel_time</th>\n",
       "      <th>number_of_steps</th>\n",
       "      <th>step_direction</th>\n",
       "    </tr>\n",
       "  </thead>\n",
       "  <tbody>\n",
       "    <tr>\n",
       "      <th>0</th>\n",
       "      <td>id2875421</td>\n",
       "      <td>2009.1</td>\n",
       "      <td>164.9</td>\n",
       "      <td>5</td>\n",
       "      <td>left|straight|right|straight|arrive</td>\n",
       "    </tr>\n",
       "    <tr>\n",
       "      <th>1</th>\n",
       "      <td>id2377394</td>\n",
       "      <td>2513.2</td>\n",
       "      <td>332.0</td>\n",
       "      <td>6</td>\n",
       "      <td>none|right|left|right|left|arrive</td>\n",
       "    </tr>\n",
       "    <tr>\n",
       "      <th>2</th>\n",
       "      <td>id3504673</td>\n",
       "      <td>1779.4</td>\n",
       "      <td>235.8</td>\n",
       "      <td>4</td>\n",
       "      <td>left|left|right|arrive</td>\n",
       "    </tr>\n",
       "    <tr>\n",
       "      <th>3</th>\n",
       "      <td>id2181028</td>\n",
       "      <td>1614.9</td>\n",
       "      <td>140.1</td>\n",
       "      <td>5</td>\n",
       "      <td>right|left|right|left|arrive</td>\n",
       "    </tr>\n",
       "    <tr>\n",
       "      <th>4</th>\n",
       "      <td>id0801584</td>\n",
       "      <td>1393.5</td>\n",
       "      <td>189.4</td>\n",
       "      <td>5</td>\n",
       "      <td>right|right|right|left|arrive</td>\n",
       "    </tr>\n",
       "  </tbody>\n",
       "</table>\n",
       "</div>"
      ],
      "text/plain": [
       "          id  total_distance  total_travel_time  number_of_steps  \\\n",
       "0  id2875421          2009.1              164.9                5   \n",
       "1  id2377394          2513.2              332.0                6   \n",
       "2  id3504673          1779.4              235.8                4   \n",
       "3  id2181028          1614.9              140.1                5   \n",
       "4  id0801584          1393.5              189.4                5   \n",
       "\n",
       "                        step_direction  \n",
       "0  left|straight|right|straight|arrive  \n",
       "1    none|right|left|right|left|arrive  \n",
       "2               left|left|right|arrive  \n",
       "3         right|left|right|left|arrive  \n",
       "4        right|right|right|left|arrive  "
      ]
     },
     "execution_count": 8,
     "metadata": {},
     "output_type": "execute_result"
    }
   ],
   "source": [
    "fastrout1 = pd.read_csv('fastest_routes_train_part_1.csv',\n",
    "                        usecols=['id', 'total_distance', 'total_travel_time',  'number_of_steps','step_direction'])\n",
    "fastrout2 = pd.read_csv('fastest_routes_train_part_2.csv',\n",
    "                        usecols=['id', 'total_distance', 'total_travel_time',  'number_of_steps','step_direction'])\n",
    "fastrout = pd.concat((fastrout1,fastrout2))\n",
    "fastrout.head()\n"
   ]
  },
  {
   "cell_type": "code",
   "execution_count": 9,
   "metadata": {},
   "outputs": [
    {
     "data": {
      "text/html": [
       "<div>\n",
       "<style>\n",
       "    .dataframe thead tr:only-child th {\n",
       "        text-align: right;\n",
       "    }\n",
       "\n",
       "    .dataframe thead th {\n",
       "        text-align: left;\n",
       "    }\n",
       "\n",
       "    .dataframe tbody tr th {\n",
       "        vertical-align: top;\n",
       "    }\n",
       "</style>\n",
       "<table border=\"1\" class=\"dataframe\">\n",
       "  <thead>\n",
       "    <tr style=\"text-align: right;\">\n",
       "      <th></th>\n",
       "      <th>id</th>\n",
       "      <th>total_distance</th>\n",
       "      <th>total_travel_time</th>\n",
       "      <th>number_of_steps</th>\n",
       "      <th>right_steps</th>\n",
       "      <th>left_steps</th>\n",
       "    </tr>\n",
       "  </thead>\n",
       "  <tbody>\n",
       "    <tr>\n",
       "      <th>0</th>\n",
       "      <td>id2875421</td>\n",
       "      <td>2009.1</td>\n",
       "      <td>164.9</td>\n",
       "      <td>5</td>\n",
       "      <td>1</td>\n",
       "      <td>1</td>\n",
       "    </tr>\n",
       "    <tr>\n",
       "      <th>1</th>\n",
       "      <td>id2377394</td>\n",
       "      <td>2513.2</td>\n",
       "      <td>332.0</td>\n",
       "      <td>6</td>\n",
       "      <td>2</td>\n",
       "      <td>2</td>\n",
       "    </tr>\n",
       "    <tr>\n",
       "      <th>2</th>\n",
       "      <td>id3504673</td>\n",
       "      <td>1779.4</td>\n",
       "      <td>235.8</td>\n",
       "      <td>4</td>\n",
       "      <td>1</td>\n",
       "      <td>2</td>\n",
       "    </tr>\n",
       "    <tr>\n",
       "      <th>3</th>\n",
       "      <td>id2181028</td>\n",
       "      <td>1614.9</td>\n",
       "      <td>140.1</td>\n",
       "      <td>5</td>\n",
       "      <td>2</td>\n",
       "      <td>2</td>\n",
       "    </tr>\n",
       "    <tr>\n",
       "      <th>4</th>\n",
       "      <td>id0801584</td>\n",
       "      <td>1393.5</td>\n",
       "      <td>189.4</td>\n",
       "      <td>5</td>\n",
       "      <td>3</td>\n",
       "      <td>1</td>\n",
       "    </tr>\n",
       "  </tbody>\n",
       "</table>\n",
       "</div>"
      ],
      "text/plain": [
       "          id  total_distance  total_travel_time  number_of_steps  right_steps  \\\n",
       "0  id2875421          2009.1              164.9                5            1   \n",
       "1  id2377394          2513.2              332.0                6            2   \n",
       "2  id3504673          1779.4              235.8                4            1   \n",
       "3  id2181028          1614.9              140.1                5            2   \n",
       "4  id0801584          1393.5              189.4                5            3   \n",
       "\n",
       "   left_steps  \n",
       "0           1  \n",
       "1           2  \n",
       "2           2  \n",
       "3           2  \n",
       "4           1  "
      ]
     },
     "execution_count": 9,
     "metadata": {},
     "output_type": "execute_result"
    }
   ],
   "source": [
    "right_turn = []\n",
    "left_turn = []\n",
    "right_turn+= list(map(lambda x:x.count('right')-x.count('slight right'),fastrout.step_direction))\n",
    "left_turn += list(map(lambda x:x.count('left')-x.count('slight left'),fastrout.step_direction))\n",
    "\n",
    "osrm_data = fastrout[['id','total_distance','total_travel_time','number_of_steps']]\n",
    "osrm_data = osrm_data.assign(right_steps=right_turn)\n",
    "osrm_data = osrm_data.assign(left_steps=left_turn)\n",
    "osrm_data.head()"
   ]
  },
  {
   "cell_type": "code",
   "execution_count": 10,
   "metadata": {},
   "outputs": [
    {
     "data": {
      "text/html": [
       "<div>\n",
       "<style>\n",
       "    .dataframe thead tr:only-child th {\n",
       "        text-align: right;\n",
       "    }\n",
       "\n",
       "    .dataframe thead th {\n",
       "        text-align: left;\n",
       "    }\n",
       "\n",
       "    .dataframe tbody tr th {\n",
       "        vertical-align: top;\n",
       "    }\n",
       "</style>\n",
       "<table border=\"1\" class=\"dataframe\">\n",
       "  <thead>\n",
       "    <tr style=\"text-align: right;\">\n",
       "      <th></th>\n",
       "      <th>id</th>\n",
       "      <th>total_distance</th>\n",
       "      <th>total_travel_time</th>\n",
       "      <th>number_of_steps</th>\n",
       "      <th>right_steps</th>\n",
       "      <th>left_steps</th>\n",
       "    </tr>\n",
       "  </thead>\n",
       "  <tbody>\n",
       "    <tr>\n",
       "      <th>0</th>\n",
       "      <td>id0771704</td>\n",
       "      <td>1497.1</td>\n",
       "      <td>200.2</td>\n",
       "      <td>7</td>\n",
       "      <td>2</td>\n",
       "      <td>3</td>\n",
       "    </tr>\n",
       "    <tr>\n",
       "      <th>1</th>\n",
       "      <td>id3274209</td>\n",
       "      <td>1427.1</td>\n",
       "      <td>141.5</td>\n",
       "      <td>2</td>\n",
       "      <td>0</td>\n",
       "      <td>0</td>\n",
       "    </tr>\n",
       "    <tr>\n",
       "      <th>2</th>\n",
       "      <td>id2756455</td>\n",
       "      <td>2312.3</td>\n",
       "      <td>324.6</td>\n",
       "      <td>9</td>\n",
       "      <td>4</td>\n",
       "      <td>4</td>\n",
       "    </tr>\n",
       "    <tr>\n",
       "      <th>3</th>\n",
       "      <td>id3684027</td>\n",
       "      <td>931.8</td>\n",
       "      <td>84.2</td>\n",
       "      <td>4</td>\n",
       "      <td>2</td>\n",
       "      <td>1</td>\n",
       "    </tr>\n",
       "    <tr>\n",
       "      <th>4</th>\n",
       "      <td>id3101285</td>\n",
       "      <td>2501.7</td>\n",
       "      <td>294.7</td>\n",
       "      <td>8</td>\n",
       "      <td>3</td>\n",
       "      <td>3</td>\n",
       "    </tr>\n",
       "  </tbody>\n",
       "</table>\n",
       "</div>"
      ],
      "text/plain": [
       "          id  total_distance  total_travel_time  number_of_steps  right_steps  \\\n",
       "0  id0771704          1497.1              200.2                7            2   \n",
       "1  id3274209          1427.1              141.5                2            0   \n",
       "2  id2756455          2312.3              324.6                9            4   \n",
       "3  id3684027           931.8               84.2                4            2   \n",
       "4  id3101285          2501.7              294.7                8            3   \n",
       "\n",
       "   left_steps  \n",
       "0           3  \n",
       "1           0  \n",
       "2           4  \n",
       "3           1  \n",
       "4           3  "
      ]
     },
     "execution_count": 10,
     "metadata": {},
     "output_type": "execute_result"
    }
   ],
   "source": [
    "osrm_test = pd.read_csv('fastest_routes_test.csv')\n",
    "right_turn= list(map(lambda x:x.count('right')-x.count('slight right'),osrm_test.step_direction))\n",
    "left_turn = list(map(lambda x:x.count('left')-x.count('slight left'),osrm_test.step_direction))\n",
    "\n",
    "osrm_test = osrm_test[['id','total_distance','total_travel_time','number_of_steps']]\n",
    "osrm_test = osrm_test.assign(right_steps=right_turn)\n",
    "osrm_test = osrm_test.assign(left_steps=left_turn)\n",
    "osrm_test.head()"
   ]
  },
  {
   "cell_type": "markdown",
   "metadata": {},
   "source": [
    "### weather "
   ]
  },
  {
   "cell_type": "code",
   "execution_count": 11,
   "metadata": {},
   "outputs": [
    {
     "data": {
      "text/html": [
       "<div>\n",
       "<style>\n",
       "    .dataframe thead tr:only-child th {\n",
       "        text-align: right;\n",
       "    }\n",
       "\n",
       "    .dataframe thead th {\n",
       "        text-align: left;\n",
       "    }\n",
       "\n",
       "    .dataframe tbody tr th {\n",
       "        vertical-align: top;\n",
       "    }\n",
       "</style>\n",
       "<table border=\"1\" class=\"dataframe\">\n",
       "  <thead>\n",
       "    <tr style=\"text-align: right;\">\n",
       "      <th></th>\n",
       "      <th>Time</th>\n",
       "      <th>Temp.</th>\n",
       "      <th>Windchill</th>\n",
       "      <th>Heat Index</th>\n",
       "      <th>Humidity</th>\n",
       "      <th>Pressure</th>\n",
       "      <th>Dew Point</th>\n",
       "      <th>Visibility</th>\n",
       "      <th>Wind Dir</th>\n",
       "      <th>Wind Speed</th>\n",
       "      <th>Gust Speed</th>\n",
       "      <th>Precip</th>\n",
       "      <th>Events</th>\n",
       "      <th>Conditions</th>\n",
       "    </tr>\n",
       "  </thead>\n",
       "  <tbody>\n",
       "    <tr>\n",
       "      <th>0</th>\n",
       "      <td>2015-12-31 02:00:00</td>\n",
       "      <td>7.8</td>\n",
       "      <td>7.1</td>\n",
       "      <td>NaN</td>\n",
       "      <td>0.89</td>\n",
       "      <td>1017.0</td>\n",
       "      <td>6.1</td>\n",
       "      <td>8.0</td>\n",
       "      <td>NNE</td>\n",
       "      <td>5.6</td>\n",
       "      <td>0.0</td>\n",
       "      <td>0.8</td>\n",
       "      <td>None</td>\n",
       "      <td>Overcast</td>\n",
       "    </tr>\n",
       "    <tr>\n",
       "      <th>1</th>\n",
       "      <td>2015-12-31 03:00:00</td>\n",
       "      <td>7.2</td>\n",
       "      <td>5.9</td>\n",
       "      <td>NaN</td>\n",
       "      <td>0.90</td>\n",
       "      <td>1016.5</td>\n",
       "      <td>5.6</td>\n",
       "      <td>12.9</td>\n",
       "      <td>Variable</td>\n",
       "      <td>7.4</td>\n",
       "      <td>0.0</td>\n",
       "      <td>0.3</td>\n",
       "      <td>None</td>\n",
       "      <td>Overcast</td>\n",
       "    </tr>\n",
       "    <tr>\n",
       "      <th>2</th>\n",
       "      <td>2015-12-31 04:00:00</td>\n",
       "      <td>7.2</td>\n",
       "      <td>NaN</td>\n",
       "      <td>NaN</td>\n",
       "      <td>0.90</td>\n",
       "      <td>1016.7</td>\n",
       "      <td>5.6</td>\n",
       "      <td>12.9</td>\n",
       "      <td>Calm</td>\n",
       "      <td>0.0</td>\n",
       "      <td>0.0</td>\n",
       "      <td>0.0</td>\n",
       "      <td>None</td>\n",
       "      <td>Overcast</td>\n",
       "    </tr>\n",
       "  </tbody>\n",
       "</table>\n",
       "</div>"
      ],
      "text/plain": [
       "                 Time  Temp.  Windchill  Heat Index  Humidity  Pressure  \\\n",
       "0 2015-12-31 02:00:00    7.8        7.1         NaN      0.89    1017.0   \n",
       "1 2015-12-31 03:00:00    7.2        5.9         NaN      0.90    1016.5   \n",
       "2 2015-12-31 04:00:00    7.2        NaN         NaN      0.90    1016.7   \n",
       "\n",
       "   Dew Point  Visibility  Wind Dir  Wind Speed  Gust Speed  Precip Events  \\\n",
       "0        6.1         8.0       NNE         5.6         0.0     0.8   None   \n",
       "1        5.6        12.9  Variable         7.4         0.0     0.3   None   \n",
       "2        5.6        12.9      Calm         0.0         0.0     0.0   None   \n",
       "\n",
       "  Conditions  \n",
       "0   Overcast  \n",
       "1   Overcast  \n",
       "2   Overcast  "
      ]
     },
     "execution_count": 11,
     "metadata": {},
     "output_type": "execute_result"
    }
   ],
   "source": [
    "weather = pd.read_csv('KNYC_Metars.csv', parse_dates=['Time'])\n",
    "weather.head(3)"
   ]
  },
  {
   "cell_type": "markdown",
   "metadata": {},
   "source": [
    "# Visualization "
   ]
  },
  {
   "cell_type": "code",
   "execution_count": 12,
   "metadata": {
    "scrolled": true
   },
   "outputs": [
    {
     "name": "stdout",
     "output_type": "stream",
     "text": [
      "1458644 1458644 2917288\n",
      "1458644 1458644 2917288\n"
     ]
    },
    {
     "data": {
      "text/html": [
       "<div>\n",
       "<style>\n",
       "    .dataframe thead tr:only-child th {\n",
       "        text-align: right;\n",
       "    }\n",
       "\n",
       "    .dataframe thead th {\n",
       "        text-align: left;\n",
       "    }\n",
       "\n",
       "    .dataframe tbody tr th {\n",
       "        vertical-align: top;\n",
       "    }\n",
       "</style>\n",
       "<table border=\"1\" class=\"dataframe\">\n",
       "  <thead>\n",
       "    <tr style=\"text-align: right;\">\n",
       "      <th></th>\n",
       "      <th>longitude</th>\n",
       "      <th>latitude</th>\n",
       "    </tr>\n",
       "  </thead>\n",
       "  <tbody>\n",
       "    <tr>\n",
       "      <th>0</th>\n",
       "      <td>-73.982155</td>\n",
       "      <td>40.767937</td>\n",
       "    </tr>\n",
       "    <tr>\n",
       "      <th>1</th>\n",
       "      <td>-73.980415</td>\n",
       "      <td>40.738564</td>\n",
       "    </tr>\n",
       "    <tr>\n",
       "      <th>2</th>\n",
       "      <td>-73.979027</td>\n",
       "      <td>40.763939</td>\n",
       "    </tr>\n",
       "    <tr>\n",
       "      <th>3</th>\n",
       "      <td>-74.010040</td>\n",
       "      <td>40.719971</td>\n",
       "    </tr>\n",
       "    <tr>\n",
       "      <th>4</th>\n",
       "      <td>-73.973053</td>\n",
       "      <td>40.793209</td>\n",
       "    </tr>\n",
       "  </tbody>\n",
       "</table>\n",
       "</div>"
      ],
      "text/plain": [
       "   longitude   latitude\n",
       "0 -73.982155  40.767937\n",
       "1 -73.980415  40.738564\n",
       "2 -73.979027  40.763939\n",
       "3 -74.010040  40.719971\n",
       "4 -73.973053  40.793209"
      ]
     },
     "execution_count": 12,
     "metadata": {},
     "output_type": "execute_result"
    }
   ],
   "source": [
    "longitude = list(train.pickup_longitude) + list(train.dropoff_longitude)\n",
    "latitude = list(train.pickup_latitude) + list(train.dropoff_latitude)\n",
    "\n",
    "print(len(train.pickup_longitude), len(train.dropoff_longitude), len(longitude) )\n",
    "print(len(train.pickup_latitude), len(train.dropoff_latitude), len(latitude) )\n",
    "\n",
    "loc_df = pd.DataFrame()\n",
    "loc_df['longitude'] = longitude\n",
    "loc_df['latitude'] = latitude\n",
    "loc_df.head()"
   ]
  },
  {
   "cell_type": "code",
   "execution_count": 13,
   "metadata": {},
   "outputs": [
    {
     "name": "stdout",
     "output_type": "stream",
     "text": [
      "(2917288, 2)\n",
      "(2895748, 2)\n"
     ]
    }
   ],
   "source": [
    "xlim = [-74.03, -73.77]\n",
    "ylim = [40.63, 40.85]\n",
    "\n",
    "print(loc_df.shape)\n",
    "loc_df = loc_df[(loc_df.longitude> xlim[0]) & (loc_df.longitude < xlim[1])]\n",
    "loc_df = loc_df[(loc_df.longitude> xlim[0]) & (loc_df.longitude < xlim[1])]\n",
    "loc_df = loc_df[(loc_df.latitude> ylim[0]) & (loc_df.latitude < ylim[1])]\n",
    "loc_df = loc_df[(loc_df.latitude> ylim[0]) & (loc_df.latitude < ylim[1])]\n",
    "print(loc_df.shape)"
   ]
  },
  {
   "cell_type": "code",
   "execution_count": 14,
   "metadata": {
    "scrolled": true
   },
   "outputs": [
    {
     "data": {
      "text/html": [
       "<div>\n",
       "<style>\n",
       "    .dataframe thead tr:only-child th {\n",
       "        text-align: right;\n",
       "    }\n",
       "\n",
       "    .dataframe thead th {\n",
       "        text-align: left;\n",
       "    }\n",
       "\n",
       "    .dataframe tbody tr th {\n",
       "        vertical-align: top;\n",
       "    }\n",
       "</style>\n",
       "<table border=\"1\" class=\"dataframe\">\n",
       "  <thead>\n",
       "    <tr style=\"text-align: right;\">\n",
       "      <th></th>\n",
       "      <th>longitude</th>\n",
       "      <th>latitude</th>\n",
       "      <th>label</th>\n",
       "    </tr>\n",
       "  </thead>\n",
       "  <tbody>\n",
       "    <tr>\n",
       "      <th>0</th>\n",
       "      <td>-73.982155</td>\n",
       "      <td>40.767937</td>\n",
       "      <td>12</td>\n",
       "    </tr>\n",
       "    <tr>\n",
       "      <th>1</th>\n",
       "      <td>-73.980415</td>\n",
       "      <td>40.738564</td>\n",
       "      <td>7</td>\n",
       "    </tr>\n",
       "    <tr>\n",
       "      <th>2</th>\n",
       "      <td>-73.979027</td>\n",
       "      <td>40.763939</td>\n",
       "      <td>12</td>\n",
       "    </tr>\n",
       "    <tr>\n",
       "      <th>3</th>\n",
       "      <td>-74.010040</td>\n",
       "      <td>40.719971</td>\n",
       "      <td>5</td>\n",
       "    </tr>\n",
       "    <tr>\n",
       "      <th>4</th>\n",
       "      <td>-73.973053</td>\n",
       "      <td>40.793209</td>\n",
       "      <td>9</td>\n",
       "    </tr>\n",
       "  </tbody>\n",
       "</table>\n",
       "</div>"
      ],
      "text/plain": [
       "   longitude   latitude  label\n",
       "0 -73.982155  40.767937     12\n",
       "1 -73.980415  40.738564      7\n",
       "2 -73.979027  40.763939     12\n",
       "3 -74.010040  40.719971      5\n",
       "4 -73.973053  40.793209      9"
      ]
     },
     "execution_count": 14,
     "metadata": {},
     "output_type": "execute_result"
    }
   ],
   "source": [
    "kmeans = KMeans(n_clusters=15, random_state=2, n_init = 10).fit(loc_df)\n",
    "loc_df['label'] = kmeans.labels_\n",
    "loc_df.head()"
   ]
  },
  {
   "cell_type": "code",
   "execution_count": 15,
   "metadata": {},
   "outputs": [
    {
     "data": {
      "image/png": "[encoded data removed]",
      "text/plain": [
       "<matplotlib.figure.Figure at 0x13a60a04ef0>"
      ]
     },
     "metadata": {},
     "output_type": "display_data"
    }
   ],
   "source": [
    "plt.figure(figsize = (10,10))\n",
    "for label in loc_df.label.unique():\n",
    "    plt.plot(loc_df.longitude[loc_df.label == label],loc_df.latitude[loc_df.label == label],'.', alpha = 0.3, markersize = 0.3)\n",
    "\n",
    "plt.title('Clusters of New York')\n",
    "plt.show()"
   ]
  },
  {
   "cell_type": "markdown",
   "metadata": {},
   "source": [
    "## Feature engineering"
   ]
  },
  {
   "cell_type": "markdown",
   "metadata": {},
   "source": [
    "### date feature, including holidays"
   ]
  },
  {
   "cell_type": "code",
   "execution_count": 16,
   "metadata": {},
   "outputs": [
    {
     "name": "stdout",
     "output_type": "stream",
     "text": [
      " train shape  (1458644, 11)\n",
      " test shape  (625134, 9)\n"
     ]
    }
   ],
   "source": [
    "print( ' train shape ',train.shape)\n",
    "print( ' test shape ',test.shape)"
   ]
  },
  {
   "cell_type": "code",
   "execution_count": 17,
   "metadata": {
    "collapsed": true
   },
   "outputs": [],
   "source": [
    "for df in (train,test):\n",
    "    df['year']  = df['pickup_datetime'].dt.year\n",
    "    df['month'] = df['pickup_datetime'].dt.month\n",
    "    df['day']   = df['pickup_datetime'].dt.day\n",
    "    df['hr']    = df['pickup_datetime'].dt.hour\n",
    "    df['minute']= df['pickup_datetime'].dt.minute\n",
    "    df['store_and_fwd_flag'] = 1 * (df.store_and_fwd_flag.values == 'Y')"
   ]
  },
  {
   "cell_type": "code",
   "execution_count": 18,
   "metadata": {
    "collapsed": true
   },
   "outputs": [],
   "source": [
    "train = train.assign(log_trip_duration = np.log(train.trip_duration+1))\n"
   ]
  },
  {
   "cell_type": "code",
   "execution_count": 19,
   "metadata": {
    "collapsed": true
   },
   "outputs": [],
   "source": [
    "time_data = pd.DataFrame(index = range(len(train)))\n",
    "time_test = pd.DataFrame(index = range(len(test)))"
   ]
  },
  {
   "cell_type": "code",
   "execution_count": 20,
   "metadata": {
    "collapsed": true
   },
   "outputs": [],
   "source": [
    "def restday(yr,month,day,holidays):\n",
    "    '''\n",
    "    Output:\n",
    "        is_rest: a list of Boolean variable indicating if the sample occurred in the rest day.\n",
    "        is_weekend: a list of Boolean variable indicating if the sample occurred in the weekend.\n",
    "    '''\n",
    "    is_rest    = [None]*len(yr)\n",
    "    is_weekend = [None]*len(yr)\n",
    "    i=0\n",
    "    for yy,mm,dd in zip(yr,month,day):        \n",
    "        is_weekend[i] = date(yy,mm,dd).isoweekday() in (6,7)\n",
    "        is_rest[i]    = is_weekend[i] or date(yy,mm,dd) in holidays \n",
    "        i+=1\n",
    "    return is_rest,is_weekend"
   ]
  },
  {
   "cell_type": "code",
   "execution_count": 21,
   "metadata": {
    "collapsed": true
   },
   "outputs": [],
   "source": [
    "rest_day,weekend = restday(train.year,train.month,train.day,holidays)\n",
    "train['rest_day'] = rest_day\n",
    "train['weekend'] = weekend\n",
    "\n",
    "rest_day,weekend = restday(test.year,test.month,test.day,holidays)\n",
    "test['rest_day'] = rest_day\n",
    "test['weekend'] = weekend\n",
    "\n",
    "train['pickup_time'] = train.hr+train.minute/60\n",
    "test['pickup_time'] = test.hr+test.minute/60"
   ]
  },
  {
   "cell_type": "code",
   "execution_count": 22,
   "metadata": {
    "collapsed": true
   },
   "outputs": [],
   "source": [
    "for df in (train,test):\n",
    "\n",
    "    df['hr_categori'] = np.nan\n",
    "    df.loc[(df.rest_day == False)&(df.hr <= 9)&(df.hr >= 7), 'hr_categori'] = \"rush\"\n",
    "    df.loc[(df.rest_day == False)&(df.hr <= 18)&(df.hr >= 16), 'hr_categori'] = \"rush\"\n",
    "    df.loc[(df.rest_day == False)&(df.hr < 16)&(df.hr > 9), 'hr_categori'] = \"day\"\n",
    "    df.loc[(df.rest_day == False)&(df.hr < 7)|(df.hr > 18), 'hr_categori'] = \"night\"\n",
    "    df.loc[(df.rest_day == True)&(df.hr < 18)&(df.hr > 7), 'hr_categori'] = \"day\"\n",
    "    df.loc[(df.rest_day == True)&(df.hr <= 7)|(df.hr >= 18), 'hr_categori'] = \"night\"\n"
   ]
  },
  {
   "cell_type": "code",
   "execution_count": 23,
   "metadata": {},
   "outputs": [
    {
     "name": "stdout",
     "output_type": "stream",
     "text": [
      " train shape  (1458644, 21)\n",
      " test shape  (625134, 18)\n"
     ]
    }
   ],
   "source": [
    "print( ' train shape ',train.shape)\n",
    "print( ' test shape ',test.shape)"
   ]
  },
  {
   "cell_type": "code",
   "execution_count": 24,
   "metadata": {},
   "outputs": [
    {
     "name": "stdout",
     "output_type": "stream",
     "text": [
      "['dropoff_datetime', 'trip_duration', 'log_trip_duration']\n"
     ]
    }
   ],
   "source": [
    "print([i for i in train.columns if i not in test.columns])"
   ]
  },
  {
   "cell_type": "markdown",
   "metadata": {},
   "source": [
    "### distance feature "
   ]
  },
  {
   "cell_type": "code",
   "execution_count": 25,
   "metadata": {
    "collapsed": true
   },
   "outputs": [],
   "source": [
    "train = train.join(osrm_data.set_index('id'), on='id')\n"
   ]
  },
  {
   "cell_type": "code",
   "execution_count": 26,
   "metadata": {
    "collapsed": true
   },
   "outputs": [],
   "source": [
    "test = test.join(osrm_test.set_index('id'), on='id')"
   ]
  },
  {
   "cell_type": "code",
   "execution_count": 27,
   "metadata": {},
   "outputs": [
    {
     "name": "stdout",
     "output_type": "stream",
     "text": [
      " train shape  (1458644, 26)\n",
      " test shape  (625134, 23)\n"
     ]
    }
   ],
   "source": [
    "print( ' train shape ',train.shape)\n",
    "print( ' test shape ',test.shape)"
   ]
  },
  {
   "cell_type": "markdown",
   "metadata": {},
   "source": [
    "### weather feature"
   ]
  },
  {
   "cell_type": "code",
   "execution_count": 28,
   "metadata": {},
   "outputs": [
    {
     "name": "stdout",
     "output_type": "stream",
     "text": [
      "(8739, 7)\n"
     ]
    },
    {
     "data": {
      "text/html": [
       "<div>\n",
       "<style>\n",
       "    .dataframe thead tr:only-child th {\n",
       "        text-align: right;\n",
       "    }\n",
       "\n",
       "    .dataframe thead th {\n",
       "        text-align: left;\n",
       "    }\n",
       "\n",
       "    .dataframe tbody tr th {\n",
       "        vertical-align: top;\n",
       "    }\n",
       "</style>\n",
       "<table border=\"1\" class=\"dataframe\">\n",
       "  <thead>\n",
       "    <tr style=\"text-align: right;\">\n",
       "      <th></th>\n",
       "      <th>month</th>\n",
       "      <th>day</th>\n",
       "      <th>hr</th>\n",
       "      <th>Temp.</th>\n",
       "      <th>Precip</th>\n",
       "      <th>snow</th>\n",
       "      <th>Visibility</th>\n",
       "    </tr>\n",
       "  </thead>\n",
       "  <tbody>\n",
       "    <tr>\n",
       "      <th>22</th>\n",
       "      <td>1</td>\n",
       "      <td>1</td>\n",
       "      <td>0</td>\n",
       "      <td>5.6</td>\n",
       "      <td>0.0</td>\n",
       "      <td>0</td>\n",
       "      <td>16.1</td>\n",
       "    </tr>\n",
       "    <tr>\n",
       "      <th>23</th>\n",
       "      <td>1</td>\n",
       "      <td>1</td>\n",
       "      <td>1</td>\n",
       "      <td>5.6</td>\n",
       "      <td>0.0</td>\n",
       "      <td>0</td>\n",
       "      <td>16.1</td>\n",
       "    </tr>\n",
       "    <tr>\n",
       "      <th>24</th>\n",
       "      <td>1</td>\n",
       "      <td>1</td>\n",
       "      <td>2</td>\n",
       "      <td>5.6</td>\n",
       "      <td>0.0</td>\n",
       "      <td>0</td>\n",
       "      <td>16.1</td>\n",
       "    </tr>\n",
       "    <tr>\n",
       "      <th>25</th>\n",
       "      <td>1</td>\n",
       "      <td>1</td>\n",
       "      <td>3</td>\n",
       "      <td>5.0</td>\n",
       "      <td>0.0</td>\n",
       "      <td>0</td>\n",
       "      <td>16.1</td>\n",
       "    </tr>\n",
       "    <tr>\n",
       "      <th>26</th>\n",
       "      <td>1</td>\n",
       "      <td>1</td>\n",
       "      <td>4</td>\n",
       "      <td>5.0</td>\n",
       "      <td>0.0</td>\n",
       "      <td>0</td>\n",
       "      <td>16.1</td>\n",
       "    </tr>\n",
       "  </tbody>\n",
       "</table>\n",
       "</div>"
      ],
      "text/plain": [
       "    month  day  hr  Temp.  Precip  snow  Visibility\n",
       "22      1    1   0    5.6     0.0     0        16.1\n",
       "23      1    1   1    5.6     0.0     0        16.1\n",
       "24      1    1   2    5.6     0.0     0        16.1\n",
       "25      1    1   3    5.0     0.0     0        16.1\n",
       "26      1    1   4    5.0     0.0     0        16.1"
      ]
     },
     "execution_count": 28,
     "metadata": {},
     "output_type": "execute_result"
    }
   ],
   "source": [
    "weather['snow']= 1*(weather.Events=='Snow') + 1*(weather.Events=='Fog\\n\\t,\\nSnow')\n",
    "weather['year'] = weather['Time'].dt.year\n",
    "weather['month'] = weather['Time'].dt.month\n",
    "weather['day'] = weather['Time'].dt.day\n",
    "weather['hr'] = weather['Time'].dt.hour\n",
    "weather = weather[weather['year'] == 2016][['month','day','hr','Temp.','Precip','snow','Visibility']]\n",
    "print(weather.shape)\n",
    "weather.head()"
   ]
  },
  {
   "cell_type": "code",
   "execution_count": 29,
   "metadata": {
    "collapsed": true
   },
   "outputs": [],
   "source": [
    "\n",
    "train = pd.merge(train, weather, on = ['month', 'day', 'hr'], how = 'left')\n",
    "test = pd.merge(test, weather, on = ['month', 'day', 'hr'], how = 'left')"
   ]
  },
  {
   "cell_type": "code",
   "execution_count": 30,
   "metadata": {},
   "outputs": [
    {
     "name": "stdout",
     "output_type": "stream",
     "text": [
      " train shape  (1458644, 30)\n",
      " test shape  (625134, 27)\n"
     ]
    }
   ],
   "source": [
    "print( ' train shape ',train.shape)\n",
    "print( ' test shape ',test.shape)"
   ]
  },
  {
   "cell_type": "markdown",
   "metadata": {},
   "source": [
    "## clustering and find speed "
   ]
  },
  {
   "cell_type": "code",
   "execution_count": 31,
   "metadata": {},
   "outputs": [
    {
     "data": {
      "text/plain": [
       "array([[ 40.76793671, -73.98215485],\n",
       "       [ 40.73856354, -73.98041534],\n",
       "       [ 40.7639389 , -73.97902679],\n",
       "       ...,\n",
       "       [ 40.74866486, -73.87660217],\n",
       "       [ 40.89178848, -73.85426331],\n",
       "       [ 40.76937866, -73.96932983]])"
      ]
     },
     "execution_count": 31,
     "metadata": {},
     "output_type": "execute_result"
    }
   ],
   "source": [
    "coords = np.vstack((train[['pickup_latitude', 'pickup_longitude']].values,\n",
    "                    train[['dropoff_latitude', 'dropoff_longitude']].values,\n",
    "                    test[['pickup_latitude', 'pickup_longitude']].values,\n",
    "                    test[['dropoff_latitude', 'dropoff_longitude']].values))\n",
    "coords"
   ]
  },
  {
   "cell_type": "code",
   "execution_count": 32,
   "metadata": {
    "collapsed": true
   },
   "outputs": [],
   "source": [
    "sample_ind = np.random.permutation(len(coords))[:1000000]\n",
    "kmeans = MiniBatchKMeans(n_clusters=8, batch_size=10000).fit(coords[sample_ind])\n"
   ]
  },
  {
   "cell_type": "code",
   "execution_count": 33,
   "metadata": {},
   "outputs": [
    {
     "data": {
      "text/html": [
       "<div>\n",
       "<style>\n",
       "    .dataframe thead tr:only-child th {\n",
       "        text-align: right;\n",
       "    }\n",
       "\n",
       "    .dataframe thead th {\n",
       "        text-align: left;\n",
       "    }\n",
       "\n",
       "    .dataframe tbody tr th {\n",
       "        vertical-align: top;\n",
       "    }\n",
       "</style>\n",
       "<table border=\"1\" class=\"dataframe\">\n",
       "  <thead>\n",
       "    <tr style=\"text-align: right;\">\n",
       "      <th></th>\n",
       "      <th>pickup_latitude</th>\n",
       "      <th>pickup_longitude</th>\n",
       "      <th>dropoff_latitude</th>\n",
       "      <th>dropoff_longitude</th>\n",
       "      <th>pickup_cluster</th>\n",
       "      <th>dropoff_cluster</th>\n",
       "    </tr>\n",
       "  </thead>\n",
       "  <tbody>\n",
       "    <tr>\n",
       "      <th>0</th>\n",
       "      <td>40.767937</td>\n",
       "      <td>-73.982155</td>\n",
       "      <td>40.765602</td>\n",
       "      <td>-73.964630</td>\n",
       "      <td>5</td>\n",
       "      <td>1</td>\n",
       "    </tr>\n",
       "    <tr>\n",
       "      <th>1</th>\n",
       "      <td>40.738564</td>\n",
       "      <td>-73.980415</td>\n",
       "      <td>40.731152</td>\n",
       "      <td>-73.999481</td>\n",
       "      <td>5</td>\n",
       "      <td>0</td>\n",
       "    </tr>\n",
       "    <tr>\n",
       "      <th>2</th>\n",
       "      <td>40.763939</td>\n",
       "      <td>-73.979027</td>\n",
       "      <td>40.710087</td>\n",
       "      <td>-74.005333</td>\n",
       "      <td>5</td>\n",
       "      <td>0</td>\n",
       "    </tr>\n",
       "    <tr>\n",
       "      <th>3</th>\n",
       "      <td>40.719971</td>\n",
       "      <td>-74.010040</td>\n",
       "      <td>40.706718</td>\n",
       "      <td>-74.012268</td>\n",
       "      <td>0</td>\n",
       "      <td>0</td>\n",
       "    </tr>\n",
       "    <tr>\n",
       "      <th>4</th>\n",
       "      <td>40.793209</td>\n",
       "      <td>-73.973053</td>\n",
       "      <td>40.782520</td>\n",
       "      <td>-73.972923</td>\n",
       "      <td>1</td>\n",
       "      <td>1</td>\n",
       "    </tr>\n",
       "  </tbody>\n",
       "</table>\n",
       "</div>"
      ],
      "text/plain": [
       "   pickup_latitude  pickup_longitude  dropoff_latitude  dropoff_longitude  \\\n",
       "0        40.767937        -73.982155         40.765602         -73.964630   \n",
       "1        40.738564        -73.980415         40.731152         -73.999481   \n",
       "2        40.763939        -73.979027         40.710087         -74.005333   \n",
       "3        40.719971        -74.010040         40.706718         -74.012268   \n",
       "4        40.793209        -73.973053         40.782520         -73.972923   \n",
       "\n",
       "   pickup_cluster  dropoff_cluster  \n",
       "0               5                1  \n",
       "1               5                0  \n",
       "2               5                0  \n",
       "3               0                0  \n",
       "4               1                1  "
      ]
     },
     "execution_count": 33,
     "metadata": {},
     "output_type": "execute_result"
    }
   ],
   "source": [
    "train.loc[:, 'pickup_cluster'] = kmeans.predict(train[['pickup_latitude', 'pickup_longitude']])\n",
    "train.loc[:, 'dropoff_cluster'] = kmeans.predict(train[['dropoff_latitude', 'dropoff_longitude']])\n",
    "test.loc[:, 'pickup_cluster'] = kmeans.predict(test[['pickup_latitude', 'pickup_longitude']])\n",
    "test.loc[:, 'dropoff_cluster'] = kmeans.predict(test[['dropoff_latitude', 'dropoff_longitude']])\n",
    "\n",
    "train[['pickup_latitude', 'pickup_longitude','dropoff_latitude', 'dropoff_longitude','pickup_cluster','dropoff_cluster']].head()"
   ]
  },
  {
   "cell_type": "code",
   "execution_count": 34,
   "metadata": {},
   "outputs": [
    {
     "name": "stdout",
     "output_type": "stream",
     "text": [
      " train shape  (1458644, 32)\n",
      " test shape  (625134, 29)\n"
     ]
    }
   ],
   "source": [
    "print( ' train shape ',train.shape)\n",
    "print( ' test shape ',test.shape)"
   ]
  },
  {
   "cell_type": "code",
   "execution_count": 35,
   "metadata": {
    "collapsed": true
   },
   "outputs": [],
   "source": [
    "## count features\n",
    "a = pd.concat([train,test]).groupby(['pickup_cluster']).size().reset_index()\n",
    "b = pd.concat([train,test]).groupby([ 'dropoff_cluster']).size().reset_index()"
   ]
  },
  {
   "cell_type": "code",
   "execution_count": 36,
   "metadata": {},
   "outputs": [
    {
     "data": {
      "text/html": [
       "<div>\n",
       "<style>\n",
       "    .dataframe thead tr:only-child th {\n",
       "        text-align: right;\n",
       "    }\n",
       "\n",
       "    .dataframe thead th {\n",
       "        text-align: left;\n",
       "    }\n",
       "\n",
       "    .dataframe tbody tr th {\n",
       "        vertical-align: top;\n",
       "    }\n",
       "</style>\n",
       "<table border=\"1\" class=\"dataframe\">\n",
       "  <thead>\n",
       "    <tr style=\"text-align: right;\">\n",
       "      <th></th>\n",
       "      <th>pickup_cluster</th>\n",
       "      <th>0</th>\n",
       "    </tr>\n",
       "  </thead>\n",
       "  <tbody>\n",
       "    <tr>\n",
       "      <th>0</th>\n",
       "      <td>0</td>\n",
       "      <td>622419</td>\n",
       "    </tr>\n",
       "    <tr>\n",
       "      <th>1</th>\n",
       "      <td>1</td>\n",
       "      <td>447386</td>\n",
       "    </tr>\n",
       "    <tr>\n",
       "      <th>2</th>\n",
       "      <td>2</td>\n",
       "      <td>3</td>\n",
       "    </tr>\n",
       "    <tr>\n",
       "      <th>3</th>\n",
       "      <td>3</td>\n",
       "      <td>47396</td>\n",
       "    </tr>\n",
       "    <tr>\n",
       "      <th>4</th>\n",
       "      <td>4</td>\n",
       "      <td>62049</td>\n",
       "    </tr>\n",
       "    <tr>\n",
       "      <th>5</th>\n",
       "      <td>5</td>\n",
       "      <td>867622</td>\n",
       "    </tr>\n",
       "    <tr>\n",
       "      <th>6</th>\n",
       "      <td>6</td>\n",
       "      <td>19</td>\n",
       "    </tr>\n",
       "    <tr>\n",
       "      <th>7</th>\n",
       "      <td>7</td>\n",
       "      <td>36884</td>\n",
       "    </tr>\n",
       "  </tbody>\n",
       "</table>\n",
       "</div>"
      ],
      "text/plain": [
       "   pickup_cluster       0\n",
       "0               0  622419\n",
       "1               1  447386\n",
       "2               2       3\n",
       "3               3   47396\n",
       "4               4   62049\n",
       "5               5  867622\n",
       "6               6      19\n",
       "7               7   36884"
      ]
     },
     "execution_count": 36,
     "metadata": {},
     "output_type": "execute_result"
    }
   ],
   "source": [
    "a"
   ]
  },
  {
   "cell_type": "code",
   "execution_count": 37,
   "metadata": {},
   "outputs": [
    {
     "data": {
      "text/html": [
       "<div>\n",
       "<style>\n",
       "    .dataframe thead tr:only-child th {\n",
       "        text-align: right;\n",
       "    }\n",
       "\n",
       "    .dataframe thead th {\n",
       "        text-align: left;\n",
       "    }\n",
       "\n",
       "    .dataframe tbody tr th {\n",
       "        vertical-align: top;\n",
       "    }\n",
       "</style>\n",
       "<table border=\"1\" class=\"dataframe\">\n",
       "  <thead>\n",
       "    <tr style=\"text-align: right;\">\n",
       "      <th></th>\n",
       "      <th>dropoff_cluster</th>\n",
       "      <th>0</th>\n",
       "    </tr>\n",
       "  </thead>\n",
       "  <tbody>\n",
       "    <tr>\n",
       "      <th>0</th>\n",
       "      <td>0</td>\n",
       "      <td>562177</td>\n",
       "    </tr>\n",
       "    <tr>\n",
       "      <th>1</th>\n",
       "      <td>1</td>\n",
       "      <td>511704</td>\n",
       "    </tr>\n",
       "    <tr>\n",
       "      <th>2</th>\n",
       "      <td>2</td>\n",
       "      <td>3</td>\n",
       "    </tr>\n",
       "    <tr>\n",
       "      <th>3</th>\n",
       "      <td>3</td>\n",
       "      <td>26725</td>\n",
       "    </tr>\n",
       "    <tr>\n",
       "      <th>4</th>\n",
       "      <td>4</td>\n",
       "      <td>63874</td>\n",
       "    </tr>\n",
       "    <tr>\n",
       "      <th>5</th>\n",
       "      <td>5</td>\n",
       "      <td>811732</td>\n",
       "    </tr>\n",
       "    <tr>\n",
       "      <th>6</th>\n",
       "      <td>6</td>\n",
       "      <td>25</td>\n",
       "    </tr>\n",
       "    <tr>\n",
       "      <th>7</th>\n",
       "      <td>7</td>\n",
       "      <td>107538</td>\n",
       "    </tr>\n",
       "  </tbody>\n",
       "</table>\n",
       "</div>"
      ],
      "text/plain": [
       "   dropoff_cluster       0\n",
       "0                0  562177\n",
       "1                1  511704\n",
       "2                2       3\n",
       "3                3   26725\n",
       "4                4   63874\n",
       "5                5  811732\n",
       "6                6      25\n",
       "7                7  107538"
      ]
     },
     "execution_count": 37,
     "metadata": {},
     "output_type": "execute_result"
    }
   ],
   "source": [
    "b"
   ]
  },
  {
   "cell_type": "code",
   "execution_count": 38,
   "metadata": {
    "collapsed": true
   },
   "outputs": [],
   "source": [
    "train = pd.merge(train, a, on = ['pickup_cluster'], how = 'left')\n",
    "test = pd.merge(test, a, on = ['pickup_cluster'], how = 'left')\n",
    "\n",
    "train = pd.merge(train, b, on = ['dropoff_cluster'], how = 'left')\n",
    "test = pd.merge(test, b, on = ['dropoff_cluster'], how = 'left')"
   ]
  },
  {
   "cell_type": "code",
   "execution_count": 39,
   "metadata": {
    "collapsed": true
   },
   "outputs": [],
   "source": [
    "train['speed'] = train['total_distance'] / train['trip_duration']"
   ]
  },
  {
   "cell_type": "code",
   "execution_count": 40,
   "metadata": {
    "scrolled": true
   },
   "outputs": [
    {
     "data": {
      "text/html": [
       "<div>\n",
       "<style>\n",
       "    .dataframe thead tr:only-child th {\n",
       "        text-align: right;\n",
       "    }\n",
       "\n",
       "    .dataframe thead th {\n",
       "        text-align: left;\n",
       "    }\n",
       "\n",
       "    .dataframe tbody tr th {\n",
       "        vertical-align: top;\n",
       "    }\n",
       "</style>\n",
       "<table border=\"1\" class=\"dataframe\">\n",
       "  <thead>\n",
       "    <tr style=\"text-align: right;\">\n",
       "      <th></th>\n",
       "      <th>speed</th>\n",
       "      <th>total_distance</th>\n",
       "      <th>trip_duration</th>\n",
       "    </tr>\n",
       "  </thead>\n",
       "  <tbody>\n",
       "    <tr>\n",
       "      <th>0</th>\n",
       "      <td>4.415604</td>\n",
       "      <td>2009.1</td>\n",
       "      <td>455</td>\n",
       "    </tr>\n",
       "    <tr>\n",
       "      <th>1</th>\n",
       "      <td>3.790649</td>\n",
       "      <td>2513.2</td>\n",
       "      <td>663</td>\n",
       "    </tr>\n",
       "    <tr>\n",
       "      <th>2</th>\n",
       "      <td>5.207533</td>\n",
       "      <td>11060.8</td>\n",
       "      <td>2124</td>\n",
       "    </tr>\n",
       "    <tr>\n",
       "      <th>3</th>\n",
       "      <td>4.147786</td>\n",
       "      <td>1779.4</td>\n",
       "      <td>429</td>\n",
       "    </tr>\n",
       "    <tr>\n",
       "      <th>4</th>\n",
       "      <td>3.712414</td>\n",
       "      <td>1614.9</td>\n",
       "      <td>435</td>\n",
       "    </tr>\n",
       "    <tr>\n",
       "      <th>5</th>\n",
       "      <td>3.145598</td>\n",
       "      <td>1393.5</td>\n",
       "      <td>443</td>\n",
       "    </tr>\n",
       "    <tr>\n",
       "      <th>6</th>\n",
       "      <td>5.000293</td>\n",
       "      <td>1705.1</td>\n",
       "      <td>341</td>\n",
       "    </tr>\n",
       "    <tr>\n",
       "      <th>7</th>\n",
       "      <td>6.861380</td>\n",
       "      <td>10642.0</td>\n",
       "      <td>1551</td>\n",
       "    </tr>\n",
       "    <tr>\n",
       "      <th>8</th>\n",
       "      <td>5.140000</td>\n",
       "      <td>1310.7</td>\n",
       "      <td>255</td>\n",
       "    </tr>\n",
       "    <tr>\n",
       "      <th>9</th>\n",
       "      <td>5.540245</td>\n",
       "      <td>6786.8</td>\n",
       "      <td>1225</td>\n",
       "    </tr>\n",
       "    <tr>\n",
       "      <th>10</th>\n",
       "      <td>3.088697</td>\n",
       "      <td>3935.0</td>\n",
       "      <td>1274</td>\n",
       "    </tr>\n",
       "    <tr>\n",
       "      <th>11</th>\n",
       "      <td>4.961525</td>\n",
       "      <td>5596.6</td>\n",
       "      <td>1128</td>\n",
       "    </tr>\n",
       "    <tr>\n",
       "      <th>12</th>\n",
       "      <td>2.043627</td>\n",
       "      <td>2276.6</td>\n",
       "      <td>1114</td>\n",
       "    </tr>\n",
       "    <tr>\n",
       "      <th>13</th>\n",
       "      <td>5.145769</td>\n",
       "      <td>1337.9</td>\n",
       "      <td>260</td>\n",
       "    </tr>\n",
       "    <tr>\n",
       "      <th>14</th>\n",
       "      <td>5.670156</td>\n",
       "      <td>8017.6</td>\n",
       "      <td>1414</td>\n",
       "    </tr>\n",
       "    <tr>\n",
       "      <th>15</th>\n",
       "      <td>4.250237</td>\n",
       "      <td>896.8</td>\n",
       "      <td>211</td>\n",
       "    </tr>\n",
       "    <tr>\n",
       "      <th>16</th>\n",
       "      <td>1.918264</td>\n",
       "      <td>4442.7</td>\n",
       "      <td>2316</td>\n",
       "    </tr>\n",
       "    <tr>\n",
       "      <th>17</th>\n",
       "      <td>4.159644</td>\n",
       "      <td>3040.7</td>\n",
       "      <td>731</td>\n",
       "    </tr>\n",
       "    <tr>\n",
       "      <th>18</th>\n",
       "      <td>3.548899</td>\n",
       "      <td>4673.9</td>\n",
       "      <td>1317</td>\n",
       "    </tr>\n",
       "    <tr>\n",
       "      <th>19</th>\n",
       "      <td>5.307968</td>\n",
       "      <td>1332.3</td>\n",
       "      <td>251</td>\n",
       "    </tr>\n",
       "    <tr>\n",
       "      <th>20</th>\n",
       "      <td>15.134568</td>\n",
       "      <td>7355.4</td>\n",
       "      <td>486</td>\n",
       "    </tr>\n",
       "    <tr>\n",
       "      <th>21</th>\n",
       "      <td>5.113957</td>\n",
       "      <td>3334.3</td>\n",
       "      <td>652</td>\n",
       "    </tr>\n",
       "    <tr>\n",
       "      <th>22</th>\n",
       "      <td>7.196927</td>\n",
       "      <td>3044.3</td>\n",
       "      <td>423</td>\n",
       "    </tr>\n",
       "    <tr>\n",
       "      <th>23</th>\n",
       "      <td>4.779192</td>\n",
       "      <td>5558.2</td>\n",
       "      <td>1163</td>\n",
       "    </tr>\n",
       "    <tr>\n",
       "      <th>24</th>\n",
       "      <td>10.513843</td>\n",
       "      <td>26126.9</td>\n",
       "      <td>2485</td>\n",
       "    </tr>\n",
       "    <tr>\n",
       "      <th>25</th>\n",
       "      <td>4.127903</td>\n",
       "      <td>5296.1</td>\n",
       "      <td>1283</td>\n",
       "    </tr>\n",
       "    <tr>\n",
       "      <th>26</th>\n",
       "      <td>8.507788</td>\n",
       "      <td>9613.8</td>\n",
       "      <td>1130</td>\n",
       "    </tr>\n",
       "    <tr>\n",
       "      <th>27</th>\n",
       "      <td>6.145821</td>\n",
       "      <td>4265.2</td>\n",
       "      <td>694</td>\n",
       "    </tr>\n",
       "    <tr>\n",
       "      <th>28</th>\n",
       "      <td>2.832287</td>\n",
       "      <td>2526.4</td>\n",
       "      <td>892</td>\n",
       "    </tr>\n",
       "    <tr>\n",
       "      <th>29</th>\n",
       "      <td>5.898284</td>\n",
       "      <td>13748.9</td>\n",
       "      <td>2331</td>\n",
       "    </tr>\n",
       "    <tr>\n",
       "      <th>...</th>\n",
       "      <td>...</td>\n",
       "      <td>...</td>\n",
       "      <td>...</td>\n",
       "    </tr>\n",
       "    <tr>\n",
       "      <th>1458614</th>\n",
       "      <td>4.964497</td>\n",
       "      <td>1678.0</td>\n",
       "      <td>338</td>\n",
       "    </tr>\n",
       "    <tr>\n",
       "      <th>1458615</th>\n",
       "      <td>5.338156</td>\n",
       "      <td>4574.8</td>\n",
       "      <td>857</td>\n",
       "    </tr>\n",
       "    <tr>\n",
       "      <th>1458616</th>\n",
       "      <td>2.545492</td>\n",
       "      <td>1242.2</td>\n",
       "      <td>488</td>\n",
       "    </tr>\n",
       "    <tr>\n",
       "      <th>1458617</th>\n",
       "      <td>4.344231</td>\n",
       "      <td>903.6</td>\n",
       "      <td>208</td>\n",
       "    </tr>\n",
       "    <tr>\n",
       "      <th>1458618</th>\n",
       "      <td>4.576022</td>\n",
       "      <td>1679.4</td>\n",
       "      <td>367</td>\n",
       "    </tr>\n",
       "    <tr>\n",
       "      <th>1458619</th>\n",
       "      <td>4.494209</td>\n",
       "      <td>3181.9</td>\n",
       "      <td>708</td>\n",
       "    </tr>\n",
       "    <tr>\n",
       "      <th>1458620</th>\n",
       "      <td>4.750775</td>\n",
       "      <td>5520.4</td>\n",
       "      <td>1162</td>\n",
       "    </tr>\n",
       "    <tr>\n",
       "      <th>1458621</th>\n",
       "      <td>2.111932</td>\n",
       "      <td>4973.6</td>\n",
       "      <td>2355</td>\n",
       "    </tr>\n",
       "    <tr>\n",
       "      <th>1458622</th>\n",
       "      <td>2.123732</td>\n",
       "      <td>1172.3</td>\n",
       "      <td>552</td>\n",
       "    </tr>\n",
       "    <tr>\n",
       "      <th>1458623</th>\n",
       "      <td>4.459928</td>\n",
       "      <td>2470.8</td>\n",
       "      <td>554</td>\n",
       "    </tr>\n",
       "    <tr>\n",
       "      <th>1458624</th>\n",
       "      <td>5.298684</td>\n",
       "      <td>805.4</td>\n",
       "      <td>152</td>\n",
       "    </tr>\n",
       "    <tr>\n",
       "      <th>1458625</th>\n",
       "      <td>2.299101</td>\n",
       "      <td>4602.8</td>\n",
       "      <td>2002</td>\n",
       "    </tr>\n",
       "    <tr>\n",
       "      <th>1458626</th>\n",
       "      <td>6.424180</td>\n",
       "      <td>1567.5</td>\n",
       "      <td>244</td>\n",
       "    </tr>\n",
       "    <tr>\n",
       "      <th>1458627</th>\n",
       "      <td>3.402614</td>\n",
       "      <td>2994.3</td>\n",
       "      <td>880</td>\n",
       "    </tr>\n",
       "    <tr>\n",
       "      <th>1458628</th>\n",
       "      <td>4.992023</td>\n",
       "      <td>1752.2</td>\n",
       "      <td>351</td>\n",
       "    </tr>\n",
       "    <tr>\n",
       "      <th>1458629</th>\n",
       "      <td>4.576705</td>\n",
       "      <td>2750.6</td>\n",
       "      <td>601</td>\n",
       "    </tr>\n",
       "    <tr>\n",
       "      <th>1458630</th>\n",
       "      <td>3.572495</td>\n",
       "      <td>1961.3</td>\n",
       "      <td>549</td>\n",
       "    </tr>\n",
       "    <tr>\n",
       "      <th>1458631</th>\n",
       "      <td>6.617836</td>\n",
       "      <td>2263.3</td>\n",
       "      <td>342</td>\n",
       "    </tr>\n",
       "    <tr>\n",
       "      <th>1458632</th>\n",
       "      <td>5.983912</td>\n",
       "      <td>4649.5</td>\n",
       "      <td>777</td>\n",
       "    </tr>\n",
       "    <tr>\n",
       "      <th>1458633</th>\n",
       "      <td>4.291420</td>\n",
       "      <td>4201.3</td>\n",
       "      <td>979</td>\n",
       "    </tr>\n",
       "    <tr>\n",
       "      <th>1458634</th>\n",
       "      <td>5.854012</td>\n",
       "      <td>5690.1</td>\n",
       "      <td>972</td>\n",
       "    </tr>\n",
       "    <tr>\n",
       "      <th>1458635</th>\n",
       "      <td>3.405485</td>\n",
       "      <td>807.1</td>\n",
       "      <td>237</td>\n",
       "    </tr>\n",
       "    <tr>\n",
       "      <th>1458636</th>\n",
       "      <td>2.826375</td>\n",
       "      <td>2261.1</td>\n",
       "      <td>800</td>\n",
       "    </tr>\n",
       "    <tr>\n",
       "      <th>1458637</th>\n",
       "      <td>5.620000</td>\n",
       "      <td>4271.2</td>\n",
       "      <td>760</td>\n",
       "    </tr>\n",
       "    <tr>\n",
       "      <th>1458638</th>\n",
       "      <td>7.707005</td>\n",
       "      <td>3190.7</td>\n",
       "      <td>414</td>\n",
       "    </tr>\n",
       "    <tr>\n",
       "      <th>1458639</th>\n",
       "      <td>2.872237</td>\n",
       "      <td>2234.6</td>\n",
       "      <td>778</td>\n",
       "    </tr>\n",
       "    <tr>\n",
       "      <th>1458640</th>\n",
       "      <td>11.661069</td>\n",
       "      <td>7638.0</td>\n",
       "      <td>655</td>\n",
       "    </tr>\n",
       "    <tr>\n",
       "      <th>1458641</th>\n",
       "      <td>12.920812</td>\n",
       "      <td>9871.5</td>\n",
       "      <td>764</td>\n",
       "    </tr>\n",
       "    <tr>\n",
       "      <th>1458642</th>\n",
       "      <td>4.365416</td>\n",
       "      <td>1628.3</td>\n",
       "      <td>373</td>\n",
       "    </tr>\n",
       "    <tr>\n",
       "      <th>1458643</th>\n",
       "      <td>5.728283</td>\n",
       "      <td>1134.2</td>\n",
       "      <td>198</td>\n",
       "    </tr>\n",
       "  </tbody>\n",
       "</table>\n",
       "<p>1458644 rows × 3 columns</p>\n",
       "</div>"
      ],
      "text/plain": [
       "             speed  total_distance  trip_duration\n",
       "0         4.415604          2009.1            455\n",
       "1         3.790649          2513.2            663\n",
       "2         5.207533         11060.8           2124\n",
       "3         4.147786          1779.4            429\n",
       "4         3.712414          1614.9            435\n",
       "5         3.145598          1393.5            443\n",
       "6         5.000293          1705.1            341\n",
       "7         6.861380         10642.0           1551\n",
       "8         5.140000          1310.7            255\n",
       "9         5.540245          6786.8           1225\n",
       "10        3.088697          3935.0           1274\n",
       "11        4.961525          5596.6           1128\n",
       "12        2.043627          2276.6           1114\n",
       "13        5.145769          1337.9            260\n",
       "14        5.670156          8017.6           1414\n",
       "15        4.250237           896.8            211\n",
       "16        1.918264          4442.7           2316\n",
       "17        4.159644          3040.7            731\n",
       "18        3.548899          4673.9           1317\n",
       "19        5.307968          1332.3            251\n",
       "20       15.134568          7355.4            486\n",
       "21        5.113957          3334.3            652\n",
       "22        7.196927          3044.3            423\n",
       "23        4.779192          5558.2           1163\n",
       "24       10.513843         26126.9           2485\n",
       "25        4.127903          5296.1           1283\n",
       "26        8.507788          9613.8           1130\n",
       "27        6.145821          4265.2            694\n",
       "28        2.832287          2526.4            892\n",
       "29        5.898284         13748.9           2331\n",
       "...            ...             ...            ...\n",
       "1458614   4.964497          1678.0            338\n",
       "1458615   5.338156          4574.8            857\n",
       "1458616   2.545492          1242.2            488\n",
       "1458617   4.344231           903.6            208\n",
       "1458618   4.576022          1679.4            367\n",
       "1458619   4.494209          3181.9            708\n",
       "1458620   4.750775          5520.4           1162\n",
       "1458621   2.111932          4973.6           2355\n",
       "1458622   2.123732          1172.3            552\n",
       "1458623   4.459928          2470.8            554\n",
       "1458624   5.298684           805.4            152\n",
       "1458625   2.299101          4602.8           2002\n",
       "1458626   6.424180          1567.5            244\n",
       "1458627   3.402614          2994.3            880\n",
       "1458628   4.992023          1752.2            351\n",
       "1458629   4.576705          2750.6            601\n",
       "1458630   3.572495          1961.3            549\n",
       "1458631   6.617836          2263.3            342\n",
       "1458632   5.983912          4649.5            777\n",
       "1458633   4.291420          4201.3            979\n",
       "1458634   5.854012          5690.1            972\n",
       "1458635   3.405485           807.1            237\n",
       "1458636   2.826375          2261.1            800\n",
       "1458637   5.620000          4271.2            760\n",
       "1458638   7.707005          3190.7            414\n",
       "1458639   2.872237          2234.6            778\n",
       "1458640  11.661069          7638.0            655\n",
       "1458641  12.920812          9871.5            764\n",
       "1458642   4.365416          1628.3            373\n",
       "1458643   5.728283          1134.2            198\n",
       "\n",
       "[1458644 rows x 3 columns]"
      ]
     },
     "execution_count": 40,
     "metadata": {},
     "output_type": "execute_result"
    }
   ],
   "source": [
    "train[['speed','total_distance','trip_duration']]"
   ]
  },
  {
   "cell_type": "code",
   "execution_count": 41,
   "metadata": {
    "collapsed": true
   },
   "outputs": [],
   "source": [
    "pick_up_speed = train[['speed', 'pickup_cluster']].groupby(['pickup_cluster']).mean().reset_index()\n",
    "pick_up_speed = pick_up_speed.rename(columns = {'speed': 'ave_pickup_speed'})\n",
    "drop_off_speed = train[['speed', 'dropoff_cluster']].groupby(['dropoff_cluster']).mean().reset_index()\n",
    "drop_off_speed = drop_off_speed.rename(columns = {'speed': 'ave_dropoff_speed'})\n"
   ]
  },
  {
   "cell_type": "code",
   "execution_count": 42,
   "metadata": {
    "scrolled": true
   },
   "outputs": [
    {
     "name": "stdout",
     "output_type": "stream",
     "text": [
      "   pickup_cluster  ave_pickup_speed\n",
      "0               0          5.067469\n",
      "1               1          5.494199\n",
      "2               2          0.000000\n",
      "3               3         11.242965\n",
      "4               4          8.405111\n",
      "5               5          5.047294\n",
      "6               6         12.841142\n",
      "7               7          6.225725\n",
      "   dropoff_cluster  ave_dropoff_speed\n",
      "0                0           4.986800\n",
      "1                1           5.976817\n",
      "2                2           0.000000\n",
      "3                3          11.935437\n",
      "4                4           8.552266\n",
      "5                5           4.691077\n",
      "6                6          35.699330\n",
      "7                7           6.885238\n"
     ]
    }
   ],
   "source": [
    "print(pick_up_speed)\n",
    "print(drop_off_speed)"
   ]
  },
  {
   "cell_type": "code",
   "execution_count": 43,
   "metadata": {
    "collapsed": true
   },
   "outputs": [],
   "source": [
    "train = pd.merge(train, pick_up_speed, on = ['pickup_cluster'], how = 'left')\n",
    "test = pd.merge(test, pick_up_speed, on = ['pickup_cluster'], how = 'left')\n",
    "\n",
    "train = pd.merge(train, drop_off_speed, on = ['dropoff_cluster'], how = 'left')\n",
    "test = pd.merge(test, drop_off_speed, on = ['dropoff_cluster'], how = 'left')"
   ]
  },
  {
   "cell_type": "code",
   "execution_count": 44,
   "metadata": {
    "collapsed": true
   },
   "outputs": [],
   "source": [
    "train = train.drop(['speed'], axis = 1)\n"
   ]
  },
  {
   "cell_type": "code",
   "execution_count": 45,
   "metadata": {},
   "outputs": [
    {
     "name": "stdout",
     "output_type": "stream",
     "text": [
      " train shape  (1458644, 36)\n",
      " test shape  (625134, 33)\n"
     ]
    }
   ],
   "source": [
    "print( ' train shape ',train.shape)\n",
    "print( ' test shape ',test.shape)"
   ]
  },
  {
   "cell_type": "code",
   "execution_count": 46,
   "metadata": {},
   "outputs": [
    {
     "data": {
      "text/plain": [
       "Index(['id', 'vendor_id', 'pickup_datetime', 'dropoff_datetime',\n",
       "       'passenger_count', 'pickup_longitude', 'pickup_latitude',\n",
       "       'dropoff_longitude', 'dropoff_latitude', 'store_and_fwd_flag',\n",
       "       'trip_duration', 'year', 'month', 'day', 'hr', 'minute',\n",
       "       'log_trip_duration', 'rest_day', 'weekend', 'pickup_time',\n",
       "       'hr_categori', 'total_distance', 'total_travel_time', 'number_of_steps',\n",
       "       'right_steps', 'left_steps', 'Temp.', 'Precip', 'snow', 'Visibility',\n",
       "       'pickup_cluster', 'dropoff_cluster', '0_x', '0_y', 'ave_pickup_speed',\n",
       "       'ave_dropoff_speed'],\n",
       "      dtype='object')"
      ]
     },
     "execution_count": 46,
     "metadata": {},
     "output_type": "execute_result"
    }
   ],
   "source": [
    "train.columns"
   ]
  },
  {
   "cell_type": "markdown",
   "metadata": {},
   "source": [
    "## dummy variables"
   ]
  },
  {
   "cell_type": "code",
   "execution_count": 47,
   "metadata": {},
   "outputs": [
    {
     "data": {
      "text/html": [
       "<div>\n",
       "<style>\n",
       "    .dataframe thead tr:only-child th {\n",
       "        text-align: right;\n",
       "    }\n",
       "\n",
       "    .dataframe thead th {\n",
       "        text-align: left;\n",
       "    }\n",
       "\n",
       "    .dataframe tbody tr th {\n",
       "        vertical-align: top;\n",
       "    }\n",
       "</style>\n",
       "<table border=\"1\" class=\"dataframe\">\n",
       "  <thead>\n",
       "    <tr style=\"text-align: right;\">\n",
       "      <th></th>\n",
       "      <th>vendor_id</th>\n",
       "      <th>store_and_fwd_flag</th>\n",
       "    </tr>\n",
       "  </thead>\n",
       "  <tbody>\n",
       "    <tr>\n",
       "      <th>0</th>\n",
       "      <td>2</td>\n",
       "      <td>0</td>\n",
       "    </tr>\n",
       "    <tr>\n",
       "      <th>1</th>\n",
       "      <td>1</td>\n",
       "      <td>0</td>\n",
       "    </tr>\n",
       "    <tr>\n",
       "      <th>2</th>\n",
       "      <td>2</td>\n",
       "      <td>0</td>\n",
       "    </tr>\n",
       "    <tr>\n",
       "      <th>3</th>\n",
       "      <td>2</td>\n",
       "      <td>0</td>\n",
       "    </tr>\n",
       "    <tr>\n",
       "      <th>4</th>\n",
       "      <td>2</td>\n",
       "      <td>0</td>\n",
       "    </tr>\n",
       "  </tbody>\n",
       "</table>\n",
       "</div>"
      ],
      "text/plain": [
       "   vendor_id  store_and_fwd_flag\n",
       "0          2                   0\n",
       "1          1                   0\n",
       "2          2                   0\n",
       "3          2                   0\n",
       "4          2                   0"
      ]
     },
     "execution_count": 47,
     "metadata": {},
     "output_type": "execute_result"
    }
   ],
   "source": [
    "train[['vendor_id','store_and_fwd_flag']].head()"
   ]
  },
  {
   "cell_type": "code",
   "execution_count": 48,
   "metadata": {
    "collapsed": true
   },
   "outputs": [],
   "source": [
    "vendor_train = pd.get_dummies(train['vendor_id'], prefix='vi', prefix_sep='_')\n",
    "vendor_test = pd.get_dummies(test['vendor_id'], prefix='vi', prefix_sep='_')\n",
    "store_and_fwd_flag_train = pd.get_dummies(train['store_and_fwd_flag'], prefix='sf', prefix_sep='_')\n",
    "store_and_fwd_flag_test = pd.get_dummies(test['store_and_fwd_flag'], prefix='sf', prefix_sep='_')\n",
    "cluster_pickup_train = pd.get_dummies(train['pickup_cluster'], prefix='p', prefix_sep='_')\n",
    "cluster_pickup_test = pd.get_dummies(test['pickup_cluster'], prefix='p', prefix_sep='_')\n",
    "cluster_dropoff_train = pd.get_dummies(train['dropoff_cluster'], prefix='d', prefix_sep='_')\n",
    "cluster_dropoff_test = pd.get_dummies(test['dropoff_cluster'], prefix='d', prefix_sep='_')\n",
    "\n",
    "train['dayofweek'] = train['pickup_datetime'].dt.dayofweek\n",
    "test['dayofweek'] = test['pickup_datetime'].dt.dayofweek\n",
    "\n",
    "month_train = pd.get_dummies(train['month'], prefix='m', prefix_sep='_')\n",
    "month_test = pd.get_dummies(test['month'], prefix='m', prefix_sep='_')\n",
    "dom_train = pd.get_dummies(train['day'], prefix='dom', prefix_sep='_')\n",
    "dom_test = pd.get_dummies(test['day'], prefix='dom', prefix_sep='_')\n",
    "hour_train = pd.get_dummies(train['hr'], prefix='h', prefix_sep='_')\n",
    "hour_test = pd.get_dummies(test['hr'], prefix='h', prefix_sep='_')\n",
    "hour_cate_train = pd.get_dummies(train['hr_categori'], prefix='hc', prefix_sep='_')\n",
    "hour_cate_test = pd.get_dummies(test['hr_categori'], prefix='hc', prefix_sep='_')\n",
    "dow_train = pd.get_dummies(train['dayofweek'], prefix='dow', prefix_sep='_')\n",
    "dow_test = pd.get_dummies(test['dayofweek'], prefix='dow', prefix_sep='_')"
   ]
  },
  {
   "cell_type": "code",
   "execution_count": 49,
   "metadata": {},
   "outputs": [
    {
     "data": {
      "text/html": [
       "<div>\n",
       "<style>\n",
       "    .dataframe thead tr:only-child th {\n",
       "        text-align: right;\n",
       "    }\n",
       "\n",
       "    .dataframe thead th {\n",
       "        text-align: left;\n",
       "    }\n",
       "\n",
       "    .dataframe tbody tr th {\n",
       "        vertical-align: top;\n",
       "    }\n",
       "</style>\n",
       "<table border=\"1\" class=\"dataframe\">\n",
       "  <thead>\n",
       "    <tr style=\"text-align: right;\">\n",
       "      <th></th>\n",
       "      <th>vi_1</th>\n",
       "      <th>vi_2</th>\n",
       "    </tr>\n",
       "  </thead>\n",
       "  <tbody>\n",
       "    <tr>\n",
       "      <th>0</th>\n",
       "      <td>0</td>\n",
       "      <td>1</td>\n",
       "    </tr>\n",
       "    <tr>\n",
       "      <th>1</th>\n",
       "      <td>1</td>\n",
       "      <td>0</td>\n",
       "    </tr>\n",
       "    <tr>\n",
       "      <th>2</th>\n",
       "      <td>0</td>\n",
       "      <td>1</td>\n",
       "    </tr>\n",
       "    <tr>\n",
       "      <th>3</th>\n",
       "      <td>0</td>\n",
       "      <td>1</td>\n",
       "    </tr>\n",
       "    <tr>\n",
       "      <th>4</th>\n",
       "      <td>0</td>\n",
       "      <td>1</td>\n",
       "    </tr>\n",
       "  </tbody>\n",
       "</table>\n",
       "</div>"
      ],
      "text/plain": [
       "   vi_1  vi_2\n",
       "0     0     1\n",
       "1     1     0\n",
       "2     0     1\n",
       "3     0     1\n",
       "4     0     1"
      ]
     },
     "execution_count": 49,
     "metadata": {},
     "output_type": "execute_result"
    }
   ],
   "source": [
    "vendor_train.head()"
   ]
  },
  {
   "cell_type": "code",
   "execution_count": 50,
   "metadata": {},
   "outputs": [
    {
     "data": {
      "text/html": [
       "<div>\n",
       "<style>\n",
       "    .dataframe thead tr:only-child th {\n",
       "        text-align: right;\n",
       "    }\n",
       "\n",
       "    .dataframe thead th {\n",
       "        text-align: left;\n",
       "    }\n",
       "\n",
       "    .dataframe tbody tr th {\n",
       "        vertical-align: top;\n",
       "    }\n",
       "</style>\n",
       "<table border=\"1\" class=\"dataframe\">\n",
       "  <thead>\n",
       "    <tr style=\"text-align: right;\">\n",
       "      <th></th>\n",
       "      <th>m_1</th>\n",
       "      <th>m_2</th>\n",
       "      <th>m_3</th>\n",
       "      <th>m_4</th>\n",
       "      <th>m_5</th>\n",
       "      <th>m_6</th>\n",
       "    </tr>\n",
       "  </thead>\n",
       "  <tbody>\n",
       "    <tr>\n",
       "      <th>0</th>\n",
       "      <td>0</td>\n",
       "      <td>0</td>\n",
       "      <td>1</td>\n",
       "      <td>0</td>\n",
       "      <td>0</td>\n",
       "      <td>0</td>\n",
       "    </tr>\n",
       "    <tr>\n",
       "      <th>1</th>\n",
       "      <td>0</td>\n",
       "      <td>0</td>\n",
       "      <td>0</td>\n",
       "      <td>0</td>\n",
       "      <td>0</td>\n",
       "      <td>1</td>\n",
       "    </tr>\n",
       "    <tr>\n",
       "      <th>2</th>\n",
       "      <td>1</td>\n",
       "      <td>0</td>\n",
       "      <td>0</td>\n",
       "      <td>0</td>\n",
       "      <td>0</td>\n",
       "      <td>0</td>\n",
       "    </tr>\n",
       "    <tr>\n",
       "      <th>3</th>\n",
       "      <td>0</td>\n",
       "      <td>0</td>\n",
       "      <td>0</td>\n",
       "      <td>1</td>\n",
       "      <td>0</td>\n",
       "      <td>0</td>\n",
       "    </tr>\n",
       "    <tr>\n",
       "      <th>4</th>\n",
       "      <td>0</td>\n",
       "      <td>0</td>\n",
       "      <td>1</td>\n",
       "      <td>0</td>\n",
       "      <td>0</td>\n",
       "      <td>0</td>\n",
       "    </tr>\n",
       "  </tbody>\n",
       "</table>\n",
       "</div>"
      ],
      "text/plain": [
       "   m_1  m_2  m_3  m_4  m_5  m_6\n",
       "0    0    0    1    0    0    0\n",
       "1    0    0    0    0    0    1\n",
       "2    1    0    0    0    0    0\n",
       "3    0    0    0    1    0    0\n",
       "4    0    0    1    0    0    0"
      ]
     },
     "execution_count": 50,
     "metadata": {},
     "output_type": "execute_result"
    }
   ],
   "source": [
    "month_train.head()"
   ]
  },
  {
   "cell_type": "code",
   "execution_count": 51,
   "metadata": {
    "collapsed": true
   },
   "outputs": [],
   "source": [
    "train = train.drop(['id','vendor_id','store_and_fwd_flag','dayofweek','hr_categori','minute',\n",
    "                    'month','day','hr','pickup_cluster','dropoff_cluster','dropoff_datetime', 'trip_duration'],axis = 1)\n",
    "Test_id = test['id']\n",
    "test = test.drop(['id','vendor_id','store_and_fwd_flag','dayofweek','hr_categori','minute',\n",
    "                  'month','day','hr','pickup_cluster','dropoff_cluster'], axis = 1)\n"
   ]
  },
  {
   "cell_type": "markdown",
   "metadata": {},
   "source": [
    "## Modeling"
   ]
  },
  {
   "cell_type": "code",
   "execution_count": 52,
   "metadata": {
    "collapsed": true
   },
   "outputs": [],
   "source": [
    "Train_Master = pd.concat([train,\n",
    "                          vendor_train,\n",
    "                          store_and_fwd_flag_train,\n",
    "                          cluster_pickup_train,\n",
    "                          cluster_dropoff_train,\n",
    "                         month_train,\n",
    "#                          dom_train,\n",
    "#                           hour_train,\n",
    "                          hour_cate_train,\n",
    "                          dow_train\n",
    "                         ], axis=1)"
   ]
  },
  {
   "cell_type": "code",
   "execution_count": 53,
   "metadata": {
    "collapsed": true
   },
   "outputs": [],
   "source": [
    "Test_master = pd.concat([test, \n",
    "                         vendor_test,\n",
    "                         store_and_fwd_flag_test,\n",
    "                         cluster_pickup_test,\n",
    "                         cluster_dropoff_test,\n",
    "                         month_test,\n",
    "#                          dom_test,\n",
    "#                           hour_test,\n",
    "                         hour_cate_test,\n",
    "                          dow_test\n",
    "                        ], axis=1)"
   ]
  },
  {
   "cell_type": "code",
   "execution_count": 54,
   "metadata": {
    "collapsed": true
   },
   "outputs": [],
   "source": [
    "Train_Master = Train_Master.drop(['pickup_datetime'],axis = 1)\n",
    "Test_master = Test_master.drop(['pickup_datetime'],axis = 1)\n"
   ]
  },
  {
   "cell_type": "code",
   "execution_count": 55,
   "metadata": {
    "collapsed": true
   },
   "outputs": [],
   "source": [
    "Train, Test = train_test_split(Train_Master, test_size = 0.01)\n"
   ]
  },
  {
   "cell_type": "code",
   "execution_count": 56,
   "metadata": {
    "collapsed": true
   },
   "outputs": [],
   "source": [
    "X_train = Train.drop(['log_trip_duration'], axis=1)\n",
    "Y_train = Train[\"log_trip_duration\"]\n",
    "X_test = Test.drop(['log_trip_duration'], axis=1)\n",
    "Y_test = Test[\"log_trip_duration\"]\n",
    "\n",
    "Y_test = Y_test.reset_index().drop('index',axis = 1)\n",
    "Y_train = Y_train.reset_index().drop('index',axis = 1)\n"
   ]
  },
  {
   "cell_type": "code",
   "execution_count": 57,
   "metadata": {
    "collapsed": true
   },
   "outputs": [],
   "source": [
    "dtrain = xgb.DMatrix(X_train, label=Y_train)\n",
    "dvalid = xgb.DMatrix(X_test, label=Y_test)\n",
    "dtest = xgb.DMatrix(Test_master)\n",
    "watchlist = [(dtrain, 'train'), (dvalid, 'valid')]"
   ]
  },
  {
   "cell_type": "code",
   "execution_count": 58,
   "metadata": {
    "scrolled": true
   },
   "outputs": [
    {
     "name": "stdout",
     "output_type": "stream",
     "text": [
      "[0]\ttrain-rmse:5.72047\tvalid-rmse:5.73117\n",
      "Multiple eval metrics have been passed: 'valid-rmse' will be used for early stopping.\n",
      "\n",
      "Will train until valid-rmse hasn't improved in 5 rounds.\n",
      "[1]\ttrain-rmse:5.43631\tvalid-rmse:5.44664\n",
      "[2]\ttrain-rmse:5.16655\tvalid-rmse:5.1765\n",
      "[3]\ttrain-rmse:4.91029\tvalid-rmse:4.91987\n",
      "[4]\ttrain-rmse:4.6669\tvalid-rmse:4.67614\n",
      "[5]\ttrain-rmse:4.43578\tvalid-rmse:4.44463\n",
      "[6]\ttrain-rmse:4.21626\tvalid-rmse:4.22479\n",
      "[7]\ttrain-rmse:4.00786\tvalid-rmse:4.01608\n",
      "[8]\ttrain-rmse:3.80999\tvalid-rmse:3.81789\n",
      "[9]\ttrain-rmse:3.6222\tvalid-rmse:3.62972\n",
      "[10]\ttrain-rmse:3.4439\tvalid-rmse:3.45113\n",
      "[11]\ttrain-rmse:3.27462\tvalid-rmse:3.28151\n",
      "[12]\ttrain-rmse:3.11407\tvalid-rmse:3.12063\n",
      "[13]\ttrain-rmse:2.96161\tvalid-rmse:2.9678\n",
      "[14]\ttrain-rmse:2.81684\tvalid-rmse:2.82271\n",
      "[15]\ttrain-rmse:2.67949\tvalid-rmse:2.68512\n",
      "[16]\ttrain-rmse:2.54923\tvalid-rmse:2.55454\n",
      "[17]\ttrain-rmse:2.42567\tvalid-rmse:2.43074\n",
      "[18]\ttrain-rmse:2.3085\tvalid-rmse:2.31326\n",
      "[19]\ttrain-rmse:2.19764\tvalid-rmse:2.20206\n",
      "[20]\ttrain-rmse:2.09214\tvalid-rmse:2.09629\n",
      "[21]\ttrain-rmse:1.99207\tvalid-rmse:1.99596\n",
      "[22]\ttrain-rmse:1.89739\tvalid-rmse:1.90097\n",
      "[23]\ttrain-rmse:1.80749\tvalid-rmse:1.81086\n",
      "[24]\ttrain-rmse:1.72235\tvalid-rmse:1.72543\n",
      "[25]\ttrain-rmse:1.64173\tvalid-rmse:1.64452\n",
      "[26]\ttrain-rmse:1.56545\tvalid-rmse:1.56797\n",
      "[27]\ttrain-rmse:1.49313\tvalid-rmse:1.49537\n",
      "[28]\ttrain-rmse:1.42472\tvalid-rmse:1.4267\n",
      "[29]\ttrain-rmse:1.36046\tvalid-rmse:1.36218\n",
      "[30]\ttrain-rmse:1.29932\tvalid-rmse:1.30079\n",
      "[31]\ttrain-rmse:1.24155\tvalid-rmse:1.24275\n",
      "[32]\ttrain-rmse:1.18694\tvalid-rmse:1.18782\n",
      "[33]\ttrain-rmse:1.1355\tvalid-rmse:1.13614\n",
      "[34]\ttrain-rmse:1.08679\tvalid-rmse:1.08709\n",
      "[35]\ttrain-rmse:1.04099\tvalid-rmse:1.041\n",
      "[36]\ttrain-rmse:0.997755\tvalid-rmse:0.99745\n",
      "[37]\ttrain-rmse:0.957017\tvalid-rmse:0.956351\n",
      "[38]\ttrain-rmse:0.918678\tvalid-rmse:0.917683\n",
      "[39]\ttrain-rmse:0.882708\tvalid-rmse:0.881349\n",
      "[40]\ttrain-rmse:0.848843\tvalid-rmse:0.847146\n",
      "[41]\ttrain-rmse:0.817151\tvalid-rmse:0.81515\n",
      "[42]\ttrain-rmse:0.787331\tvalid-rmse:0.785004\n",
      "[43]\ttrain-rmse:0.759441\tvalid-rmse:0.756777\n",
      "[44]\ttrain-rmse:0.733277\tvalid-rmse:0.730294\n",
      "[45]\ttrain-rmse:0.708853\tvalid-rmse:0.705547\n",
      "[46]\ttrain-rmse:0.686011\tvalid-rmse:0.682357\n",
      "[47]\ttrain-rmse:0.664691\tvalid-rmse:0.660727\n",
      "[48]\ttrain-rmse:0.644808\tvalid-rmse:0.640503\n",
      "[49]\ttrain-rmse:0.626361\tvalid-rmse:0.621765\n",
      "[50]\ttrain-rmse:0.609172\tvalid-rmse:0.604278\n",
      "[51]\ttrain-rmse:0.593236\tvalid-rmse:0.588038\n",
      "[52]\ttrain-rmse:0.578424\tvalid-rmse:0.572888\n",
      "[53]\ttrain-rmse:0.564738\tvalid-rmse:0.558947\n",
      "[54]\ttrain-rmse:0.552144\tvalid-rmse:0.546068\n",
      "[55]\ttrain-rmse:0.540596\tvalid-rmse:0.534221\n",
      "[56]\ttrain-rmse:0.529746\tvalid-rmse:0.52312\n",
      "[57]\ttrain-rmse:0.519824\tvalid-rmse:0.512993\n",
      "[58]\ttrain-rmse:0.510617\tvalid-rmse:0.503529\n",
      "[59]\ttrain-rmse:0.502198\tvalid-rmse:0.49498\n",
      "[60]\ttrain-rmse:0.494439\tvalid-rmse:0.486986\n",
      "[61]\ttrain-rmse:0.487338\tvalid-rmse:0.479732\n",
      "[62]\ttrain-rmse:0.48075\tvalid-rmse:0.472947\n",
      "[63]\ttrain-rmse:0.47473\tvalid-rmse:0.466718\n",
      "[64]\ttrain-rmse:0.469159\tvalid-rmse:0.460998\n",
      "[65]\ttrain-rmse:0.464129\tvalid-rmse:0.455769\n",
      "[66]\ttrain-rmse:0.459502\tvalid-rmse:0.450988\n",
      "[67]\ttrain-rmse:0.455193\tvalid-rmse:0.446603\n",
      "[68]\ttrain-rmse:0.451285\tvalid-rmse:0.442518\n",
      "[69]\ttrain-rmse:0.447686\tvalid-rmse:0.438758\n",
      "[70]\ttrain-rmse:0.444441\tvalid-rmse:0.435469\n",
      "[71]\ttrain-rmse:0.441435\tvalid-rmse:0.432337\n",
      "[72]\ttrain-rmse:0.438674\tvalid-rmse:0.429522\n",
      "[73]\ttrain-rmse:0.436156\tvalid-rmse:0.4269\n",
      "[74]\ttrain-rmse:0.433865\tvalid-rmse:0.424509\n",
      "[75]\ttrain-rmse:0.431684\tvalid-rmse:0.422249\n",
      "[76]\ttrain-rmse:0.429791\tvalid-rmse:0.420264\n",
      "[77]\ttrain-rmse:0.428067\tvalid-rmse:0.418478\n",
      "[78]\ttrain-rmse:0.426371\tvalid-rmse:0.416706\n",
      "[79]\ttrain-rmse:0.424938\tvalid-rmse:0.415294\n",
      "[80]\ttrain-rmse:0.423582\tvalid-rmse:0.413878\n",
      "[81]\ttrain-rmse:0.422384\tvalid-rmse:0.412615\n",
      "[82]\ttrain-rmse:0.421271\tvalid-rmse:0.41147\n",
      "[83]\ttrain-rmse:0.420114\tvalid-rmse:0.410291\n",
      "[84]\ttrain-rmse:0.419118\tvalid-rmse:0.409244\n",
      "[85]\ttrain-rmse:0.418229\tvalid-rmse:0.408285\n",
      "[86]\ttrain-rmse:0.417357\tvalid-rmse:0.407421\n",
      "[87]\ttrain-rmse:0.416623\tvalid-rmse:0.406642\n",
      "[88]\ttrain-rmse:0.41599\tvalid-rmse:0.405972\n",
      "[89]\ttrain-rmse:0.415361\tvalid-rmse:0.405403\n",
      "[90]\ttrain-rmse:0.414796\tvalid-rmse:0.404901\n",
      "[91]\ttrain-rmse:0.414244\tvalid-rmse:0.404328\n",
      "[92]\ttrain-rmse:0.413717\tvalid-rmse:0.403787\n",
      "[93]\ttrain-rmse:0.413134\tvalid-rmse:0.403178\n",
      "[94]\ttrain-rmse:0.41271\tvalid-rmse:0.402834\n",
      "[95]\ttrain-rmse:0.412255\tvalid-rmse:0.40242\n",
      "[96]\ttrain-rmse:0.411863\tvalid-rmse:0.402106\n",
      "[97]\ttrain-rmse:0.411424\tvalid-rmse:0.401698\n",
      "[98]\ttrain-rmse:0.41102\tvalid-rmse:0.401273\n",
      "[99]\ttrain-rmse:0.410697\tvalid-rmse:0.40094\n",
      "[100]\ttrain-rmse:0.410284\tvalid-rmse:0.400556\n",
      "[101]\ttrain-rmse:0.410009\tvalid-rmse:0.40034\n",
      "[102]\ttrain-rmse:0.409734\tvalid-rmse:0.400095\n",
      "[103]\ttrain-rmse:0.409486\tvalid-rmse:0.399865\n",
      "[104]\ttrain-rmse:0.409295\tvalid-rmse:0.399706\n",
      "[105]\ttrain-rmse:0.409043\tvalid-rmse:0.399459\n",
      "[106]\ttrain-rmse:0.408729\tvalid-rmse:0.399132\n",
      "[107]\ttrain-rmse:0.408508\tvalid-rmse:0.398943\n",
      "[108]\ttrain-rmse:0.408258\tvalid-rmse:0.398715\n",
      "[109]\ttrain-rmse:0.408076\tvalid-rmse:0.39854\n",
      "[110]\ttrain-rmse:0.407862\tvalid-rmse:0.398315\n",
      "[111]\ttrain-rmse:0.407717\tvalid-rmse:0.398241\n",
      "[112]\ttrain-rmse:0.407451\tvalid-rmse:0.397974\n",
      "[113]\ttrain-rmse:0.406865\tvalid-rmse:0.397425\n",
      "[114]\ttrain-rmse:0.406671\tvalid-rmse:0.397236\n",
      "[115]\ttrain-rmse:0.406529\tvalid-rmse:0.397109\n",
      "[116]\ttrain-rmse:0.406388\tvalid-rmse:0.396984\n",
      "[117]\ttrain-rmse:0.406227\tvalid-rmse:0.39685\n",
      "[118]\ttrain-rmse:0.405971\tvalid-rmse:0.396573\n",
      "[119]\ttrain-rmse:0.40579\tvalid-rmse:0.396376\n",
      "[120]\ttrain-rmse:0.405412\tvalid-rmse:0.395991\n",
      "[121]\ttrain-rmse:0.405268\tvalid-rmse:0.395864\n",
      "[122]\ttrain-rmse:0.405104\tvalid-rmse:0.395702\n",
      "[123]\ttrain-rmse:0.405002\tvalid-rmse:0.395655\n",
      "[124]\ttrain-rmse:0.404778\tvalid-rmse:0.395393\n",
      "[125]\ttrain-rmse:0.404336\tvalid-rmse:0.394962\n",
      "[126]\ttrain-rmse:0.404165\tvalid-rmse:0.394772\n",
      "[127]\ttrain-rmse:0.40406\tvalid-rmse:0.39469\n",
      "[128]\ttrain-rmse:0.403937\tvalid-rmse:0.394575\n",
      "[129]\ttrain-rmse:0.403792\tvalid-rmse:0.394447\n",
      "[130]\ttrain-rmse:0.403649\tvalid-rmse:0.394272\n",
      "[131]\ttrain-rmse:0.40354\tvalid-rmse:0.394193\n",
      "[132]\ttrain-rmse:0.40329\tvalid-rmse:0.393964\n",
      "[133]\ttrain-rmse:0.403091\tvalid-rmse:0.393764\n",
      "[134]\ttrain-rmse:0.402748\tvalid-rmse:0.393401\n",
      "[135]\ttrain-rmse:0.40265\tvalid-rmse:0.39335\n",
      "[136]\ttrain-rmse:0.402521\tvalid-rmse:0.393236\n",
      "[137]\ttrain-rmse:0.402391\tvalid-rmse:0.393139\n",
      "[138]\ttrain-rmse:0.402305\tvalid-rmse:0.393029\n",
      "[139]\ttrain-rmse:0.402167\tvalid-rmse:0.392833\n",
      "[140]\ttrain-rmse:0.402058\tvalid-rmse:0.392782\n",
      "[141]\ttrain-rmse:0.401985\tvalid-rmse:0.392755\n",
      "[142]\ttrain-rmse:0.401918\tvalid-rmse:0.392693\n",
      "[143]\ttrain-rmse:0.401634\tvalid-rmse:0.39241\n",
      "[144]\ttrain-rmse:0.401474\tvalid-rmse:0.392272\n",
      "[145]\ttrain-rmse:0.40141\tvalid-rmse:0.392263\n",
      "[146]\ttrain-rmse:0.401313\tvalid-rmse:0.392208\n",
      "[147]\ttrain-rmse:0.401251\tvalid-rmse:0.392139\n",
      "[148]\ttrain-rmse:0.401174\tvalid-rmse:0.39209\n",
      "[149]\ttrain-rmse:0.400908\tvalid-rmse:0.391834\n",
      "[150]\ttrain-rmse:0.400763\tvalid-rmse:0.391694\n",
      "[151]\ttrain-rmse:0.400648\tvalid-rmse:0.391593\n",
      "[152]\ttrain-rmse:0.400556\tvalid-rmse:0.391578\n",
      "[153]\ttrain-rmse:0.400392\tvalid-rmse:0.391421\n",
      "[154]\ttrain-rmse:0.400295\tvalid-rmse:0.391343\n",
      "[155]\ttrain-rmse:0.40016\tvalid-rmse:0.391236\n",
      "[156]\ttrain-rmse:0.40006\tvalid-rmse:0.391129\n",
      "[157]\ttrain-rmse:0.399959\tvalid-rmse:0.39106\n",
      "[158]\ttrain-rmse:0.399851\tvalid-rmse:0.390969\n",
      "[159]\ttrain-rmse:0.399761\tvalid-rmse:0.390925\n",
      "[160]\ttrain-rmse:0.399616\tvalid-rmse:0.390842\n",
      "[161]\ttrain-rmse:0.399567\tvalid-rmse:0.390811\n",
      "[162]\ttrain-rmse:0.39948\tvalid-rmse:0.390763\n",
      "[163]\ttrain-rmse:0.399346\tvalid-rmse:0.390637\n",
      "[164]\ttrain-rmse:0.39916\tvalid-rmse:0.390495\n",
      "[165]\ttrain-rmse:0.399064\tvalid-rmse:0.39046\n",
      "[166]\ttrain-rmse:0.398966\tvalid-rmse:0.390467\n",
      "[167]\ttrain-rmse:0.398763\tvalid-rmse:0.390291\n",
      "[168]\ttrain-rmse:0.398684\tvalid-rmse:0.390323\n",
      "[169]\ttrain-rmse:0.398519\tvalid-rmse:0.390172\n",
      "[170]\ttrain-rmse:0.398423\tvalid-rmse:0.390102\n",
      "[171]\ttrain-rmse:0.39831\tvalid-rmse:0.390019\n",
      "[172]\ttrain-rmse:0.398224\tvalid-rmse:0.389998\n",
      "[173]\ttrain-rmse:0.398091\tvalid-rmse:0.389922\n",
      "[174]\ttrain-rmse:0.397904\tvalid-rmse:0.389741\n",
      "[175]\ttrain-rmse:0.397783\tvalid-rmse:0.38972\n",
      "[176]\ttrain-rmse:0.397691\tvalid-rmse:0.389656\n",
      "[177]\ttrain-rmse:0.397533\tvalid-rmse:0.3895\n",
      "[178]\ttrain-rmse:0.397496\tvalid-rmse:0.389473\n",
      "[179]\ttrain-rmse:0.397409\tvalid-rmse:0.389378\n"
     ]
    },
    {
     "name": "stdout",
     "output_type": "stream",
     "text": [
      "[180]\ttrain-rmse:0.397335\tvalid-rmse:0.389421\n",
      "[181]\ttrain-rmse:0.397263\tvalid-rmse:0.389382\n",
      "[182]\ttrain-rmse:0.397028\tvalid-rmse:0.38911\n",
      "[183]\ttrain-rmse:0.396945\tvalid-rmse:0.389066\n",
      "[184]\ttrain-rmse:0.396888\tvalid-rmse:0.389074\n",
      "[185]\ttrain-rmse:0.396802\tvalid-rmse:0.389077\n",
      "[186]\ttrain-rmse:0.396648\tvalid-rmse:0.388924\n",
      "[187]\ttrain-rmse:0.396456\tvalid-rmse:0.388787\n",
      "[188]\ttrain-rmse:0.396393\tvalid-rmse:0.388748\n",
      "[189]\ttrain-rmse:0.396361\tvalid-rmse:0.388754\n",
      "[190]\ttrain-rmse:0.396299\tvalid-rmse:0.388748\n",
      "[191]\ttrain-rmse:0.396193\tvalid-rmse:0.388713\n",
      "[192]\ttrain-rmse:0.396101\tvalid-rmse:0.388645\n",
      "[193]\ttrain-rmse:0.395984\tvalid-rmse:0.388592\n",
      "[194]\ttrain-rmse:0.395851\tvalid-rmse:0.388462\n",
      "[195]\ttrain-rmse:0.39574\tvalid-rmse:0.388382\n",
      "[196]\ttrain-rmse:0.39559\tvalid-rmse:0.388225\n",
      "[197]\ttrain-rmse:0.395531\tvalid-rmse:0.38821\n",
      "[198]\ttrain-rmse:0.395362\tvalid-rmse:0.388051\n",
      "[199]\ttrain-rmse:0.395299\tvalid-rmse:0.387996\n",
      "[200]\ttrain-rmse:0.395133\tvalid-rmse:0.387871\n",
      "[201]\ttrain-rmse:0.395073\tvalid-rmse:0.387856\n",
      "[202]\ttrain-rmse:0.395005\tvalid-rmse:0.387833\n",
      "[203]\ttrain-rmse:0.394963\tvalid-rmse:0.387808\n",
      "[204]\ttrain-rmse:0.394884\tvalid-rmse:0.387776\n",
      "[205]\ttrain-rmse:0.394838\tvalid-rmse:0.387757\n",
      "[206]\ttrain-rmse:0.394764\tvalid-rmse:0.387697\n",
      "[207]\ttrain-rmse:0.394662\tvalid-rmse:0.387594\n",
      "[208]\ttrain-rmse:0.394576\tvalid-rmse:0.387532\n",
      "[209]\ttrain-rmse:0.39448\tvalid-rmse:0.387434\n",
      "[210]\ttrain-rmse:0.394399\tvalid-rmse:0.387372\n",
      "[211]\ttrain-rmse:0.394364\tvalid-rmse:0.387417\n",
      "[212]\ttrain-rmse:0.394323\tvalid-rmse:0.387397\n",
      "[213]\ttrain-rmse:0.394259\tvalid-rmse:0.387332\n",
      "[214]\ttrain-rmse:0.394186\tvalid-rmse:0.387321\n",
      "[215]\ttrain-rmse:0.394103\tvalid-rmse:0.387273\n",
      "[216]\ttrain-rmse:0.394055\tvalid-rmse:0.387179\n",
      "[217]\ttrain-rmse:0.393969\tvalid-rmse:0.38708\n",
      "[218]\ttrain-rmse:0.393899\tvalid-rmse:0.387056\n",
      "[219]\ttrain-rmse:0.393877\tvalid-rmse:0.387026\n",
      "[220]\ttrain-rmse:0.3938\tvalid-rmse:0.386984\n",
      "[221]\ttrain-rmse:0.393736\tvalid-rmse:0.386918\n",
      "[222]\ttrain-rmse:0.393702\tvalid-rmse:0.386923\n",
      "[223]\ttrain-rmse:0.393487\tvalid-rmse:0.386731\n",
      "[224]\ttrain-rmse:0.393403\tvalid-rmse:0.386675\n",
      "[225]\ttrain-rmse:0.393383\tvalid-rmse:0.386665\n",
      "[226]\ttrain-rmse:0.393321\tvalid-rmse:0.386618\n",
      "[227]\ttrain-rmse:0.393245\tvalid-rmse:0.386575\n",
      "[228]\ttrain-rmse:0.393199\tvalid-rmse:0.386563\n",
      "[229]\ttrain-rmse:0.393135\tvalid-rmse:0.386543\n",
      "[230]\ttrain-rmse:0.393076\tvalid-rmse:0.386503\n",
      "[231]\ttrain-rmse:0.393008\tvalid-rmse:0.386506\n",
      "[232]\ttrain-rmse:0.392933\tvalid-rmse:0.386431\n",
      "[233]\ttrain-rmse:0.392905\tvalid-rmse:0.386432\n",
      "[234]\ttrain-rmse:0.39282\tvalid-rmse:0.386338\n",
      "[235]\ttrain-rmse:0.392769\tvalid-rmse:0.38634\n",
      "[236]\ttrain-rmse:0.392706\tvalid-rmse:0.386296\n",
      "[237]\ttrain-rmse:0.392634\tvalid-rmse:0.386248\n",
      "[238]\ttrain-rmse:0.392584\tvalid-rmse:0.386269\n",
      "[239]\ttrain-rmse:0.392548\tvalid-rmse:0.38627\n",
      "[240]\ttrain-rmse:0.392492\tvalid-rmse:0.386208\n",
      "[241]\ttrain-rmse:0.392401\tvalid-rmse:0.386099\n",
      "[242]\ttrain-rmse:0.392284\tvalid-rmse:0.386028\n",
      "[243]\ttrain-rmse:0.392009\tvalid-rmse:0.385792\n",
      "[244]\ttrain-rmse:0.391946\tvalid-rmse:0.385746\n",
      "[245]\ttrain-rmse:0.391825\tvalid-rmse:0.385664\n",
      "[246]\ttrain-rmse:0.391719\tvalid-rmse:0.385614\n",
      "[247]\ttrain-rmse:0.391664\tvalid-rmse:0.385577\n",
      "[248]\ttrain-rmse:0.39149\tvalid-rmse:0.385412\n",
      "[249]\ttrain-rmse:0.391443\tvalid-rmse:0.385389\n",
      "[250]\ttrain-rmse:0.391343\tvalid-rmse:0.385307\n",
      "[251]\ttrain-rmse:0.391268\tvalid-rmse:0.385235\n",
      "[252]\ttrain-rmse:0.391208\tvalid-rmse:0.385199\n",
      "[253]\ttrain-rmse:0.391156\tvalid-rmse:0.385203\n",
      "[254]\ttrain-rmse:0.391096\tvalid-rmse:0.38513\n",
      "[255]\ttrain-rmse:0.391064\tvalid-rmse:0.385099\n",
      "[256]\ttrain-rmse:0.39091\tvalid-rmse:0.384945\n",
      "[257]\ttrain-rmse:0.390806\tvalid-rmse:0.38486\n",
      "[258]\ttrain-rmse:0.390705\tvalid-rmse:0.384799\n",
      "[259]\ttrain-rmse:0.390623\tvalid-rmse:0.384715\n",
      "[260]\ttrain-rmse:0.39053\tvalid-rmse:0.384623\n",
      "[261]\ttrain-rmse:0.390476\tvalid-rmse:0.3846\n",
      "[262]\ttrain-rmse:0.390423\tvalid-rmse:0.384562\n",
      "[263]\ttrain-rmse:0.390335\tvalid-rmse:0.384483\n",
      "[264]\ttrain-rmse:0.390298\tvalid-rmse:0.384457\n",
      "[265]\ttrain-rmse:0.390222\tvalid-rmse:0.384384\n",
      "[266]\ttrain-rmse:0.390154\tvalid-rmse:0.384393\n",
      "[267]\ttrain-rmse:0.39009\tvalid-rmse:0.384414\n",
      "[268]\ttrain-rmse:0.390057\tvalid-rmse:0.384403\n",
      "[269]\ttrain-rmse:0.389972\tvalid-rmse:0.384323\n",
      "[270]\ttrain-rmse:0.389888\tvalid-rmse:0.384268\n",
      "[271]\ttrain-rmse:0.389873\tvalid-rmse:0.384248\n",
      "[272]\ttrain-rmse:0.389837\tvalid-rmse:0.384232\n",
      "[273]\ttrain-rmse:0.38969\tvalid-rmse:0.384128\n",
      "[274]\ttrain-rmse:0.389565\tvalid-rmse:0.383993\n",
      "[275]\ttrain-rmse:0.389517\tvalid-rmse:0.383947\n",
      "[276]\ttrain-rmse:0.389443\tvalid-rmse:0.383949\n",
      "[277]\ttrain-rmse:0.389283\tvalid-rmse:0.383834\n",
      "[278]\ttrain-rmse:0.389234\tvalid-rmse:0.383826\n",
      "[279]\ttrain-rmse:0.389157\tvalid-rmse:0.383834\n",
      "[280]\ttrain-rmse:0.389109\tvalid-rmse:0.383802\n",
      "[281]\ttrain-rmse:0.389024\tvalid-rmse:0.383744\n",
      "[282]\ttrain-rmse:0.388968\tvalid-rmse:0.383707\n",
      "[283]\ttrain-rmse:0.388891\tvalid-rmse:0.383664\n",
      "[284]\ttrain-rmse:0.388843\tvalid-rmse:0.383659\n",
      "[285]\ttrain-rmse:0.388794\tvalid-rmse:0.383625\n",
      "[286]\ttrain-rmse:0.388764\tvalid-rmse:0.383628\n",
      "[287]\ttrain-rmse:0.388747\tvalid-rmse:0.38361\n",
      "[288]\ttrain-rmse:0.388707\tvalid-rmse:0.383613\n",
      "[289]\ttrain-rmse:0.388657\tvalid-rmse:0.383548\n",
      "[290]\ttrain-rmse:0.388647\tvalid-rmse:0.383538\n",
      "[291]\ttrain-rmse:0.388577\tvalid-rmse:0.383537\n",
      "[292]\ttrain-rmse:0.388446\tvalid-rmse:0.383461\n",
      "[293]\ttrain-rmse:0.388308\tvalid-rmse:0.383317\n",
      "[294]\ttrain-rmse:0.388251\tvalid-rmse:0.383324\n",
      "[295]\ttrain-rmse:0.388224\tvalid-rmse:0.383295\n",
      "[296]\ttrain-rmse:0.388211\tvalid-rmse:0.383285\n",
      "[297]\ttrain-rmse:0.388124\tvalid-rmse:0.383241\n",
      "[298]\ttrain-rmse:0.388059\tvalid-rmse:0.383245\n",
      "[299]\ttrain-rmse:0.388015\tvalid-rmse:0.383212\n",
      "[300]\ttrain-rmse:0.387895\tvalid-rmse:0.38318\n",
      "[301]\ttrain-rmse:0.387859\tvalid-rmse:0.383162\n",
      "[302]\ttrain-rmse:0.387814\tvalid-rmse:0.383164\n",
      "[303]\ttrain-rmse:0.387775\tvalid-rmse:0.383125\n",
      "[304]\ttrain-rmse:0.387721\tvalid-rmse:0.383115\n",
      "[305]\ttrain-rmse:0.387676\tvalid-rmse:0.38307\n",
      "[306]\ttrain-rmse:0.387624\tvalid-rmse:0.383035\n",
      "[307]\ttrain-rmse:0.387574\tvalid-rmse:0.383022\n",
      "[308]\ttrain-rmse:0.387543\tvalid-rmse:0.383004\n",
      "[309]\ttrain-rmse:0.387481\tvalid-rmse:0.382959\n",
      "[310]\ttrain-rmse:0.387451\tvalid-rmse:0.382942\n",
      "[311]\ttrain-rmse:0.387427\tvalid-rmse:0.382956\n",
      "[312]\ttrain-rmse:0.387385\tvalid-rmse:0.382973\n",
      "[313]\ttrain-rmse:0.387333\tvalid-rmse:0.382958\n",
      "[314]\ttrain-rmse:0.387253\tvalid-rmse:0.382924\n",
      "[315]\ttrain-rmse:0.387171\tvalid-rmse:0.382899\n",
      "[316]\ttrain-rmse:0.387145\tvalid-rmse:0.382905\n",
      "[317]\ttrain-rmse:0.387119\tvalid-rmse:0.382931\n",
      "[318]\ttrain-rmse:0.387071\tvalid-rmse:0.382919\n",
      "[319]\ttrain-rmse:0.387008\tvalid-rmse:0.382926\n",
      "[320]\ttrain-rmse:0.386903\tvalid-rmse:0.382839\n",
      "[321]\ttrain-rmse:0.386847\tvalid-rmse:0.382808\n",
      "[322]\ttrain-rmse:0.386748\tvalid-rmse:0.382732\n",
      "[323]\ttrain-rmse:0.386701\tvalid-rmse:0.382751\n",
      "[324]\ttrain-rmse:0.386615\tvalid-rmse:0.382704\n",
      "[325]\ttrain-rmse:0.386574\tvalid-rmse:0.382686\n",
      "[326]\ttrain-rmse:0.386534\tvalid-rmse:0.382667\n",
      "[327]\ttrain-rmse:0.386481\tvalid-rmse:0.382646\n",
      "[328]\ttrain-rmse:0.386414\tvalid-rmse:0.382593\n",
      "[329]\ttrain-rmse:0.386392\tvalid-rmse:0.382578\n",
      "[330]\ttrain-rmse:0.386328\tvalid-rmse:0.382543\n",
      "[331]\ttrain-rmse:0.386306\tvalid-rmse:0.382534\n",
      "[332]\ttrain-rmse:0.386267\tvalid-rmse:0.382554\n",
      "[333]\ttrain-rmse:0.386209\tvalid-rmse:0.382533\n",
      "[334]\ttrain-rmse:0.386143\tvalid-rmse:0.382515\n",
      "[335]\ttrain-rmse:0.386116\tvalid-rmse:0.38251\n",
      "[336]\ttrain-rmse:0.386086\tvalid-rmse:0.382525\n",
      "[337]\ttrain-rmse:0.386031\tvalid-rmse:0.382518\n",
      "[338]\ttrain-rmse:0.385985\tvalid-rmse:0.38249\n",
      "[339]\ttrain-rmse:0.38594\tvalid-rmse:0.38246\n",
      "[340]\ttrain-rmse:0.385884\tvalid-rmse:0.382513\n",
      "[341]\ttrain-rmse:0.385831\tvalid-rmse:0.382502\n",
      "[342]\ttrain-rmse:0.385795\tvalid-rmse:0.382484\n",
      "[343]\ttrain-rmse:0.385767\tvalid-rmse:0.382491\n",
      "[344]\ttrain-rmse:0.385714\tvalid-rmse:0.382478\n",
      "Stopping. Best iteration:\n",
      "[339]\ttrain-rmse:0.38594\tvalid-rmse:0.38246\n",
      "\n",
      "Modeling RMSLE 0.38246\n"
     ]
    }
   ],
   "source": [
    "xgb_pars = {\n",
    "    'objective':          'reg:linear',\n",
    "    'learning_rate':      0.05,\n",
    "    'max_depth':          7,\n",
    "    'subsample':          0.8,\n",
    "    'colsample_bytree':   0.7,\n",
    "    'colsample_bylevel':  0.7,\n",
    "    'silent':             1,\n",
    "    'reg_alpha':          1,\n",
    "}\n",
    "\n",
    "model = xgb.train(xgb_pars, dtrain, 500, watchlist, early_stopping_rounds=5,\n",
    "      maximize=False, verbose_eval=1)\n",
    "print('Modeling RMSLE %.5f' % model.best_score)"
   ]
  },
  {
   "cell_type": "code",
   "execution_count": 59,
   "metadata": {
    "collapsed": true
   },
   "outputs": [],
   "source": [
    "fscores = model.get_fscore()"
   ]
  },
  {
   "cell_type": "code",
   "execution_count": 60,
   "metadata": {
    "collapsed": true
   },
   "outputs": [],
   "source": [
    "#top_50_list = sorted(fscores, key=fscores.get, reverse=True)[:50]"
   ]
  },
  {
   "cell_type": "code",
   "execution_count": 61,
   "metadata": {},
   "outputs": [
    {
     "data": {
      "text/plain": [
       "<matplotlib.axes._subplots.AxesSubplot at 0x13a0cff5630>"
      ]
     },
     "execution_count": 61,
     "metadata": {},
     "output_type": "execute_result"
    },
    {
     "data": {
      "image/png": "[encoded data removed]",
      "text/plain": [
       "<matplotlib.figure.Figure at 0x13a231ebb00>"
      ]
     },
     "metadata": {},
     "output_type": "display_data"
    }
   ],
   "source": [
    "xgb.plot_importance(model, max_num_features=70, height=0.9)\n"
   ]
  },
  {
   "cell_type": "code",
   "execution_count": 62,
   "metadata": {
    "collapsed": true
   },
   "outputs": [],
   "source": [
    "pred = model.predict(dtest)\n",
    "# pred = xgb_param_30.predict(dtest)\n",
    "pred = np.exp(pred) - 1"
   ]
  },
  {
   "cell_type": "code",
   "execution_count": 63,
   "metadata": {
    "collapsed": true
   },
   "outputs": [],
   "source": [
    "submission = pd.concat([Test_id, pd.DataFrame(pred)], axis=1)\n",
    "submission.columns = ['id','trip_duration']\n",
    "submission['trip_duration'] = submission.apply(lambda x : 1 if (x['trip_duration'] <= 0) else x['trip_duration'], axis = 1)\n",
    "submission.to_csv(\"submission.csv\", index=False)\n"
   ]
  },
  {
   "cell_type": "code",
   "execution_count": null,
   "metadata": {
    "collapsed": true
   },
   "outputs": [],
   "source": []
  },
  {
   "cell_type": "code",
   "execution_count": null,
   "metadata": {
    "collapsed": true
   },
   "outputs": [],
   "source": []
  }
 ],
 "metadata": {
  "kernelspec": {
   "display_name": "Python 3",
   "language": "python",
   "name": "python3"
  },
  "language_info": {
   "codemirror_mode": {
    "name": "ipython",
    "version": 3
   },
   "file_extension": ".py",
   "mimetype": "text/x-python",
   "name": "python",
   "nbconvert_exporter": "python",
   "pygments_lexer": "ipython3",
   "version": "3.6.5"
  }
 },
 "nbformat": 4,
 "nbformat_minor": 2
}
